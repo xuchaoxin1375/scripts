{
 "cells": [
  {
   "cell_type": "code",
   "execution_count": null,
   "id": "b6931478",
   "metadata": {},
   "outputs": [],
   "source": [
    "import pandas as pd\n",
    "import glob\n",
    "import os\n",
    "# pd.read_csv()\n",
    "# 读取指定目录下的所有csv文件(格式相同),将其合并为一个DataFrame\n",
    "\n",
    "# 指定目录路径\n",
    "dir = './'  # 替换为实际的目录路径\n",
    "\n",
    "# 获取目录下所有csv文件\n",
    "csv_files = glob.glob(os.path.join(dir, \"*.csv\"))\n",
    "\n",
    "# 读取所有csv文件并合并\n",
    "dataframes = []\n",
    "for file in csv_files:\n",
    "    df = pd.read_csv(file)\n",
    "    dataframes.append(df)\n",
    "\n",
    "# 合并所有DataFrame\n",
    "merged_df = pd.concat(dataframes, ignore_index=True)\n",
    "\n",
    "# 显示合并后的数据\n",
    "print(merged_df)"
   ]
  },
  {
   "cell_type": "code",
   "execution_count": null,
   "id": "cb5c9823",
   "metadata": {},
   "outputs": [],
   "source": [
    "merged_df"
   ]
  },
  {
   "cell_type": "code",
   "execution_count": null,
   "id": "b9d92690",
   "metadata": {},
   "outputs": [],
   "source": [
    "# 过滤出:如果产品描述和产品名称(Name,Description)取值一样的行\n",
    "filtered_df = merged_df[merged_df['Name'] == merged_df['Description']]\n",
    "\n",
    "# 显示过滤后的数据\n",
    "filtered_df"
   ]
  },
  {
   "cell_type": "code",
   "execution_count": null,
   "id": "98982ddf",
   "metadata": {},
   "outputs": [],
   "source": [
    "filtered_df.to_csv(\"filtered_df.csv\")"
   ]
  },
  {
   "cell_type": "code",
   "execution_count": null,
   "id": "f61fdef3",
   "metadata": {},
   "outputs": [],
   "source": []
  }
 ],
 "metadata": {
  "kernelspec": {
   "display_name": "base",
   "language": "python",
   "name": "python3"
  },
  "language_info": {
   "codemirror_mode": {
    "name": "ipython",
    "version": 3
   },
   "file_extension": ".py",
   "mimetype": "text/x-python",
   "name": "python",
   "nbconvert_exporter": "python",
   "pygments_lexer": "ipython3",
   "version": "3.12.7"
  }
 },
 "nbformat": 4,
 "nbformat_minor": 5
}
