{
 "cells": [
  {
   "cell_type": "code",
   "execution_count": 19,
   "id": "3e7e9d8e",
   "metadata": {},
   "outputs": [],
   "source": [
    "import pandas as pd\n"
   ]
  },
  {
   "cell_type": "code",
   "execution_count": 20,
   "id": "00d457a3",
   "metadata": {},
   "outputs": [],
   "source": [
    "df=pd.read_csv('./simm_fishing/us-simmsfishing.shop.csv')"
   ]
  },
  {
   "cell_type": "code",
   "execution_count": 21,
   "id": "839e3893",
   "metadata": {},
   "outputs": [
    {
     "data": {
      "application/vnd.microsoft.datawrangler.viewer.v0+json": {
       "columns": [
        {
         "name": "index",
         "rawType": "int64",
         "type": "integer"
        },
        {
         "name": "SKU",
         "rawType": "object",
         "type": "string"
        },
        {
         "name": "Name",
         "rawType": "object",
         "type": "string"
        },
        {
         "name": "Categories",
         "rawType": "object",
         "type": "string"
        },
        {
         "name": "Regular price",
         "rawType": "float64",
         "type": "float"
        },
        {
         "name": "Sale price",
         "rawType": "float64",
         "type": "float"
        },
        {
         "name": "Attribute 1 value(s)",
         "rawType": "object",
         "type": "string"
        },
        {
         "name": "Attribute 1 name",
         "rawType": "object",
         "type": "string"
        },
        {
         "name": "Images",
         "rawType": "object",
         "type": "string"
        },
        {
         "name": "ImagesUrl",
         "rawType": "float64",
         "type": "float"
        },
        {
         "name": "Tags",
         "rawType": "float64",
         "type": "float"
        },
        {
         "name": "PageUrl",
         "rawType": "object",
         "type": "string"
        },
        {
         "name": "Description",
         "rawType": "object",
         "type": "string"
        }
       ],
       "conversionMethod": "pd.DataFrame",
       "ref": "dea9312a-2b08-4f58-aa68-a08beeac7042",
       "rows": [
        [
         "0",
         "SK0000001-US",
         "Selway Life Vest",
         "WADERS",
         "250.0",
         "62.5",
         "color#Slate~   Size#XS/S|M/L|XL/2XL",
         "mycustom",
         "\"https://cdn.staticsaa.com/uploads/68512/cart/resources/20231215/E9B46915-2C6B-37B5-AE83-36258E41023A.jpg\",\"https://cdn.staticsaa.com/uploads/68512/cart/resources/20231215/DD4FC691-7DBC-35C7-D2E7-2B1DFCC19D82.jpg\",\"https://cdn.staticsaa.com/uploads/68512/cart/resources/20231215/3B0A8295-916B-50B4-47C6-73AE1BD5B3E7.jpg\",\"https://cdn.staticsaa.com/uploads/68512/cart/resources/20231215/A639E13A-BF1A-DE20-416F-A16E560118D6.jpg\",\"https://cdn.staticsaa.com/uploads/68512/cart/resources/20231215/23579840-6EA9-24A7-1AD6-1245177A0BCD.jpg\",\"https://cdn.staticsaa.com/uploads/68512/cart/resources/20231215/613AE246-6685-1217-0F32-01FBF52DE7EA.jpg\",\"https://cdn.staticsaa.com/uploads/68512/cart/resources/20231215/87D76E16-8EEE-61B3-B950-E9DA9971884A.jpg\",\"https://cdn.staticsaa.com/uploads/68512/cart/resources/20231215/D0762118-1EDD-4B87-F5CA-0031803E508D.jpg\",\"https://cdn.staticsaa.com/uploads/68512/cart/resources/20231215/3130564A-6808-A7A9-F422-DCB8106F453F.jpg\",\"https://cdn.staticsaa.com/uploads/68512/cart/resources/20231215/7BA47E7A-602B-737A-9546-BEF464FAF9AC.jpg\"",
         null,
         null,
         "https://us-simmsfishing.shop/collections/waders/products/selway-life-vest_13c1a957?data_from=collection_detail",
         "<div> <p>The ultimate life vest for anglers, the Selway offers ample storage and numerous fishy features in a comfortable, durable and breathable package.</p> <br><ul> <li>Heavy-duty 210-denier nylon ripstop shell fabric</li> <li>Internal foam contouring and articulated design provide all-day comfort</li> <li>Three large zippered storage pockets; two handwarmer pockets with fleece lining</li> <li>Built-in retractor for nipper or tool attachment, integrated loop fly patch and laser cut lash point for knife attachment</li> <li>\"Third hand\" loop and tab for easy rigging</li> <li>Unisex Sizing: <strong>XS/S, M/L, XL/2XL</strong></li> <li>Multiple adjustment points for customizing fit</li> <li>Seatback:&nbsp;<span>Thin, full back foam designed for comfort with high seatbacks</span></li> <li>Certified for use in the <strong>US and Canada</strong></li> <li>Harmonized (US Coast Guard/Transport Canada) approved</li> <li>BUOYANCY LB./OZ. XS/S (16/00), M/L (16/00), XL/XXL (16/00)</li> <li><span>USCG Type III rated</span></li> <li>Made in collaboration with <strong>Kokatat</strong></li> </ul> <p>&nbsp;</p> <p>FABRIC TECH:&nbsp;210-denier nylon ripstop shell. Polyester spacer mesh in shoulder straps and backpanel</p> <p>ITEM #:&nbsp;PG-13878</p> </div></div> </li> <br>"
        ],
        [
         "1",
         "SK0000002-US",
         "M‘s G3 Guide Waders - Bootfoot - Vibram Sole",
         "WADERS",
         "600.0",
         "120.0",
         "color#Gunmetal~   Size#S 08|M 09|M 10|M 11|L 10|L 11|L 12|XL 11|XL 12|XL 13|XXL 12|XXL 13",
         "mycustom",
         "\"https://cdn.staticsaa.com/uploads/68512/cart/resources/20231215/4832DAC5-2A04-BC23-3714-BF45F2F0C0E0.jpg\",\"https://cdn.staticsaa.com/uploads/68512/cart/resources/20231215/8DFC555B-8F96-9847-B00A-09D726A1BEDD.jpg\",\"https://cdn.staticsaa.com/uploads/68512/cart/resources/20231215/5CEF60A6-9A02-3FAC-7E77-9C3892740B1C.jpg\",\"https://cdn.staticsaa.com/uploads/68512/cart/resources/20231215/E61E34B0-F0F6-88AA-C55D-6AF660725F04.jpg\",\"https://cdn.staticsaa.com/uploads/68512/cart/resources/20231215/1F77E2D2-B073-6FEC-14D4-1CBA0CECE80B.jpg\",\"https://cdn.staticsaa.com/uploads/68512/cart/resources/20231215/EEE2695B-700F-DFD6-2225-CDF48333E345.jpg\",\"https://cdn.staticsaa.com/uploads/68512/cart/resources/20231215/5F8309BA-A347-0FEF-AF50-24FD6559E222.jpg\",\"https://cdn.staticsaa.com/uploads/68512/cart/resources/20231215/0007D30E-F3C6-3EC4-8037-61F79A6DF247.jpg\",\"https://cdn.staticsaa.com/uploads/68512/cart/resources/20231215/D8884CD8-0EE5-84D5-0F92-8BC8C90526E2.jpg\",\"https://cdn.staticsaa.com/uploads/68512/cart/resources/20231215/910D0D00-83FC-3E5A-C5E1-19C256B4CD69.jpg\",\"https://cdn.staticsaa.com/uploads/68512/cart/resources/20231215/D02BC4EC-9A49-E075-A2BC-D6669E4E6AC6.jpg\",\"https://cdn.staticsaa.com/uploads/68512/cart/resources/20231215/66A31772-4693-39CB-107D-69F576EC95F3.jpg\"",
         null,
         null,
         "https://us-simmsfishing.shop/collections/waders/products/m-s-g3-guide-waders-bootfoot-vibram-sole?data_from=collection_detail",
         "<div> <p>Built for anglers who demand the utmost performance day-in and day-out, the G3 Guide Bootfoot wader marries Simms' time-tested G3 Guide platform with a custom vulcanized and insulated boot for a trifecta of comfort, warmth, and durability that is unmatched.</p> <p><strong>UPPERS</strong></p> <ul> <li><span>Updated material lamination package with even more durable, breathable, and comfortable Gore-Tex Pro Shell 3-layer upper and 4-layer lower.</span></li> <li><span>Adjustable spacer air-mesh suspender system with a fabric suspender divider.</span></li> <li><span>Top access zippered stretch pocket plus zippered, reach-through micro-fleece lined hand-warming chest pocket.</span></li> <li><span>Additional organization opportunities include a removable Tippet-Tender Pocket and zippered, stretch-woven internal pocket on wearer's left.</span></li> <li><span>Built-in low-profile back belt loops with high and low options; 2 inch stretch nylon belt included.</span></li> <li><span>Patented front and back leg seams deliver articulated fit, improved mobility, and increased durability.</span></li> </ul> <p><strong>BOOTFOOT</strong></p> <ul> <li><span>Triple-layer vulcanized rubber upper on boots for maximum durability &amp; wading performance in extreme weather.</span></li> <li><span>Boots fully-lined &amp; insulated with 7mm neoprene &amp; grid fleece for all-day warmth, comfort and moisture management.</span></li> <li><span>Anatomically shaped last and molded arch support for comfortable underfoot ride.</span></li> <li><span>Vibram® Idrogrip rubber outsole provides maximum underwater traction and is fully compatible with Simms cleats and non-felt studs.</span></li> <li>Made in USA of imported materials.</li> <li><span><span>*Best wader warranty in fishing: 60-Day replacement for leaks, no questions asked. 365 Days repairs on us. See the tab above for details. </span></span></li> </ul> <p> <strong>Don’t see your size available? Made-to-order options available<span> <span>HERE</span></span></strong></p> <p><span>FABRIC TECH: Upper: 3-layer waterproof, breathable Gore-Tex Shell; Lower: 4-Layer waterproof, breathable Gore-Tex Pro Shell</span></p> </div></div> </li> <br>"
        ],
        [
         "2",
         "SK0000003-US",
         "Wading Belt - 2\"",
         "WADERS",
         "40.0",
         "12.0",
         "color#Regiment Camo Carbon|Regiment Camo Olive Drab|Simms Orange~   Size#One Size",
         "mycustom",
         "\"https://cdn.staticsaa.com/uploads/68512/cart/resources/20231215/79948F70-6E4D-B5B7-5B07-1B52B30264A4.jpg\",\"https://cdn.staticsaa.com/uploads/68512/cart/resources/20231215/E977BF81-99E8-FE86-3C55-91DBF408446D.jpg\",\"https://cdn.staticsaa.com/uploads/68512/cart/resources/20231215/7FC50B7D-D701-E344-7661-42FC867EFF8A.jpg\",\"https://cdn.staticsaa.com/uploads/68512/cart/resources/20231215/EF40158B-3D3F-A1D9-66A8-4B8AA29068EB.jpg\"",
         null,
         null,
         "https://us-simmsfishing.shop/collections/waders/products/wading-belt-2_2a9caaf6?data_from=collection_detail",
         "<div> <p>No two anglers are built quite the same. Simms accessory wading belts let you customize comfort for improved fit and performance.</p> <ul> <li>Constructed with 50mm/2\" wide elastic webbing and a low profile side release buckle</li> <li>Adjustable from 30\" to 52\"</li> </ul> <p><b>FABRIC TECH:</b></p> <p>100% nylon</p> <p>ITEM #: PG-13735</p> </div></div> </li> <br>"
        ],
        [
         "3",
         "SK0000004-US",
         "M‘s G4 PRO® Wading Jacket",
         "WADERS",
         "500.0",
         "100.0",
         "Color#Slate~   Size#S|M|L|XL|2XL",
         "mycustom",
         "\"https://cdn.staticsaa.com/uploads/68512/cart/resources/20240422/236ECA25-1299-F9AC-15C3-38253CC09354.webp\",\"https://cdn.staticsaa.com/uploads/68512/cart/resources/20240422/1DE5E9B0-3056-F1A1-E817-0EC569720F9F.webp\",\"https://cdn.staticsaa.com/uploads/68512/cart/resources/20240422/7C2B6940-4CCB-05BE-29EF-0EA0266C5D71.webp\",\"https://cdn.staticsaa.com/uploads/68512/cart/resources/20240422/6469601D-ADA8-AD1B-D3DA-1BE53AD775C9.webp\",\"https://cdn.staticsaa.com/uploads/68512/cart/resources/20240422/AF3BD7F8-E045-E5EC-A281-2DEBEEE8DF0D.webp\"",
         null,
         null,
         "https://us-simmsfishing.shop/collections/waders/products/m-s-g4-pro-wading-jacket_667227b4?data_from=collection_detail",
         "<p>The highest-tech wading jacket on the water, our updated G4 Pro&reg; brings a GORE-TEX&reg; Pro 3-layer build to the battle and provides a full suite of fishing features for all your on-foot and boat-focused pursuits.</p> <ul> <li>GORE-TEX&nbsp;<span>&reg;</span>&nbsp;Pro&nbsp;waterproof breathable 3-layer fabric for rugged waterproof performance</li> <li>3-point adjustable storm hood with a high-visibility center panel</li> <li><span>Unique storage array includes dual zippered chest storage pockets with interior stretch mesh dividers and a stowable fly patch tool in the front seam of the jacket</span></li> <li>Zippered side-entry handwarmer pockets have integrated pass-through zipper for wader access without removing your jacket</li> <li>Internal stretch woven zippered pocket for accessory storage</li> <li>Adjustable, low profile cuff and hem</li> </ul> <p><span>FABRIC TECH:</span></p> <p>Shell: Nylon 3-layer GORE-TEX<span>&reg;</span>&nbsp;Pro</p> <p>ITEM #: PG-13934<br></p></div> </li> <br>"
        ],
        [
         "4",
         "SK0000005-US",
         "M‘s Freestone Z Bootfoot Waders - Rubber Sole",
         "WADERS",
         "580.0",
         "116.0",
         "color#Loden~   Size#S 08|M 09|M 10|M 11|L 10|L 11|L 12|XL 11|XL 12|XL 13|XXL 12|XXL 13",
         "mycustom",
         "\"https://cdn.staticsaa.com/uploads/68512/cart/resources/20231215/3836EAFD-75D5-E5F1-493F-4760F39C3F01.jpg\",\"https://cdn.staticsaa.com/uploads/68512/cart/resources/20231215/BAAC18D5-68A0-FD2C-4A12-E828E5CB2393.jpg\",\"https://cdn.staticsaa.com/uploads/68512/cart/resources/20231215/CCE31792-0F17-32CF-06C2-21ED2046190F.jpg\",\"https://cdn.staticsaa.com/uploads/68512/cart/resources/20231215/0F86C26A-773F-9BA6-D2B9-8CC5B351FB55.jpg\",\"https://cdn.staticsaa.com/uploads/68512/cart/resources/20231215/3DEB824C-20C1-AC39-CA06-E5B2AB75D04E.jpg\",\"https://cdn.staticsaa.com/uploads/68512/cart/resources/20231215/77368020-F1BF-D5DE-AB42-550E132A0AD2.jpg\",\"https://cdn.staticsaa.com/uploads/68512/cart/resources/20231215/BB8554AB-ECCD-D833-7125-D6FB0600F445.jpg\",\"https://cdn.staticsaa.com/uploads/68512/cart/resources/20231215/C9A0E4B5-A0C4-F888-40D5-817A6DA21DD2.jpg\",\"https://cdn.staticsaa.com/uploads/68512/cart/resources/20231215/DA166717-DE1A-4A56-A9E3-42F46F5FEB99.jpg\",\"https://cdn.staticsaa.com/uploads/68512/cart/resources/20231215/09AAAFEC-1FAC-83B8-9616-121C326AB969.jpg\",\"https://cdn.staticsaa.com/uploads/68512/cart/resources/20231215/B622ADC7-D0DA-2BBC-3B64-1D1BC93619E9.jpg\",\"https://cdn.staticsaa.com/uploads/68512/cart/resources/20231215/ECAE11EA-5D3E-2D10-758F-A55326659F62.jpg\"",
         null,
         null,
         "https://us-simmsfishing.shop/collections/waders/products/m-s-freestone-z-bootfoot-waders-rubber-sole_d847a7f7?data_from=collection_detail",
         "<div> <p>The ultimate cold-weather wader, the Freestone Bootfoot is built on our rugged, breathable, mobility-enhancing Freestone chassis and features a built-in rubber-soled boot that goes on easy and charges hard.</p> <ul> <li>Durable &amp; breathable Toray® QuadraLam™ 4-layer upper &amp; lower</li> <li>TIZIP® waterproof center front zipper</li> <li>Stretch elastic suspenders with Simms custom opposing male and female buckles</li> <li>Upper chest pocket array features dual side-access stretch-woven zippered storage pockets, micro-fleece lined handwarmer pockets and integrated loop fly patch</li> <li>Patented front and back leg seams deliver articulated fit, improved mobility, and increased durability</li> <li>Dual rear belt loops; 38mm stretch elastic wading belt included</li> </ul> <p><b>FABRIC TECH:</b></p> <p>4-layer Toray® QuadraLam Upper &amp; Lower</p> <p>ITEM #: PG-13916</p> </div></div> </li> <br>"
        ],
        [
         "5",
         "SK0000006-US",
         "M‘s G4Z Waders - Stockingfoot",
         "WADERS",
         "500.0",
         "100.0",
         "Color#Slate~   Inseam#Regular|Long|Short~   Size#L 9-11|M 9-11|XL 9-11",
         "mycustom",
         "\"https://cdn.staticsaa.com/uploads/68512/cart/resources/20240422/51DEA6C2-900D-AF62-FA78-ABC81134BF46.webp\",\"https://cdn.staticsaa.com/uploads/68512/cart/resources/20240422/57FE2D08-C4ED-26B5-F71C-A9A55D941A04.webp\",\"https://cdn.staticsaa.com/uploads/68512/cart/resources/20240422/D16A5FD9-7EDC-3D0A-F8EC-F771468421B9.webp\",\"https://cdn.staticsaa.com/uploads/68512/cart/resources/20240422/3E5EFA9C-D869-1515-F7C3-FCD9689E9779.webp\",\"https://cdn.staticsaa.com/uploads/68512/cart/resources/20240422/20AC8D98-B9BF-C49C-7FFD-C6C820C366A7.webp\"",
         null,
         null,
         "https://us-simmsfishing.shop/collections/waders/products/m-s-g4z-waders-stockingfoot?data_from=collection_detail",
         "<p>Our highest-tech, hardest-charging wader, the USA-made G4Z Stockingfoot wader brings best-in-class waterproof breathability, rugged durability and unmatched comfort to the remote coordinates and unforgiving conditions you call home.</p> <ul> <li>Simms' most durable GORE-TEX<span>&reg;</span>&nbsp;fabric package; 4-layer GORE-TEX<span>&reg;</span>&nbsp;Pro lower and 3-layer GORE-TEX<span>&reg;</span>&nbsp;PRO upper</li> <li>Patented compression-molded stockingfeet for enhanced comfort and improved boot fit/lace bite</li> <li>Fully waterproof YKK AQUASEAL center-front zipper installed with a stitchless construction for maximum flexibility and comfort</li> <li>Large, dual zippered stretch woven chest pockets provide ample storage and quick access to fishing necessities</li> <li>Zippered handwarmer pockets with upgraded, higher pile fleece for enhanced warmth and shortened dry time for wet hands</li> <li>Interior storage pockets constructed using fully-waterproof and submersible TRU ZIP&reg; zipper</li> <li>Revolutionized spacer mesh suspender package provides enhanced comfort with improved breathability, ergonomic fit and quick-adjust cam-lock suspender hardware; includes TPU coated webbings straps for net attachment</li> <li>Front and back leg seams distinctive to Simms waders; extended 4-layer in front thigh area improves durability and comfort for long days on the water</li> <li>Snag-free neoprene gravel guards built using highly abrasion and puncture resistant 2mm neoprene; updated neoprene wading belt allow for easy adjustment and increased lumbar support</li> <li><span><span>Made in Bozeman, MT USA</span></span></li> <li>For help sizing yourself for waders please see<span>&nbsp;</span><span>How Choose the Perfect Simms Wader</span></li> <li><span><span>*Best wader warranty in fishing: 60-Day replacement for leaks, no questions asked. 365 Days repairs on us. See the tab above for details.&nbsp;</span></span></li> </ul> <p><span>FABRIC TECH:</span></p> <p>Upper: 3-layer GORE-TEX<span>&reg;</span>&nbsp;Pro Lower: 4-layer GORE-TEX<span>&reg;</span>&nbsp;Pro Stockingfoot: Gravel Guard: 100% Neoprene</p> <p>WEIGHT: 49.76 oz. (1.411 kg) in size Medium</p> <p>ITEM #: PG-13960<br></p></div> </li> <br>"
        ],
        [
         "6",
         "SK0000007-US",
         "M‘s G3 Guide Wading Jacket",
         "WADERS",
         "600.0",
         "120.0",
         "color#Gunmetal~   Size#S|M|L|XL|2XL",
         "mycustom",
         "\"https://cdn.staticsaa.com/uploads/68512/cart/resources/20231215/86230228-4ACE-04EA-5366-6B406ABE54D2.jpg\",\"https://cdn.staticsaa.com/uploads/68512/cart/resources/20231215/EB7994D3-A934-1CEF-E571-B19446013E6C.jpg\",\"https://cdn.staticsaa.com/uploads/68512/cart/resources/20231215/E1103DF7-E5F6-4F71-8579-EA5CF589A0FA.jpg\",\"https://cdn.staticsaa.com/uploads/68512/cart/resources/20231215/78A9C95A-08F2-0A08-0A0B-61C9C2FE5562.jpg\",\"https://cdn.staticsaa.com/uploads/68512/cart/resources/20231215/74A5EC3B-A843-D031-F12D-70B2537C3E6E.jpg\",\"https://cdn.staticsaa.com/uploads/68512/cart/resources/20231215/D19C35DB-B067-03E1-6EE8-D74314CEDA5B.jpg\",\"https://cdn.staticsaa.com/uploads/68512/cart/resources/20231215/12370604-306A-A6DD-632C-6E1AE56B017A.jpg\",\"https://cdn.staticsaa.com/uploads/68512/cart/resources/20231215/AB68061D-54DF-5C0C-BBD8-9FDC2A5AB6DC.jpg\",\"https://cdn.staticsaa.com/uploads/68512/cart/resources/20231215/ADD3FFF5-E3F8-E53B-E104-D78B119A0200.jpg\",\"https://cdn.staticsaa.com/uploads/68512/cart/resources/20231215/027131A6-9DDF-AD1A-4A49-E550F66212CF.jpg\",\"https://cdn.staticsaa.com/uploads/68512/cart/resources/20231215/F385A4BE-9020-AC27-2361-FF27F99608FC.jpg\",\"https://cdn.staticsaa.com/uploads/68512/cart/resources/20231215/9AE5F10E-2A75-B3E6-2963-54481C7F2D16.jpg\",\"https://cdn.staticsaa.com/uploads/68512/cart/resources/20231215/FC077932-6F89-21FB-ADC2-0D3819B96E2F.jpg\",\"https://cdn.staticsaa.com/uploads/68512/cart/resources/20231215/AA0C01A9-C1AB-096B-6C55-F17717FBCD31.jpg\",\"https://cdn.staticsaa.com/uploads/68512/cart/resources/20231215/2FCFC1B5-B02E-E85E-3A92-C1AC4610C173.jpg\",\"https://cdn.staticsaa.com/uploads/68512/cart/resources/20231215/48973BD7-C29C-ED50-0586-A17AB3F67E34.jpg\",\"https://cdn.staticsaa.com/uploads/68512/cart/resources/20231215/0CE04962-57B3-887D-4768-D6D7DCEB2A02.jpg\",\"https://cdn.staticsaa.com/uploads/68512/cart/resources/20231215/BE978340-597D-375F-1D65-85A7F4A5E363.jpg\",\"https://cdn.staticsaa.com/uploads/68512/cart/resources/20231215/AB1285E6-394C-A962-45BB-0DA710D69B16.jpg\",\"https://cdn.staticsaa.com/uploads/68512/cart/resources/20231215/CD61E2BE-9502-AD8D-2700-D924EFD5F644.jpg\",\"https://cdn.staticsaa.com/uploads/68512/cart/resources/20231215/106CCA30-2139-8948-0BF6-F0EEF751C481.jpg\",\"https://cdn.staticsaa.com/uploads/68512/cart/resources/20231215/32311085-2D6A-CEAE-3841-D31F0A914876.jpg\"",
         null,
         null,
         "https://us-simmsfishing.shop/collections/waders/products/m-s-g3-guide-wading-jacket_c93a972b?data_from=collection_detail",
         "<div> <p>The iconic G3 Guide™ Wading Jacket is the perfect blend of mobility and fishing utility. Lightweight guaranteed dry 3-layer GORE-TEX® combined with the first-ever 3-layer GORE-TEX® Pro with stretch will move you through the elements with purpose.</p> <br><ul> <li>Durable, breathable, and comfortable GORE-TEX® Shell 3-layer through the body with GORE-TEX® stretch panels strategically placed to move with every dynamic cast. The fabric feels tough to protect from the rain and durable to hold up to any weather mother nature tosses at you</li> <li>3-point adjustable storm hood with high vis center hood panel</li> <li>Right chest pocket contains a retractor docking station that can be worn on the exterior when changing flies then stashed away when not in use to reduce potential for line catch</li> <li>Left chest pocket has loop front patch to store flies and contains a tethered, removable lens cloth</li> <li>Zippered stretch-woven pocket on interior of wearer's left chest and dump mesh pocket on interior of wearer's right chest</li> <li>Zippered hand pockets built with interior bellows for additional storage and exterior drain holes for wading deep</li> <li>Articulated sleeves and <strong>key stretch panels across the back</strong> enhance mobility</li> <li>Shingled, no-catch watertight cuffs</li> <li>Jacket length from collar to hem hits just below the waist to pair with waders and is versatile for on deck performance</li> </ul> <p>FABRIC TECH:</p> <p>Lower Front and Back Body - 3-layer GORE-TEX - 70D 100% nylon with DWR/100% nylon tricot backer;</p> <p>Side Hood, Upper back, Shoulders, Upper Sleeves, Chest Pockets and Under Arm Panels - 3-layer GORE-TEX - 40D 100% nylon with mechanical stretch and DWR/100% nylon tricot backer</p> <p><br>ITEM #: PG-13499</p> </div></div> </li> <br>"
        ],
        [
         "7",
         "SK0000008-US",
         "Pro Nipper",
         "WADERS",
         "90.0",
         "27.0",
         "color#Pacific|Simms Orange~   Size#One Size",
         "mycustom",
         "\"https://cdn.staticsaa.com/uploads/68512/cart/resources/20231215/F1FB6CB9-87EA-13A8-32AE-34398535DEB8.jpg\",\"https://cdn.staticsaa.com/uploads/68512/cart/resources/20231215/F91FA3FD-D48B-A16A-D5B6-AEFE3A397BC7.jpg\",\"https://cdn.staticsaa.com/uploads/68512/cart/resources/20231215/553126A1-DC28-0A40-773A-7E25E9E043EE.jpg\",\"https://cdn.staticsaa.com/uploads/68512/cart/resources/20231215/D8D420BC-0E8A-E5B8-C6EF-71CE6621F9D8.jpg\",\"https://cdn.staticsaa.com/uploads/68512/cart/resources/20231215/8F03A329-F1D7-8F15-3540-F41536C0C1B1.jpg\",\"https://cdn.staticsaa.com/uploads/68512/cart/resources/20231215/8B790A12-A85E-FA4A-0BC7-D4A19DCC05ED.jpg\",\"https://cdn.staticsaa.com/uploads/68512/cart/resources/20231215/C1C1581E-C1AB-47FC-3481-2509E137BFD4.jpg\",\"https://cdn.staticsaa.com/uploads/68512/cart/resources/20231215/DFBBBCF3-6439-ABBC-7EF1-11C5958D91B7.jpg\",\"https://cdn.staticsaa.com/uploads/68512/cart/resources/20231215/1DC915BC-C4AC-56B8-B45C-1EBA45F9C4EB.jpg\",\"https://cdn.staticsaa.com/uploads/68512/cart/resources/20231215/6D0BCC34-71EE-3758-6FAD-414814D78CFC.jpg\"",
         null,
         null,
         "https://us-simmsfishing.shop/collections/waders/products/pro-nipper_d0e39ea4?data_from=collection_detail",
         "<div> <div> <p>Made in the USA with a magnetic spring and magnetic fly threader, this durable guide-level nipper brings together multiple angling tools for flawless activations.</p> <br><ul> <li>Durable anodized aluminum handles with stainless steel jaws and rare earth magnets</li> <li>Magnetic spring never wears out</li> <li>Magnetic fly threader, BB crusher, hook eye needle, lanyard attach point</li> <li>Patterned surface for improved grip</li> <li>Made in the USA</li> <li> <p>Riveted jaws, replaceable when necessary through Simms Repair Center.&nbsp; Click<span>&nbsp;</span>here<span>&nbsp;</span>to start your nipper blade replacement.</p> </li> </ul> <br>WEIGHT: 0.75 oz (21.2 g)<br>ITEM #: PG-13102</div> </div></div> </li> <br>"
        ],
        [
         "8",
         "SK0000009-US",
         "Wading Staff",
         "WADERS",
         "150.0",
         "37.5",
         "color#Black~   Size#One Size",
         "mycustom",
         "\"https://cdn.staticsaa.com/uploads/68512/cart/resources/20231215/C8F1BF6A-C423-F5CC-CCA3-C3577F7962C2.jpg\"",
         null,
         null,
         "https://us-simmsfishing.shop/collections/waders/products/wading-staff_fc8889c0?data_from=collection_detail",
         "<div> <div> <p>Strength and simplicity win the CFS battle with this modern take on the classic wading tool.</p> <br><ul> <li>Lightweight yet highly durable 7075 aluminum tubing with coated stainless steel cable and ribbed closed-cell foam handle</li> <li>Simple yet firm deployment opens and closes in seconds</li> <li>Extended closed-cell foam handle for multiple grab heights</li> <li>Built-in wrist strap, retractor and compression molded sheath</li> <li>Printed inches for depth gauge, plus replaceable/interchangeable aluminum tip</li> <li>Deployed length: 54.75 in (140 cm) | Collapsed length: 14 in (35.5 cm)</li> <li>To deploy: Grip the orange aluminum ring to pull down on the slider shaft until the spring-loaded pin pops out locking the shaft sections together</li> <li>To collapse: Press the spring-loaded pin allowing the slider shaft to slide up, releasing the tension which holds the shaft sections together. Pull the sections apart and bring each section together to fold and re-sheath.</li> </ul> <br>WEIGHT: With sheath &amp; retractor - 16.4 oz (477.7 g) | Wading staff only - 9.2 oz (260.8 g)<br>ITEM #: PG-13099</div> </div></div> </li> <br>"
        ],
        [
         "9",
         "SK0000010-US",
         "M‘s G4 PRO® Wading Jacket",
         "WADERS",
         "600.0",
         "120.0",
         "color#Slate~   Size#S|M|L|XL|2XL",
         "mycustom",
         "\"https://cdn.staticsaa.com/uploads/68512/cart/resources/20231215/7C81A44A-B4D4-C3D5-E7A3-11ECFB2FBE58.jpg\",\"https://cdn.staticsaa.com/uploads/68512/cart/resources/20231215/F9B27E7F-B8B3-6E1D-789C-E148F1E0BF88.jpg\",\"https://cdn.staticsaa.com/uploads/68512/cart/resources/20231215/6E3657A6-C976-4463-1457-3F0969570030.jpg\",\"https://cdn.staticsaa.com/uploads/68512/cart/resources/20231215/F0144B36-4CDD-690D-73CB-A2D57C1F4F74.jpg\",\"https://cdn.staticsaa.com/uploads/68512/cart/resources/20231215/D9238694-831A-5FA3-4C90-C79AEB9C7328.jpg\",\"https://cdn.staticsaa.com/uploads/68512/cart/resources/20231215/27413E1E-81F8-DF7E-98DE-7814C0093448.jpg\"",
         null,
         null,
         "https://us-simmsfishing.shop/collections/waders/products/m-s-g4-pro-wading-jacket_d9da6d4a?data_from=collection_detail",
         "<div> <p>Cut from advanced GORE-TEX® 3-layer fabrics and kitted with ingenious fishing details throughout, this guide-trusted jacket survives and thrives in the harshest conditions.</p> <br><ul> <li>3-point adjustable storm hood with high vis center hood panel</li> <li>Flip out vertical loop fly patch</li> <li>Spacious rear game pockets accessed through the front handwarmer pockets</li> <li>Shingled, no-catch watertight cuff</li> </ul> <br><strong>FABRIC TECH:</strong> Upper sleeves, shoulders, and hood- 3-layer GORE-TEX Pro Shell - 80D 100% nylon w/ C6 DWR/ 100% nylon tricot backer; Body and under sleeves- 3-layer GORE-TEX Pro Shell - 70D 100% nylon w/ C6 DWR/ 100% nylon tricot backer<br>ITEM #: PG-12463 </div></div> </li> <br>"
        ],
        [
         "10",
         "SK0000011-US",
         "M‘s G3 Guide Waders - Bootfoot - Felt Sole",
         "WADERS",
         "600.0",
         "120.0",
         "color#Gunmetal~   Size#S 08|M 09|M 10|M 11|L 10|L 11|L 12|XL 11|XL 12|XL 13|XXL 12|XXL 13",
         "mycustom",
         "\"https://cdn.staticsaa.com/uploads/68512/cart/resources/20231215/4A64ACD5-B982-3842-A61F-15B7025AE759.jpg\",\"https://cdn.staticsaa.com/uploads/68512/cart/resources/20231215/6FFC45CF-D360-73CC-203B-E889F85ED8C7.jpg\",\"https://cdn.staticsaa.com/uploads/68512/cart/resources/20231215/1829FCFD-740D-4F6C-C15D-C3C0ADAA9C4F.jpg\",\"https://cdn.staticsaa.com/uploads/68512/cart/resources/20231215/6C7B3ED0-153C-6399-A9C3-56F951F91E90.jpg\",\"https://cdn.staticsaa.com/uploads/68512/cart/resources/20231215/05AAEAAB-4A77-97F6-E376-86532AF2FBF9.jpg\",\"https://cdn.staticsaa.com/uploads/68512/cart/resources/20231215/75D24287-0CE4-6FED-6242-69641B6CC188.jpg\",\"https://cdn.staticsaa.com/uploads/68512/cart/resources/20231215/D6995E06-4FB0-C5B1-AB4B-742E2C3C1C98.jpg\",\"https://cdn.staticsaa.com/uploads/68512/cart/resources/20231215/54EC3999-9C58-3380-64A5-5AD7ADD119FA.jpg\",\"https://cdn.staticsaa.com/uploads/68512/cart/resources/20231215/6E983898-5ACC-14BE-E7CC-9AAEEA9515BE.jpg\",\"https://cdn.staticsaa.com/uploads/68512/cart/resources/20231215/C14A09F9-22CA-88F8-1D51-EA300EB1B94E.jpg\"",
         null,
         null,
         "https://us-simmsfishing.shop/collections/waders/products/m-s-g3-guide-waders-bootfoot-felt-sole?data_from=collection_detail",
         "<div> <p>Built for anglers who demand the utmost performance day-in and day-out, the G3 Guide Bootfoot wader marries Simms' time-tested G3 Guide platform with a custom vulcanized and insulated boot for a trifecta of comfort, warmth, and durability that is unmatched.</p> <p><strong>UPPERS</strong></p> <ul> <li><span>Updated material lamination package with even more durable, breathable, and comfortable Gore-Tex Pro Shell 3-layer upper and 4-layer lower.</span></li> <li><span>Adjustable spacer air-mesh suspender system with a fabric suspender divider.</span></li> <li><span>Top access zippered stretch pocket plus zippered, reach-through micro-fleece lined hand-warming chest pocket.</span></li> <li><span>Additional organization opportunities include a removable Tippet-Tender Pocket and zippered, stretch-woven internal pocket on wearer's left.</span></li> <li><span>Built-in low-profile back belt loops with high and low options; 2 inch stretch nylon belt included.</span></li> <li><span>Patented front and back leg seams deliver articulated fit, improved mobility, and increased durability.</span></li> </ul> <p><strong>BOOTFOOT</strong></p> <ul> <li><span>Triple-layer vulcanized rubber upper on boots for maximum durability &amp; wading performance in extreme weather.</span></li> <li><span>Boots fully-lined &amp; insulated with 7mm neoprene &amp; grid fleece for all-day warmth, comfort and moisture management.</span></li> <li><span>Anatomically shaped last and molded arch support for comfortable underfoot ride.</span></li> <li><span>12mm felt outsole for superior underwater traction; compatible with Simms Hardbite Felt Studs.</span></li> <li>Made in USA of imported materials.</li> <li><span><span>*Best wader warranty in fishing: 60-Day replacement for leaks, no questions asked. 365 Days repairs on us. See the tab above for details. </span></span></li> </ul> <p> <strong>Don’t see your size available? Made-to-order options available<span> <span>HERE</span></span></strong></p> <p><span>FABRIC TECH: Upper: 3-layer waterproof, breathable Gore-Tex Shell; Lower: 4-Layer waterproof, breathable Gore-Tex Pro Shell.</span></p> </div></div> </li> <br>"
        ],
        [
         "11",
         "SK0000012-US",
         "Taco Wader Bag",
         "WADERS",
         "50.0",
         "15.0",
         "color#Anvil|Regiment Camo Olive Drab|Simms Orange~   Size#One Size",
         "mycustom",
         "\"https://cdn.staticsaa.com/uploads/68512/cart/resources/20231215/777BBA54-D6D5-4238-0759-FD8886292029.jpg\",\"https://cdn.staticsaa.com/uploads/68512/cart/resources/20231215/492FC545-C1F4-E590-0859-0A5E670EC18C.jpg\",\"https://cdn.staticsaa.com/uploads/68512/cart/resources/20231215/6BB86473-95B6-543B-9A58-10C6534A39EC.jpg\",\"https://cdn.staticsaa.com/uploads/68512/cart/resources/20231215/AB4F39CC-D51C-3B03-FAD2-2AA530B21587.jpg\",\"https://cdn.staticsaa.com/uploads/68512/cart/resources/20231215/B154A856-35F5-5252-388E-9BE4B82D44FB.jpg\",\"https://cdn.staticsaa.com/uploads/68512/cart/resources/20231215/160703ED-57F6-98CB-E7EB-08FF47E42D9D.jpg\",\"https://cdn.staticsaa.com/uploads/68512/cart/resources/20231215/B085773E-067A-CF5D-6853-E75BA225A85F.jpg\",\"https://cdn.staticsaa.com/uploads/68512/cart/resources/20231215/C25F003D-4D27-5DD7-64B4-B2AE0DEFE7AC.jpg\",\"https://cdn.staticsaa.com/uploads/68512/cart/resources/20231215/A5A96A06-7CFB-7890-610D-D12C75E2CA05.jpg\",\"https://cdn.staticsaa.com/uploads/68512/cart/resources/20231215/FA3F9323-081F-3DDB-02C8-170B4B3028CA.jpg\",\"https://cdn.staticsaa.com/uploads/68512/cart/resources/20231215/10256810-B3F3-128D-28A8-DF66F355A760.jpg\",\"https://cdn.staticsaa.com/uploads/68512/cart/resources/20231215/F04C14B8-9455-3CB4-E5E9-10A63142D4C4.jpg\"",
         null,
         null,
         "https://us-simmsfishing.shop/collections/waders/products/taco-wader-bag_9cf82e33?data_from=collection_detail",
         "<div> <div> <p>Everybody loves a good taco. The same goes for this guide-favorite Taco Bag. Powered by PU-coated 600 denier ballistic nylon-shell fabric, ingredients include a large circular design opens completely to form a handy changing mat and, after fishing, swallows two pairs of dripping waders and their muddy boot companions. Mesh vents prevent mold and mildew. A YKK® zipper comes standard.</p> <ul> <li>Large circular design that easily zips and contains wet, muddy waders and boots</li> <li>Large enough to hold up to 2 stockingfoot waders and 2 pairs of wading boots</li> <li>Mesh vents help prevent mold and mildew</li> <li>YKK® zipper</li> </ul> <div>FABRIC TECH: PU-coated 600 denier ballistic nylon shell fabric <br>DIMENSIONS: 16″ x 40″ x 7″<br>CAPACITY: 35 L; 1034 cu. in.<br>WEIGHT: 14 oz.<br>ITEM #: PG-11471</div> </div> </div></div> </li> <br>"
        ],
        [
         "12",
         "SK0000013-US",
         "Men‘s ProDry Fishing Jacket",
         "All New Arrivals",
         "699.95",
         "139.99",
         "Size#XS|S|M|L|XL|XXL|3XL~   Color#Driftwood|Black",
         "mycustom",
         "\"https://cdn.staticsaa.com/uploads/68512/cart/resources/20250406/29938bc2c84de46c5303536303a90904.jpg\",\"https://cdn.staticsaa.com/uploads/68512/cart/resources/20250406/26be2b9af2b160c14be4cd4d2279cf0c.jpg\",\"https://cdn.staticsaa.com/uploads/68512/cart/resources/20250406/0cce683955e1666caeeb81b28f0fa761.jpg\",\"https://cdn.staticsaa.com/uploads/68512/cart/resources/20250406/7fa6e2b2ae24be66056e05f5cbe0a4e8.jpg\",\"https://cdn.staticsaa.com/uploads/68512/cart/resources/20250406/4b63cc71107da30f34b276704d8c64c2.jpg\",\"https://cdn.staticsaa.com/uploads/68512/cart/resources/20250406/58788ddc2a6895e370d802e085928b74.jpg\",\"https://cdn.staticsaa.com/uploads/68512/cart/resources/20250406/276c05ae87434ecb6a1fa2c714c71213.jpg\",\"https://cdn.staticsaa.com/uploads/68512/cart/resources/20250406/2c9f7f8bce7cc57a2942c605e26de3b6.jpg\",\"https://cdn.staticsaa.com/uploads/68512/cart/resources/20250406/0e4c05ae193d637d541d9fc705090e5e.jpg\",\"https://cdn.staticsaa.com/uploads/68512/cart/resources/20250406/5e11ec3eddeeb53c63cc02aa4b8f0059.jpg\",\"https://cdn.staticsaa.com/uploads/68512/cart/resources/20250406/ac69083c64d372573962fcc4568c314b.jpg\",\"https://cdn.staticsaa.com/uploads/68512/cart/resources/20250406/3913a936278d6f355c279e89bc64b522.jpg\",\"https://cdn.staticsaa.com/uploads/68512/cart/resources/20250406/8e709e7746c8539c3dc810feb54d2f10.jpg\",\"https://cdn.staticsaa.com/uploads/68512/cart/resources/20250406/7cb8515976c043999028648fd9484d9d.jpg\",\"https://cdn.staticsaa.com/uploads/68512/cart/resources/20250406/a9425fc074a218f78c1f2a7c9243d3bc.jpg\",\"https://cdn.staticsaa.com/uploads/68512/cart/resources/20250406/77be5ddfe17d4e8b80d4a3733ff7c0d2.jpg\"",
         null,
         null,
         "https://us-simmsfishing.shop/collections/all-new-arrivals/products/men-s-prodry-fishing-jacket?data_from=collection_detail",
         "<h4><b><span>Product Overview</span></b><b><span><o></o:p></span></b></h4> <p><span>Powered by a waterproof-breathable GORE-TEX&reg; Pro construction, the updated ProDry Jacket features bolstered durability in high-wear areas and a lighter-weight construction in the critical zones where enhanced mobility complements your every move.</span><span><o></o:p></span></p> <p> <span>l&nbsp;</span> <span>GORE-TEX Pro shell, with 80D in high wear areas for abrasion resistance, and lightweight 70D for flexibility where you need it most</span><span><o></o:p></span></p> <p> <span>l&nbsp;</span> <span>The 3-way adjustable hood is designed specifically to keep driving rain out without sacrificing your peripheral vision</span><span><o></o:p></span></p> <p> <span>l&nbsp;</span> <span>High collar for extra protection from the elements</span><span><o></o:p></span></p> <p> <span>l&nbsp;</span> <span>One zippered internal chest pocket keeps your most valuable items dry and two exterior zippered chest pockets for storage</span><span><o></o:p></span></p> <p> <span>l&nbsp;</span> <span>Sunglass chamois in left chest pocket</span><span><o></o:p></span></p> <p> <span>l&nbsp;</span> <span>Articulated sleeves are shaped for ease of movement and provide enough room to accommodate insulating layers under your jacket</span><span><o></o:p></span></p> <p> <span>l&nbsp;</span> <span>Single-hand adjustable cuffs are easy to use and effortlessly cinch down tight to keep water from finding its way in while you land and release fish</span><span><o></o:p></span></p> <p> <span>l&nbsp;</span> <span>Two zippered hand pockets with brushed tricot liner for next-to-skin warmth and comfort</span><span><o></o:p></span></p> <p> <span>l&nbsp;</span> <span>Includes an adjustable hem, single kill switch D-ring, and reflective logos for increased visibility on the water</span><span><o></o:p></span></p> <p> <span>l&nbsp;</span> <span>This product is intended for severe wet conditions. Made with PFAS chemicals</span><span><o></o:p></span></p> <h5><b><span>FABRIC TECH:</span></b><b><span><o></o:p></span></b></h5> <p><span>Body - Waterproof, breathable 3L microgrid GORE-TEX Pro technology; 100% recycled nylon shell, 100% GORE-TEX membrane, 100% nylon backer</span><span><o></o:p></span></p> <p><span>Item #: PG-13862</span><span><o></o:p></span></p></div> </li> <br>"
        ],
        [
         "13",
         "SK0000014-US",
         "Flyweight Backpack",
         "All New Arrivals",
         "190.0",
         "47.5",
         "Color#Smoke~   Size#One Size",
         "mycustom",
         "\"https://cdn.staticsaa.com/uploads/68512/cart/resources/20240422/41ea6948c811fca74f79afaf7e55f597.jpg\",\"https://cdn.staticsaa.com/uploads/68512/cart/resources/20240422/8add69617118ca963199b30cc67aabb1.jpg\",\"https://cdn.staticsaa.com/uploads/68512/cart/resources/20240422/2102910f5e1387141890e0dfeb2156fa.webp\",\"https://cdn.staticsaa.com/uploads/68512/cart/resources/20240422/60e828b5a102e9ed9b045f3aab7a15ec.webp\",\"https://cdn.staticsaa.com/uploads/68512/cart/resources/20240422/5c5deb38c2200b7a6d0c5b642c00291e.webp\",\"https://cdn.staticsaa.com/uploads/68512/cart/resources/20240422/83d804b5bc40af8ef76fc584eb3a591b.jpg\"",
         null,
         null,
         "https://us-simmsfishing.shop/collections/all-new-arrivals/products/flyweight-backpack?data_from=collection_detail",
         "<p>Designed for far-ranging anglers who thrive on fast, light progress, the Flyweight Backpack is the all-day on-water gear hauler that puts you comfortably in control.</p> <ul> <li>Lightweight, ultra-durable and water-resistant 150-denier robic nylon fabric with HDPE yarns built for years of abuse</li> <li>The main compartment can be accessed two ways - via front zipper or top access zipper and secure buckle</li> <li>Padded, breathable and fully-adjustable harness system features a loop patch for fly storage and a tool docking station</li> <li>Dual mesh pockets on the backside offer storage for rod tubes or water bottles</li> <li>Stowable stuffit pocket can be deployed from bottom zippered pocket and used as a net holster or gear carrier</li> <li>Interior sleeve for hydration bladders up to 2L&nbsp;<span><span><span>(bladder not included)</span></span></span></li> </ul> <p><span>FABRIC TECH:</span></p> <p>150-denier robic nylon with HDPE yarns and DWR coating</p> <p><span>CAPACITY:&nbsp;</span>25L</p> <p><span>WEIGHT:&nbsp;</span>1.6lb</p> <p>ITEM #: PG-13965</p></div> </li> <br>"
        ],
        [
         "14",
         "SK0000015-US",
         "Flyweight Vest Pack",
         "All New Arrivals",
         "200.0",
         "50.0",
         "Color#Smoke~   Size#S/M|L/XL",
         "mycustom",
         "\"https://cdn.staticsaa.com/uploads/68512/cart/resources/20240422/e1276f7d65e5cb5989151bd0c8a63583.jpg\",\"https://cdn.staticsaa.com/uploads/68512/cart/resources/20240422/4779557df31160d225393d7e270a6c62.jpg\",\"https://cdn.staticsaa.com/uploads/68512/cart/resources/20240422/9d0381e9517501f3cc58974e139ae9e3.jpg\",\"https://cdn.staticsaa.com/uploads/68512/cart/resources/20240422/5d7af03e8ccd4ac256fae99b3786fef3.jpg\",\"https://cdn.staticsaa.com/uploads/68512/cart/resources/20240422/015276a0e1878d3b95fa802b8436cf71.webp\",\"https://cdn.staticsaa.com/uploads/68512/cart/resources/20240422/7a8154f7b3671ee05951f796c4fcf74a.webp\"",
         null,
         null,
         "https://us-simmsfishing.shop/collections/all-new-arrivals/products/flyweight-vest-pack?data_from=collection_detail",
         "<div>Elevate your on-water performance with the fast and light Flyweight Vest Pack that combines thoughtful fishing functionality with ample, intuitively designed storage for a vest that does more.</div> <ul> <li>Lightweight, ultra-durable and water-resistant 150-denier robic nylon fabric with HDPE yarns built for years of abuse</li> <li>Single-entry backpack main compartment provides 15 liters of long-term storage</li> <li>The front vest array includes two quick-access drop pockets, four zippered pockets, and two small stretch mesh pockets</li> <li>Spacer mesh back, side and chest panels provide padding and breathability in warm conditions</li> <li>Dual mesh pockets on the backside offer storage for rod tubes or water bottles</li> <li>Dual sternum straps and side compression bungee provide a fine-tuned fit</li> <li>Stowable stuffit pocket can be deployed from bottom zippered pocket and used as a net holster or gear carrier</li> <li>Interior sleeve for hydration bladders up to 2L&nbsp;<span><span><span>(bladder not included)</span></span></span></li> </ul> <p><span>FABRIC TECH:</span></p> <p>150-denier robic nylon with HDPE yarns and DWR coating</p> <p><span>CAPACITY:&nbsp;</span>15L</p> <p><span>WEIGHT:&nbsp;</span>1.5lb</p> <p>ITEM #: PG-13966<br></p></div> </li> <br>"
        ],
        [
         "15",
         "SK0000016-US",
         "Bugstopper SunShield Cap",
         "All New Arrivals",
         "65.0",
         "19.5",
         "Color#Stone~   Size#One Size",
         "mycustom",
         "\"https://cdn.staticsaa.com/uploads/68512/cart/resources/20240422/c9e57a1d4abd36aeb490efa2127db214.webp\",\"https://cdn.staticsaa.com/uploads/68512/cart/resources/20240422/c5f73242bf7863b1aad4db0720a12b32.jpg\",\"https://cdn.staticsaa.com/uploads/68512/cart/resources/20240422/39f7ef6185dc71ee31a20d63414b3c25.jpg\"",
         null,
         null,
         "https://us-simmsfishing.shop/collections/all-new-arrivals/products/bugstopper-sunshield-cap?data_from=collection_detail",
         "<p>When fishing is the only itch you want to scratch, the long-bill Bugstopper SunShield Cap delivers lasting UPF50+ sun protection and proven Insect Shield&reg; performance.</p> <ul> <li>Nylon fabric with DWR finish provides UPF50+ protection</li> <li>Integrated and strategically stitched cape provides back-of-neck sun protection</li> <li>Hook and loop rear closure for an adjustable fit</li> <li>Black underbrim for glare reduction</li> </ul> <p><span>FABRIC TECH:</span></p> <p>100% nylon Tactel&reg; ; Teflon&reg; DWR water-resistant finish and InsectShield treatment</p> <p>ITEM #: PG-13971</p></div> </li> <br>"
        ],
        [
         "16",
         "SK0000017-US",
         "M‘s Species T-Shirt",
         "All New Arrivals",
         "35.0",
         "10.5",
         "Color#Navy Heather|Cinder Heather~   Size#S|M|L|XL|2XL|3XL",
         "mycustom",
         "\"https://cdn.staticsaa.com/uploads/68512/cart/resources/20240422/78bde37ffec93bf3ac7a46ff3a1cda82.webp\",\"https://cdn.staticsaa.com/uploads/68512/cart/resources/20240422/f88ede8359490be1d594b61b904f29a7.webp\",\"https://cdn.staticsaa.com/uploads/68512/cart/resources/20240422/a8b5e23628d45144c72886a8814f7f9c.webp\",\"https://cdn.staticsaa.com/uploads/68512/cart/resources/20240422/97397f7ea5bd553d3366ff005f067de6.webp\"",
         null,
         null,
         "https://us-simmsfishing.shop/collections/all-new-arrivals/products/m-s-species-t-shirt?data_from=collection_detail",
         "<p>Dedicated to your friends with fins, add the cotton-poly Species T-Shirt to your daily rotation for a laid-back look that's ready to dive into the day.</p>   <p><span>FABRIC TECH:</span></p> <p>52% Cotton / 48% Polyester</p> <p>ITEM #: PG-14093</p></div> </li> <br>"
        ],
        [
         "17",
         "SK0000018-US",
         "M‘s Trout Regiment Camo Fill T-Shirt",
         "All New Arrivals",
         "35.0",
         "10.5",
         "Color#Cinder Heather|Navy Heather|Black~   Size#S|M|L|XL|2XL|3XL",
         "mycustom",
         "\"https://cdn.staticsaa.com/uploads/68512/cart/resources/20240422/3fd7f92a1669c346db9e27763bb6e251.webp\",\"https://cdn.staticsaa.com/uploads/68512/cart/resources/20240422/2474482115bf0ee4a2f5141c400ef326.webp\",\"https://cdn.staticsaa.com/uploads/68512/cart/resources/20240422/e90720b99ba8a7c3d2300df5c79f126e.webp\",\"https://cdn.staticsaa.com/uploads/68512/cart/resources/20240422/f7a2eec3169622f5ed82721120dd462f.webp\",\"https://cdn.staticsaa.com/uploads/68512/cart/resources/20240422/f7f418d346c03972e591dfd6a334d004.webp\",\"https://cdn.staticsaa.com/uploads/68512/cart/resources/20240422/51ba68469d93b9a45aad6f42536b1a22.webp\"",
         null,
         null,
         "https://us-simmsfishing.shop/collections/all-new-arrivals/products/m-s-trout-regiment-camo-fill-t-shirt?data_from=collection_detail",
         "<p>From cutties to browns to 'bows, the Trout Regiment Camo Fill T-Shirt supports the fixation with a plush blend of cotton-poly comfort meets fish-centric style.</p>   <p><span>FABRIC TECH:</span></p> <p>52% Cotton / 48% Polyester</p> <p>ITEM #: PG-14101</p></div> </li> <br>"
        ],
        [
         "18",
         "SK0000019-US",
         "M‘s Superlight Shorts",
         "All New Arrivals",
         "90.0",
         "27.0",
         "Color#Cork|Storm|Cinder~   Size#30|32|34|36|38|40|42",
         "mycustom",
         "\"https://cdn.staticsaa.com/uploads/68512/cart/resources/20240422/ca6969f6747ca5960245e494b2952ada.webp\",\"https://cdn.staticsaa.com/uploads/68512/cart/resources/20240422/586839f16c383673c4c35818e8daba89.webp\",\"https://cdn.staticsaa.com/uploads/68512/cart/resources/20240422/ccf6858b9e1cab55525872eba7b31b49.webp\",\"https://cdn.staticsaa.com/uploads/68512/cart/resources/20240422/21df16313d9eec42146903479a86028e.webp\",\"https://cdn.staticsaa.com/uploads/68512/cart/resources/20240422/d5e0754420c9f181b7f151471d416fe4.webp\",\"https://cdn.staticsaa.com/uploads/68512/cart/resources/20240422/35be9b62079733f2de4569274beb5c2f.webp\",\"https://cdn.staticsaa.com/uploads/68512/cart/resources/20240422/83e058813eec665a55000a394579416c.webp\",\"https://cdn.staticsaa.com/uploads/68512/cart/resources/20240422/e566e43141c6258fb001153931cae977.webp\",\"https://cdn.staticsaa.com/uploads/68512/cart/resources/20240422/10061787c41f0d957ce2fcff6348fdf9.webp\"",
         null,
         null,
         "https://us-simmsfishing.shop/collections/all-new-arrivals/products/m-s-superlight-shorts?data_from=collection_detail",
         "<p>Mixing together a tropical punch of peerless on-water performance, Superlight Shorts wick moisture, dry in a flash and save your skin thanks to powerful UPF 50+ protection.</p> <ul> <li>Water-repellent, fast-drying woven nylon with a cooling touch for a full suite of on-water comfort and protection</li> <li>Fixed waistband with a zippered fly, reinforced belt loops, button front closure, and interior drawcord to cinch secure</li> <li>Two front drop-in hand pockets and two back pockets. Back right pocket zips closed to secure essentials. All pocket bags are built with water drainage for fast drying</li> <li>Right thigh drop-in pocket for pliers or other tools with water drainage for fast drying</li> <li>9\" inseam for all waist sizes</li> </ul> <p><span>FABRIC TECH:</span></p> <p>100% nylon, 103 gsm; Finish details: wicking + Stone Cold mineral cooling with DWR</p> <p>ITEM #: PG-13956</p></div> </li> <br>"
        ],
        [
         "19",
         "SK0000020-US",
         "Simms Pursuit Shoe",
         "All New Arrivals",
         "140.0",
         "35.0",
         "Color#Riffle Green|Steel~   Size#M's 5/W's 7|M's 6/W's 8|M's 7/W's 9|M's 8/W's 10|M's 9/W's 11|M's 9.5/W's 11.5|M's 10/W's 12|M's 10.5/ W's 12.5|M's 11/W's 13|M's 11.5/W's 13.5|M's 12/W's 14|M's 13/W's 15|M's 14/W's 16",
         "mycustom",
         "\"https://cdn.staticsaa.com/uploads/68512/cart/resources/20240422/AD76AC8A-398E-8FEB-A4AC-CEC8FCFA1FE1.webp\",\"https://cdn.staticsaa.com/uploads/68512/cart/resources/20240422/50AFD292-E303-327C-E350-C368384F78EF.webp\",\"https://cdn.staticsaa.com/uploads/68512/cart/resources/20240422/F6FC4731-6902-2C1D-9511-D6E51C00CD20.jpg\",\"https://cdn.staticsaa.com/uploads/68512/cart/resources/20240422/0D930489-DF54-B758-361C-C04D8AAA95B0.webp\",\"https://cdn.staticsaa.com/uploads/68512/cart/resources/20240422/6B119024-5290-FC0C-C3F1-BBC1C14D1F54.webp\",\"https://cdn.staticsaa.com/uploads/68512/cart/resources/20240422/849C6554-61A2-5078-33F0-2FE5E2CDC2F9.webp\",\"https://cdn.staticsaa.com/uploads/68512/cart/resources/20240422/B0B50C44-6684-D042-5D11-27E1E84CEB7F.webp\",\"https://cdn.staticsaa.com/uploads/68512/cart/resources/20240422/03140F79-9241-2ED9-EC9E-B11C7991AB63.webp\",\"https://cdn.staticsaa.com/uploads/68512/cart/resources/20240422/9A665A27-B487-F6C5-7493-A0DF2C803CB9.webp\",\"https://cdn.staticsaa.com/uploads/68512/cart/resources/20240422/7A5DB328-9C4E-0D73-4465-9A4AF7478CB4.webp\",\"https://cdn.staticsaa.com/uploads/68512/cart/resources/20240422/1598A629-93EB-9356-5472-509B50C39732.webp\"",
         null,
         null,
         "https://us-simmsfishing.shop/collections/all-new-arrivals/products/simms-pursuit-shoe?data_from=collection_detail",
         "<p>The Simms Pursuit Shoe is your ultimate wet-wading cross trainer powered by an upstanding in-river grip that's equally at home on the deck, paddle board, or anywhere you plan to pool your efforts.</p> <ul> <li>Constructed with an ultra-breathable and quick-draining mesh upper, stretch collar and high-abrasion TPU overlays in key wear areas</li> <li>Quick-lacing system allows for easy fit adjustment and low-line snag</li> <li>Non-marking siped outsole for wet-slip resistance</li> <li>Sized to be worn barefoot or with a thin liner sock</li> </ul> <p><span>Size equivalents for Men's and Women's-</span></p> <ul> <li>Men&rsquo;s 5/&nbsp;<span>Women's 7</span></li> <li>Men&rsquo;s 6/&nbsp;<span>Women's 8</span></li> <li>Men&rsquo;s 7/&nbsp;<span>Women's 9</span></li> <li>Men&rsquo;s 8/&nbsp;<span>Women's 10</span></li> <li>Men&rsquo;s 9/&nbsp;<span>Women's 11</span></li> <li>Men&rsquo;s 9.5/&nbsp;<span>Women's 11.5</span></li> <li>Men&rsquo;s 10/&nbsp;<span>Women's 12</span></li> <li>Men&rsquo;s 10.5/&nbsp;<span>Women's 12.5</span></li> <li>Men&rsquo;s 11/&nbsp;<span>Women's 13</span></li> <li>Men&rsquo;s 11.5/&nbsp;<span>Women's 13.5</span></li> <li>Men&rsquo;s 12/&nbsp;<span>Women's 14</span></li> <li>Men&rsquo;s 13/&nbsp;<span>Women's 15</span></li> </ul> <p>ITEM #: PG-13964</p></div> </li> <br>"
        ],
        [
         "20",
         "SK0000021-US",
         "Dry Creek Tech Pouch",
         "All New Arrivals",
         "50.0",
         "15.0",
         "Color#Black~   Size#One Size",
         "mycustom",
         "\"https://cdn.staticsaa.com/uploads/68512/cart/resources/20240422/94157594ab49a9def5a9a45f0c51cfec.webp\",\"https://cdn.staticsaa.com/uploads/68512/cart/resources/20240422/4bdaf6e8ecc8743454f9f98bf9f971a2.webp\",\"https://cdn.staticsaa.com/uploads/68512/cart/resources/20240422/3bdcabb19a961682559f30208247cb6d.webp\"",
         null,
         null,
         "https://us-simmsfishing.shop/collections/all-new-arrivals/products/dry-creek-tech-pouch?data_from=collection_detail",
         "<p>Whether it's a deluge from above or a dunking from below, say goodbye to soaked circuits with the Dry Creek Tech Pouch that features a touch-screen-compatible window.</p> <ul> <li>TRU&reg; Zip waterproof self-healing zipper for 100% waterproof-submersible protection</li> <li>Touch-screen compatible clear window allows access to electronics without entering the pouch</li> <li>Large size accommodates most phones</li> <li><span>This&nbsp;</span><span>product</span><span>&nbsp;is intended for severe wet conditions. Made with&nbsp;</span><span>PFAS</span><span>&nbsp;chemicals.</span></li> </ul> <p><span>FABRIC TECH:</span></p> <p>210-denier nylon ripstop with TPU coating</p> <p>ITEM #: PG-13999</p></div> </li> <br>"
        ],
        [
         "21",
         "SK0000022-US",
         "M‘s Solar Sombrero",
         "All New Arrivals",
         "50.0",
         "15.0",
         "Color#Sterling~   Size#S/M|L/XL",
         "mycustom",
         "\"https://cdn.staticsaa.com/uploads/68512/cart/resources/20240422/a5100d6c38e057b55e5070f721be262b.webp\",\"https://cdn.staticsaa.com/uploads/68512/cart/resources/20240422/90dfc1db6a57d5502a9ec79157558cb1.webp\",\"https://cdn.staticsaa.com/uploads/68512/cart/resources/20240422/48ebfc08aa9b72acff88cc639d413135.webp\",\"https://cdn.staticsaa.com/uploads/68512/cart/resources/20240422/7e94b4c62797ecf66d26e613dca8dd31.jpg\",\"https://cdn.staticsaa.com/uploads/68512/cart/resources/20240422/7718479489cb8fd10ec4292b52bf8fea.jpg\",\"https://cdn.staticsaa.com/uploads/68512/cart/resources/20240422/f08a09e734ea95c0d3214da6fd9f4a34.jpg\"",
         null,
         null,
         "https://us-simmsfishing.shop/collections/all-new-arrivals/products/m-s-solar-sombrero?data_from=collection_detail",
         "<p>The easy-wearing Solar Sombrero is a lightweight, moisture-wicking lid that protects your head and neck during long, hot days on the water.</p> <ul> <li>Nylon fabric with DWR finish provides UPF 50+ protection on top of head and brim; mesh fabric offers extra breathability</li> <li>Adjustable stampede strap</li> <li>Easy fit elastic sweatband for comfort and range of fit</li> <li>Foam brim for floatation</li> <li>Black underbrim for glare reduction</li> </ul> <p><span>FABRIC TECH:</span></p> <p>Top of crown and brim: 100% nylon Tactel&reg; ; Teflon&reg; DWR water-resistant finish Side of hat panels: 100% polyester mesh</p> <p>ITEM #: PG-13968</p></div> </li> <br>"
        ],
        [
         "22",
         "SK0000023-US",
         "Sharkfin Buckle",
         "MEN WADERS",
         "5.0",
         "1.5",
         "color#Simms Orange~   Size#One Size",
         "mycustom",
         "\"https://cdn.staticsaa.com/uploads/68512/cart/resources/20231215/5AA72A26-5B6D-98FC-18A8-681071D8A2B2.jpg\"",
         null,
         null,
         "https://us-simmsfishing.shop/collections/men-waders/products/sharkfin-buckle_ea4536a8?data_from=collection_detail",
         "<div> <div> <p>Keep your hemostats close at hand with our patented buckle that clips into your wader suspenders.</p> <br><ul><li>Compatible with any Simms wader with Duraflex Buckles, excludes Headwaters Stockingfoot. </li></ul> <br>ITEM #: PG-13036</div> </div></div> </li> <br>"
        ],
        [
         "23",
         "SK0000024-US",
         "Super-Fly Patch",
         "MEN WADERS",
         "10.0",
         "3.0",
         "color#Colorless~   Size#One Size",
         "mycustom",
         "\"https://cdn.staticsaa.com/uploads/68512/cart/resources/20231215/4C89353F-EB32-9917-8EC3-195F4A2874FA.jpg\"",
         null,
         null,
         "https://us-simmsfishing.shop/collections/men-waders/products/super-fly-patch_58de2000?data_from=collection_detail",
         "<div> <div> <p>The durable Super-Fly Patch® resists deformation and provides constant pressure on the shank of a barbless hook for more secure hold.</p> <ul> <li>Durable EVA foam resists deformation</li> <li>Attach to any Simms vest with VELCRO® Brand fasteners back</li> <li>Provides constant pressure on the shank of a barbless hook for more secure hold</li> </ul> <div>ITEM #: AU-SFP5</div> </div> </div></div> </li> <br>"
        ],
        [
         "24",
         "SK0000025-US",
         "W‘s Wading Accessory Kit",
         "MEN WADERS",
         "40.0",
         "12.0",
         "color#Dark Moon~   Size#One Size",
         "mycustom",
         "\"https://cdn.staticsaa.com/uploads/68512/cart/resources/20231215/EE2F4D01-F3E5-CFDB-E0A3-0264FCE4E7E8.jpg\",\"https://cdn.staticsaa.com/uploads/68512/cart/resources/20231215/8E70F18D-C3F2-DA06-2B26-EDA6C9C6DB27.jpg\"",
         null,
         null,
         "https://us-simmsfishing.shop/collections/men-waders/products/w-s-wading-accessory-kit_02fc16e5?data_from=collection_detail",
         "<div> <div> <p>Freshen up your wading ensemble with interchangeable wading belt and suspender straps.</p> <br><ul> <li>Fits with Women's G3 Guide Z Stockingfoot Wader and Women's Freestone Z Stockingfoot Wader</li> <li>38-mm/ 1.5\" width on both Suspender and Belt</li> </ul> <br>FABRIC TECH: Polyester Elastic material on both Suspender and Belt<br><p>ITEM #: PG-13037 </p> </div> </div></div> </li> <br>"
        ],
        [
         "25",
         "SK0000026-US",
         "M‘s Gravel Guards",
         "MEN WADERS",
         "40.0",
         "12.0",
         "color#Charcoal~   Size#One Size",
         "mycustom",
         "\"https://cdn.staticsaa.com/uploads/68512/cart/resources/20231215/24FC9590-AA24-0377-B586-279943D5F61E.jpg\"",
         null,
         null,
         "https://us-simmsfishing.shop/collections/men-waders/products/m-s-gravel-guards_aac8ffd6?data_from=collection_detail",
         "<div> <div> <p>Arm your wading boots with the debris-stymieing abilities of the best-fitting Gravel Guards ever built, bar none. Features include a nonslip, contoured design that forms a surefire seal, a loop wrap with VELCRO® Brand fasteners closure, and textured nylon jersey on the underside of the Gravel Guard for enhanced durability.</p> <ul> <li>New &amp; improved fit that contours better with the shape of your boots</li> <li>Abrasion resistant textured nylon jersey on the underside of the Gravel Guard will increase durability of the guard</li> <li>Calf length</li> <li>Easy on-off</li> <li>One size fits most</li> </ul> <div>ITEM #: PG-10504</div> </div> </div></div> </li> <br>"
        ],
        [
         "26",
         "SK0000027-US",
         "BackMagic Wading Belt",
         "MEN WADERS",
         "100.0",
         "25.0",
         "color#Black~   Size#S/M|L/XL",
         "mycustom",
         "\"https://cdn.staticsaa.com/uploads/68512/cart/resources/20231215/931313A4-51B3-B736-FC87-017FDEAEDE87.jpg\",\"https://cdn.staticsaa.com/uploads/68512/cart/resources/20231215/1DC03B75-E6F3-6701-7DDA-EEB8EBA0B2E2.jpg\"",
         null,
         null,
         "https://us-simmsfishing.shop/collections/men-waders/products/backmagic-wading-belt_7f87bf20?data_from=collection_detail",
         "<div> <p>For when your heart and soul is into the fishing, but your back just isn't. The BackMagic™ Wading Belt was designed by orthopedic physicians to help ease the pain that can come from fighting rivers and, if you're lucky, strong-willed fish. This back-saving belt adjusts for an anatomically correct fit on any angler.</p> <ul> <li>Designed by orthopedic physicians &amp; manufactured by a medical products company</li> <li>Highly breathable structured mesh for support &amp; ventilation</li> <li>2-part adjustable closure: VELCRO® Brand fasteners - easy &amp; secure closure, self-adjusting, anatomically correct fit.</li> <li>SIZING: S/M fits 29-34 in., L/XL fits 35-41 in.</li> <li>14 oz.</li> </ul> <div>WEIGHT: 14 oz. (396.9 g)<br>ITEM #: PG-12255</div> </div></div> </li> <br>"
        ],
        [
         "27",
         "SK0000028-US",
         "Backsaver Wading Belt",
         "MEN WADERS",
         "90.0",
         "27.0",
         "color#Black~   Size#One Size",
         "mycustom",
         "\"https://cdn.staticsaa.com/uploads/68512/cart/resources/20231215/BE8E90D3-DFB7-4BA1-6617-5FCA14D46577.jpg\"",
         null,
         null,
         "https://us-simmsfishing.shop/collections/men-waders/products/backsaver-wading-belt_ed38e904?data_from=collection_detail",
         "<div> <div> <p>Greatly reduce lower back stress and fatigue with the BackSaver™ Wading Belt - a must-have for any angler with a back.</p> <ul> <li>Greatly reduces lower back stress &amp; fatigue</li> <li>2 in. wide nylon webbing &amp; supportive thermoformed foam</li> <li>Quick-action release buckle</li> <li>Adjustable from 30 in. to 46 in.</li> </ul> <div>WEIGHT: 8 oz. (226.8 g)<br>ITEM #: AU-BSB9</div> </div> </div></div> </li> <br>"
        ],
        [
         "28",
         "SK0000029-US",
         "Wading Drink Jacket",
         "MEN WADERS",
         "18.0",
         "5.4",
         "color#Black|Simms Orange~   Size#One Size",
         "mycustom",
         "\"https://cdn.staticsaa.com/uploads/68512/cart/resources/20231215/41ECFE6A-5B0D-1524-F1B6-B78928DDD8EF.jpg\",\"https://cdn.staticsaa.com/uploads/68512/cart/resources/20231215/B30C8EAE-AC03-BC02-A848-07918DCE5ABC.jpg\"",
         null,
         null,
         "https://us-simmsfishing.shop/collections/men-waders/products/wading-drink-jacket_0731b825?data_from=collection_detail",
         "<div> <p>Maximize your hydration duration with Simms' best-selling jacket, updated to fit multiple wading belt styles for spill-proof possession.</p> <br><ul> <li>100% neoprene construction keeps beverages cold for the long haul</li> <li>Two webbing loops to accommodate attachment to 38mm - 2\" wide wading belts</li> <li>Drain hole at bottom</li> </ul> <br><span>FABRIC TECH: 100% Neoprene</span><br><span>ITEM #: PG-13215</span> </div></div> </li> <br>"
        ],
        [
         "29",
         "SK0000030-US",
         "Tippet Tender Pocket",
         "MEN WADERS",
         "30.0",
         "9.0",
         "color#Carbon~   Size#One Size",
         "mycustom",
         "\"https://cdn.staticsaa.com/uploads/68512/cart/resources/20231215/6E9CA433-A4CB-DB15-2BC0-FE92B2CCF127.jpg\",\"https://cdn.staticsaa.com/uploads/68512/cart/resources/20231215/B1AC4BA2-C225-6541-8690-09997BC40C34.jpg\"",
         null,
         null,
         "https://us-simmsfishing.shop/collections/men-waders/products/tippet-tender-pocket_208ee3e6?data_from=collection_detail",
         "<div> <div> <p>Keep your tippet, tools and flies handy and organized with Simms' requisite zip-in wader pocket.</p> <br><ul> <li>Lightweight yet durable 210-denier nylon ripstop construction</li> <li>Dual entry zippers allow easy access to main compartments</li> <li>Exterior stretch mesh pockets are secured by hook and loop and accommodate most tippet brands</li> <li>Exterior horizontal webbing loops allow for tool or accessory docking</li> <li>Loop patch for fly storage</li> <li>Interfaces with SIMMS Tippet Tender™ pocket zip-in system</li> </ul> <br>FABRIC TECH: Shell: 210D CORDURA® Nylon Ripstop with PU Coating and DWR Treatment; Lining: 100% Polyester<br>ITEM #: PG-13340</div> </div></div> </li> <br>"
        ],
        [
         "30",
         "SK0000031-US",
         "Neoprene Wading Belt",
         "MEN WADERS",
         "30.0",
         "9.0",
         "color#Black~   Size#One Size",
         "mycustom",
         "\"https://cdn.staticsaa.com/uploads/68512/cart/resources/20231215/9464E19D-760F-A0D7-90ED-4E097E5AA220.jpg\"",
         null,
         null,
         "https://us-simmsfishing.shop/collections/men-waders/products/neoprene-wading-belt_ebb07e85?data_from=collection_detail",
         "<div> <div> <p>5-mm Neoprene Wading Belt for comfort, new heavy-load buckle for added strength &amp; safety.</p> <ul> <li>5-mm neoprene provides comfortable alternative to standard wading belts</li> <li>Holds shape when tight for safe-wading</li> <li>New heavy-load buckle for added strength &amp; safety</li> <li>2 in. high density neoprene with a hook-&amp;-loop side adjustment</li> </ul> <div>ITEM #: PG-11078</div> </div> </div></div> </li> <br>"
        ],
        [
         "31",
         "SK0000032-US",
         "SIMMS Tippet Caddy",
         "MEN WADERS",
         "20.0",
         "6.0",
         "color#Black~   Size#One Size",
         "mycustom",
         "\"https://cdn.staticsaa.com/uploads/68512/cart/resources/20231215/C79730B6-0F4F-A86D-52ED-7554B15F3EEF.jpg\"",
         null,
         null,
         "https://us-simmsfishing.shop/collections/men-waders/products/simms-tippet-caddy_ca93cc60?data_from=collection_detail",
         "<div> <div> <p>Designed to keep tippet close-at-hand, the Tippet Caddy offers modular attachment and quick adjustment for headache-free rigging.</p> <br><ul> <li>No-frills design accommodates up to 6 spools of tippet from most manufacturers</li> <li>Quick-attach carabiner system allows for attachment to a variety of platforms - ideal for wader straps, wading belts, MOLLE webbing or HexGrid</li> <li>Adjustable length via cord lock assembly and bungee cord</li> <li>Plastic sleeve allows the tippet to spin freely no matter where the Caddy is attached</li> </ul> <br>ITEM #: PG-13470</div> </div></div> </li> <br>"
        ],
        [
         "32",
         "SK0000033-US",
         "Guide Lanyard",
         "MEN WADERS",
         "30.0",
         "9.0",
         "color#Simms Orange~   Size#One Size",
         "mycustom",
         "\"https://cdn.staticsaa.com/uploads/68512/cart/resources/20231215/0C619B89-CA9B-4FD8-C370-B0D8EFF3F901.jpg\"",
         null,
         null,
         "https://us-simmsfishing.shop/collections/men-waders/products/guide-lanyard_53734653?data_from=collection_detail",
         "<div> <div> <p>Keep nippers and other key fishing tools exactly where you need them with this guide-approved, tangle-resistant Guide Lanyard. Built from indomitable Dyneema® cording, details include anodized machined-aluminum hardware, a stainless steel split-ring attachment, and an adjustable fit for all-day comfort.</p> <ul> <li>Dyneema® cord</li> <li>Machined aluminum &amp; Type II anodized hardware</li> <li>Stainless steel split ring</li> <li>Adjustable fit</li> </ul> <div>DIMENSIONS: Adjustable: 27 in. (68.6 cm) x 50 in. (127 cm) in length<br>WEIGHT: 4 oz. (113.4 g)<br>ITEM #: PG-11795</div> </div> </div></div> </li> <br>"
        ],
        [
         "33",
         "SK0000034-US",
         "M‘s Freestone® Wading Jacket",
         "WADERS-MEN WADERS-Wading Jackets",
         "330.0",
         "66.0",
         "color#Black~   Size#S|M|L|XL|2XL",
         "mycustom",
         "\"https://cdn.staticsaa.com/uploads/68512/cart/resources/20231215/AD30B661-4FF4-52E0-F98F-23D04CA35510.jpg\",\"https://cdn.staticsaa.com/uploads/68512/cart/resources/20231215/65635587-6424-A82E-9EBB-4765831E592D.jpg\",\"https://cdn.staticsaa.com/uploads/68512/cart/resources/20231215/0A2466D9-1229-224C-1F51-3B2A1067615B.jpg\",\"https://cdn.staticsaa.com/uploads/68512/cart/resources/20231215/776209FB-F100-380F-7963-74F6B7FCA9B1.jpg\",\"https://cdn.staticsaa.com/uploads/68512/cart/resources/20231215/F4C3ECD3-75E2-3522-B8F5-7545366C95CE.jpg\",\"https://cdn.staticsaa.com/uploads/68512/cart/resources/20231215/41808F4F-BF50-9BB5-6EC4-FD96F75CAC13.jpg\",\"https://cdn.staticsaa.com/uploads/68512/cart/resources/20231215/7610E124-CCE4-EC45-630E-4CFC04602767.jpg\",\"https://cdn.staticsaa.com/uploads/68512/cart/resources/20231215/C0CC3954-5F75-42FB-E6DD-FEC40159726E.jpg\",\"https://cdn.staticsaa.com/uploads/68512/cart/resources/20231215/A9431996-7A8E-5384-3015-71C50D50E67F.jpg\",\"https://cdn.staticsaa.com/uploads/68512/cart/resources/20231215/8E17358D-8ED8-9309-F5D2-CA5B6A43DCAA.jpg\",\"https://cdn.staticsaa.com/uploads/68512/cart/resources/20231215/E3FD10D9-E9DE-0DBA-7C75-CB4EA436E307.jpg\",\"https://cdn.staticsaa.com/uploads/68512/cart/resources/20231215/F1933B4A-267E-0BE6-D5BC-75C5C0FF953E.jpg\",\"https://cdn.staticsaa.com/uploads/68512/cart/resources/20231215/3C097532-FBC3-39A3-8AD2-67D7F9F16058.jpg\"",
         null,
         null,
         "https://us-simmsfishing.shop/collections/waders-men-waders-wading-jackets/products/m-s-freestone-wading-jacket_932b030a?data_from=collection_detail",
         "<div> <p>Simms' waterproof-breathable Freestone® Wading Jacket brings versatility to any adventure with a motion enhancing cut, ample pockets for storage and a full-time hood.</p> <br><ul> <li>3-layer Toray® laminate for waterproof, breathable protection against any storm mother nature presents</li> <li>Single point adjustable storm hood with high collar and bonded brim to shed rain</li> <li>YKK® water-resistant front zipper with storm flap</li> <li>Waist-high zippered hand warmer pockets with micro brushed tricot liner and drain holes, built for wading</li> <li>Interior stretch-woven zippered chest pocket and adjustable stretch drawcord at hem for secure fit</li> <li>Articulated sleeve construction for maximum movement secured with hook and loop cuff to keep water out</li> </ul> <br>FABRIC TECH: 3-layer Toray ®; 100% nylon with tricot backer<br>WEIGHT: 30 oz. (850.5 g)<br>ITEM #: PG-13156 </div></div> </li> <br>"
        ],
        [
         "34",
         "SK0000035-US",
         "M‘s Guide Classic Wading Jacket",
         "WADERS-MEN WADERS-Wading Jackets",
         "450.0",
         "90.0",
         "color#Carbon~   Size#S|M|L|XL|2XL|3XL|4XL",
         "mycustom",
         "\"https://cdn.staticsaa.com/uploads/68512/cart/resources/20231215/FB0C8FB5-E584-531C-A78B-6BD25B3DB758.jpg\",\"https://cdn.staticsaa.com/uploads/68512/cart/resources/20231215/5C4B6BF8-0FEE-36CF-DD64-1917E75DE007.jpg\",\"https://cdn.staticsaa.com/uploads/68512/cart/resources/20231215/8DF1EC60-7238-3A13-A18C-1B78D7EC5D23.jpg\",\"https://cdn.staticsaa.com/uploads/68512/cart/resources/20231215/6104A4AE-1B9F-CE4F-6635-B2C41C0D9529.jpg\",\"https://cdn.staticsaa.com/uploads/68512/cart/resources/20231215/972E3921-C950-22A3-4062-5F75051704B1.jpg\",\"https://cdn.staticsaa.com/uploads/68512/cart/resources/20231215/AF2D6F33-B4D6-61B8-0531-FAA2ECE42D91.jpg\",\"https://cdn.staticsaa.com/uploads/68512/cart/resources/20231215/E76E3060-1ECF-72EA-E7AE-33BB8B0EAC86.jpg\",\"https://cdn.staticsaa.com/uploads/68512/cart/resources/20231215/83F57D4C-DF54-7547-554D-7790BD4745D0.jpg\",\"https://cdn.staticsaa.com/uploads/68512/cart/resources/20231215/94A5EF57-3073-94BD-E748-D56DA1972314.jpg\",\"https://cdn.staticsaa.com/uploads/68512/cart/resources/20231215/C3031E9E-76B0-EAC4-4B5F-E3D542F54AFD.jpg\",\"https://cdn.staticsaa.com/uploads/68512/cart/resources/20231215/B53B7521-27EE-8870-E0D6-08D95ECBB9A7.jpg\"",
         null,
         null,
         "https://us-simmsfishing.shop/collections/waders-men-waders-wading-jackets/products/m-s-guide-classic-wading-jacket_1abd65c9?data_from=collection_detail",
         "<div> <p>Your dependable, wet-weather workhorse, GORE-TEX Guide Classic Jacket provides relentless rain protection, ample storage for fishing gear and features a timeless waist-length hemline for compatibility with waders and deep wading endeavors.</p> <br><ul> <li>3-point adjustable storm hood with high collar and bonded brim to shed rain</li> <li>Hook and loop front patch to store drying flies and center back D-ring to attach landing net</li> <li>Two large chest pockets designed to carry fly boxes and an interior zippered chest pocket for essentials</li> <li>Two slash hand warmer pockets are placed high behind chest pockets and backed with brush tricot for deep wading warmth</li> <li>Waist-high hemline secures with stretch drawcord to pair up perfectly with waders</li> </ul> <br>FABRIC TECH: 3-layer GORE-TEX - 70D 100% nylon with DWR/100% nylon tricot backer<br>ITEM #: PG-13155 </div></div> </li> <br>"
        ],
        [
         "35",
         "SK0000036-US",
         "M‘s Bulkley Insulated Wading Jacket",
         "WADERS-MEN WADERS-Wading Jackets",
         "500.0",
         "100.0",
         "color#Black~   Size#S|M|L|XL|2XL|3XL",
         "mycustom",
         "\"https://cdn.staticsaa.com/uploads/68512/cart/resources/20231215/983178B7-28C1-E242-6050-B0686105A4E1.jpg\",\"https://cdn.staticsaa.com/uploads/68512/cart/resources/20231215/DCA4A807-F206-784D-E973-A0FFB2321B75.jpg\",\"https://cdn.staticsaa.com/uploads/68512/cart/resources/20231215/2DF77FE3-FCB5-6CEA-0C84-CFA2388C80FD.jpg\",\"https://cdn.staticsaa.com/uploads/68512/cart/resources/20231215/A37830EE-74D1-E207-C5ED-D007FB0AAE6C.jpg\",\"https://cdn.staticsaa.com/uploads/68512/cart/resources/20231215/075B3B80-DFC1-53E2-1199-C62971C1021B.jpg\",\"https://cdn.staticsaa.com/uploads/68512/cart/resources/20231215/33780FA6-616E-D170-E3BE-D1B4646645E3.jpg\",\"https://cdn.staticsaa.com/uploads/68512/cart/resources/20231215/30CB73CF-3720-0747-AE61-C1DA449B4018.jpg\",\"https://cdn.staticsaa.com/uploads/68512/cart/resources/20231215/8148C6CE-4F80-3831-1583-6796B648E34A.jpg\",\"https://cdn.staticsaa.com/uploads/68512/cart/resources/20231215/9D97A85D-DBB4-8D9A-065C-E49D79151077.jpg\",\"https://cdn.staticsaa.com/uploads/68512/cart/resources/20231215/0777172C-24AF-143D-17CD-48D44F4760E0.jpg\",\"https://cdn.staticsaa.com/uploads/68512/cart/resources/20231215/76D82766-6054-E3F5-314F-89452BFBD8E1.jpg\"",
         null,
         null,
         "https://us-simmsfishing.shop/collections/waders-men-waders-wading-jackets/products/m-s-bulkley-insulated-wading-jacket_8484280c?data_from=collection_detail",
         "<div> <p>When you're ready to chase the biggest and brightest through the season's coldest and harshest, the Bulkley sets the insulated-jacket standard for premium warmth meets unwavering wet- and windy-weather protection.</p> <ul> <li>Constructed with 2-layer GORE-TEX polyester laminate that is fully seam-taped, for 100% waterproof protection</li> <li>Trap the warmth with PrimaLoft® Silver insulation, lined with a comfortable, breathable polyester</li> <li>3-panel hood with 3-point adjustable stretch cord to lock out the cold and rain. The brim is bonded to cinch and protect</li> <li>Exposed YKK center front water-resistant zipper is backed by an internal storm placket, finished with a soft brush tricot zipper guard</li> <li>The pocket array includes two water-resistant hand-warmer pockets for deep wading, two vertical chest pockets, and an interior mesh dump pocket</li> <li>Zippered pocket on the upper right arm to store on-water essentials</li> <li><span>This product is intended for severe wet conditions. Made with PFAS chemicals</span></li> </ul> <p><b>FABRIC TECH:</b></p> <p>Shell - 2-layer GORE-TEX - 75D 100% polyester with PFCec Free DWR</p> <p>Insulation - PrimaLoft® Silver 100g body, 60g sleeves, hood, collar</p> <p>Lining - 100% recycled polyester 30d taffeta</p> <p>ITEM #: PG-13864</p> </div></div> </li> <br>"
        ],
        [
         "36",
         "SK0000037-US",
         "W‘s G3 Guide Fishing Jacket",
         "WADERS-WOMEN WADERS-Wading Jackets",
         "450.0",
         "90.0",
         "color#Avalon Teal~   Size#XS|S|M|L|XL|2XL",
         "mycustom",
         "\"https://cdn.staticsaa.com/uploads/68512/cart/resources/20231215/EA0DB3D5-DB4B-78A7-E616-99C48E61DD5B.jpg\",\"https://cdn.staticsaa.com/uploads/68512/cart/resources/20231215/39DB62CA-2882-5055-EB7B-F897D04BC84F.jpg\",\"https://cdn.staticsaa.com/uploads/68512/cart/resources/20231215/09D19DFD-47F3-0F61-6D56-DEC36B4EDC9F.jpg\",\"https://cdn.staticsaa.com/uploads/68512/cart/resources/20231215/B5FBC213-932A-B695-2A6E-ABA40A96B969.jpg\",\"https://cdn.staticsaa.com/uploads/68512/cart/resources/20231215/DF967C2A-C445-3378-FED3-250795BD203B.jpg\",\"https://cdn.staticsaa.com/uploads/68512/cart/resources/20231215/4CB15793-A56E-4446-814F-4CC465059DA4.jpg\",\"https://cdn.staticsaa.com/uploads/68512/cart/resources/20231215/05BC5272-7C3E-3B9F-3B0A-FD03A11EEF27.jpg\",\"https://cdn.staticsaa.com/uploads/68512/cart/resources/20231215/B7B012F4-411F-4085-5DBE-2B527EEDF2A9.jpg\"",
         null,
         null,
         "https://us-simmsfishing.shop/collections/waders-women-waders-wading-jackets/products/w-s-g3-guide-fishing-jacket_f90bef9d?data_from=collection_detail",
         "<div> <p>Built for and designed by women anglers, the pro-caliber G3 Guide™ Jacket is cut from Gore-Tex® 3L fabric for fighting extreme elements.</p> <br><ul> <li>Single adjustment storm hood design</li> <li>Fly box-compatible chest pockets</li> <li>Spacious rear game pockets accessed through the front handwarmer pockets</li> <li>Shingled, no-catch watertight cuff</li> </ul> FABRIC TECH: 3-layer GORE-TEX® 80D 100% nylon face<br></div></div> </li> <br>"
        ],
        [
         "37",
         "SK0000038-US",
         "W‘s Freestone® Fishing Jacket",
         "WADERS-WOMEN WADERS-Wading Jackets",
         "330.0",
         "66.0",
         "color#Mulberry~   Size#XS|S|M|L|XL|2XL",
         "mycustom",
         "\"https://cdn.staticsaa.com/uploads/68512/cart/resources/20231215/D2861A6E-777E-D227-C42A-A4B78F59924D.jpg\",\"https://cdn.staticsaa.com/uploads/68512/cart/resources/20231215/3AFE9EC2-20DC-B6E6-79A0-10EF85F2A1BF.jpg\",\"https://cdn.staticsaa.com/uploads/68512/cart/resources/20231215/F0DCB966-60BC-AE2D-AAEA-50FA30DD517A.jpg\",\"https://cdn.staticsaa.com/uploads/68512/cart/resources/20231215/C18CDCB6-9EE1-B27F-DBDE-1BA2C069716D.jpg\",\"https://cdn.staticsaa.com/uploads/68512/cart/resources/20231215/36EB2B16-D1CA-8B11-3B1C-D9CF78C1B7C4.jpg\",\"https://cdn.staticsaa.com/uploads/68512/cart/resources/20231215/8068B3D7-4D8E-6CD8-3858-DB04D763CB56.jpg\",\"https://cdn.staticsaa.com/uploads/68512/cart/resources/20231215/FB1F441E-BFCA-E93B-22C8-C9640D95CA55.jpg\",\"https://cdn.staticsaa.com/uploads/68512/cart/resources/20231215/F31BD256-20E8-8A18-D723-3FA943B3F437.jpg\",\"https://cdn.staticsaa.com/uploads/68512/cart/resources/20231215/5C4EA363-5007-91D3-C1DE-4B42121EB0E1.jpg\",\"https://cdn.staticsaa.com/uploads/68512/cart/resources/20231215/349C7FE5-AE1E-1F39-AAAB-0950A96B453E.jpg\"",
         null,
         null,
         "https://us-simmsfishing.shop/collections/waders-women-waders-wading-jackets/products/w-s-freestone-fishing-jacket_2b875753?data_from=collection_detail",
         "<div> <p>The jill-of-all-things, the Freestone® Jacket brings 3-layer Toray® fabric for a durable, feature-rich shell that overrules unruly elements.</p>  <ul> <li><span>Fully taped 3-layer Toray® laminate for waterproof, breathable protection.</span></li> <li><span>Center front aquaguard waterproof zipper and zipper garage at chin for next-to-skin comfort.</span></li> <li><span>2 aquaguard zippered chest pockets; 2 zippered handwarmer pockets with brushed tricot lining for warmth; pockets are complete with drain holes for deep wading.</span></li> <li><span>3-point adjustable storm hood.</span></li> <li><span>Articulated sleeve with anti-line catch molded cuff tab.</span></li> <li><span>Shaped waist with two side zippered gussets for a comfortable and versatile fit while remaining stylish.</span></li> <li><span>This product is intended for severe wet conditions. Made with PFAS chemicals</span></li> <li>Past Season's Style</li> </ul>  <p><span>FABRIC TECH: Shell - 3-layer Toray® - 70D 100% nylon with DWR / 100% nylon tricot backer.</span></p> </div></div> </li> <br>"
        ],
        [
         "38",
         "SK0000039-US",
         "M‘s Merino Thermal OTC Socks",
         "OUTERWEAR",
         "40.0",
         "12.0",
         "color#Carbon~   Size#M|L|XL",
         "mycustom",
         "\"https://cdn.staticsaa.com/uploads/68512/cart/resources/20231215/8C5271CB-0B3D-F48E-6569-F894C3B01C57.jpg\"",
         null,
         null,
         "https://us-simmsfishing.shop/collections/outerwear/products/m-s-merino-thermal-otc-socks_63acb4cd?data_from=collection_detail",
         "<div> <div> <p>Heavyweight, hardworking Merino wool over-the-calf sock.</p> <br><ul> <li>Naturally wicking and odor resistant</li> <li>Reinforced midfoot support</li> <li>Reinforced heel and toe</li> <li>Over-the-calf height</li> <li>Made in USA</li> <li>Machine wash &amp; dry. See garment label for details.</li> </ul> <br>FABRIC TECH: 81% merino wool, 18% nylon, 1% Lycra® spandex<br>ITEM #: PG-13140</div> </div></div> </li> <br>"
        ],
        [
         "39",
         "SK0000040-US",
         "W‘s ExStream Pull-Over Insulated Hoody",
         "OUTERWEAR",
         "230.0",
         "57.5",
         "color#Black|Avalon Teal~   Size#XS|S|M|L|XL|2XL",
         "mycustom",
         "\"https://cdn.staticsaa.com/uploads/68512/cart/resources/20231215/4752D779-B304-ED47-1DBF-072E79B4045F.jpg\",\"https://cdn.staticsaa.com/uploads/68512/cart/resources/20231215/CABDEDD8-1043-A75C-FC28-9C11DA8EB28D.jpg\",\"https://cdn.staticsaa.com/uploads/68512/cart/resources/20231215/14D1F5EC-4AC0-0779-E2BC-F7F301A1C02E.jpg\",\"https://cdn.staticsaa.com/uploads/68512/cart/resources/20231215/59B5DDA4-09F6-389E-BDAC-39EEA069FA65.jpg\",\"https://cdn.staticsaa.com/uploads/68512/cart/resources/20231215/BFB513D2-4451-7C62-FCE7-977D80A38AC6.jpg\",\"https://cdn.staticsaa.com/uploads/68512/cart/resources/20231215/91ADB81F-EC3F-39DA-5E6B-CCC941A604F3.jpg\",\"https://cdn.staticsaa.com/uploads/68512/cart/resources/20231215/5D953CA1-863F-E01A-6F59-267037F047EF.jpg\",\"https://cdn.staticsaa.com/uploads/68512/cart/resources/20231215/05649205-AD20-39F0-D224-F44F58890E69.jpg\",\"https://cdn.staticsaa.com/uploads/68512/cart/resources/20231215/36F0959F-48BB-B23A-7D60-05E7A25B75B0.jpg\",\"https://cdn.staticsaa.com/uploads/68512/cart/resources/20231215/B7B8D96D-0FE6-6FF7-715B-13E079AF7F65.jpg\",\"https://cdn.staticsaa.com/uploads/68512/cart/resources/20231215/286D37B7-5E77-6410-6B42-E49A86D9C6EE.jpg\",\"https://cdn.staticsaa.com/uploads/68512/cart/resources/20231215/8C5525CA-27D4-9223-B8B8-3C23F94261D0.jpg\",\"https://cdn.staticsaa.com/uploads/68512/cart/resources/20231215/018ECDF7-66B2-A28A-C6F7-951EB6865E4A.jpg\",\"https://cdn.staticsaa.com/uploads/68512/cart/resources/20231215/C2D071AF-9000-FDB9-6875-B678EDD58E17.jpg\"",
         null,
         null,
         "https://us-simmsfishing.shop/collections/outerwear/products/w-s-exstream-pull-over-insulated-hoody_b09f33d0?data_from=collection_detail",
         "<div> <p>Crafted for windproof, water-resistant warmth, the ExStream Pull-Over Hoody uses ultra-lightweight, stitchless insulation for smooth operations under waders and bibs, while stretch fabrics maximize mobility across a full range of conditions and terrain.</p>  <ul> <li><span>Lightweight stretch face fabric with pre-baffled PrimaLoft® insulation for ease of movement and zero snags, and a hard face fleece secondary fabric through the lower for easy layering.</span></li> <li><span>Center-front zipper and zipper garage at chin for next-to-skin comfort.</span></li> <li><span>Kangaroo-style hand pocket; hidden zippered drop-in chest pocket perfect for your cell phone; zippered drop-in torso pocket doubles as a stuff sack; internal mesh phone pocket.</span></li> <li><span>Oversized collar for warmth and hood with structured brim.</span></li> <li><span>Articulated sleeve with thumb loops.</span></li> <li><span>Shaped waist and longer-length drop hem for a flattering fit.</span></li> </ul>  <p><span>FABRIC TECH: </span></p> <p><span>Body Upper and Sleeves - Toray® pre-quilted stretch fabric - 30D 91% polyester, 9% spandex with durable water repellent finish. </span></p> <p><span>Lower Body - 240 gsm 47% nylon, 36% polyester, 17% spandex hard face fleece with anti-pill and durable water repellent finish.</span></p> <p><span>Insulation: PrimaLoft® Silver Thermoplume w/ Cross Core™ technology - 200g fill rate throughout.</span></p> </div></div> </li> <br>"
        ],
        [
         "40",
         "SK0000041-US",
         "GORE-TEX Infinium Neck Gaiter",
         "OUTERWEAR",
         "50.0",
         "15.0",
         "color#Black~   Size#One Size",
         "mycustom",
         "\"https://cdn.staticsaa.com/uploads/68512/cart/resources/20231215/06293175-CC84-C5CD-5F88-B0773AE6A205.jpg\"",
         null,
         null,
         "https://us-simmsfishing.shop/collections/outerwear/products/gore-tex-infinium-neck-gaiter_37fb3012?data_from=collection_detail",
         "<div> <div> <p>Windproof, breathable GORE-TEX Infinium™ stretch neck gaiter.</p> <br><ul> <li>GORE-TEX Infinium™ stretch fleece with DWR coating</li> <li>Polyester/spandex backpanel for a comfortable, stretch fit</li> <li>TPU coated laser cut breathing holes</li> </ul> <br>FABRIC TECH: Front: GORE-TEX lnfinium™ windproof stretch fleece; Rear Stretch Panel: 92% Polyester/8% Spandex; TPU Coated Laser Cut Breathing Holes <br>ITEM #: PG-13090</div> </div></div> </li> <br>"
        ],
        [
         "41",
         "SK0000042-US",
         "M‘s Simms Challenger Insulated Jacket",
         "OUTERWEAR",
         "350.0",
         "70.0",
         "color#Regiment Camo Carbon|Dark Stone~   Size#XS|S|M|L|XL|2XL|3XL|4XL",
         "mycustom",
         "\"https://cdn.staticsaa.com/uploads/68512/cart/resources/20231215/04F5F593-5367-08F8-FB03-74332CF88E61.jpg\",\"https://cdn.staticsaa.com/uploads/68512/cart/resources/20231215/2D1EE2DF-9BE7-B241-D72B-096AD11EEB34.jpg\",\"https://cdn.staticsaa.com/uploads/68512/cart/resources/20231215/6AAB7436-A937-35C0-E218-375749F3AB7D.jpg\",\"https://cdn.staticsaa.com/uploads/68512/cart/resources/20231215/328B23AA-7D12-02AE-2E75-66E9654D9EAD.jpg\",\"https://cdn.staticsaa.com/uploads/68512/cart/resources/20231215/A9B0ADE5-13B7-313D-2EC1-FA0B3112C6F9.jpg\",\"https://cdn.staticsaa.com/uploads/68512/cart/resources/20231215/1486FD09-6DCB-65AB-581C-C0DB78EC33D3.jpg\",\"https://cdn.staticsaa.com/uploads/68512/cart/resources/20231215/0B2F7D36-14F0-CDEE-B363-78DD57AC0FEF.jpg\",\"https://cdn.staticsaa.com/uploads/68512/cart/resources/20231215/CAD8D8D8-2CF3-6617-626D-87A84DA3BFC4.jpg\",\"https://cdn.staticsaa.com/uploads/68512/cart/resources/20231215/A6586BB4-6432-A953-9A07-C52DF9DADA47.jpg\",\"https://cdn.staticsaa.com/uploads/68512/cart/resources/20231215/DB88881F-D24F-B964-F8C0-94501D58017B.jpg\",\"https://cdn.staticsaa.com/uploads/68512/cart/resources/20231215/47CC62C0-FB5C-84C7-0EDB-ED1DC370D06B.jpg\",\"https://cdn.staticsaa.com/uploads/68512/cart/resources/20231215/020A3054-3983-1413-C0DF-1029B39BB675.jpg\",\"https://cdn.staticsaa.com/uploads/68512/cart/resources/20231215/4F1F71B6-3657-BC16-4698-F2C9F7D39082.jpg\",\"https://cdn.staticsaa.com/uploads/68512/cart/resources/20231215/9733FB9E-AD5B-E427-8946-EE233BEC7FC0.jpg\",\"https://cdn.staticsaa.com/uploads/68512/cart/resources/20231215/C403A72E-5069-A6E3-49D2-B8E75A1A40BE.jpg\",\"https://cdn.staticsaa.com/uploads/68512/cart/resources/20231215/698089FA-2B43-6D42-313E-6F1C3C96EE46.jpg\",\"https://cdn.staticsaa.com/uploads/68512/cart/resources/20231215/48662911-F4DD-4B8F-A687-47CEEC8CF1ED.jpg\",\"https://cdn.staticsaa.com/uploads/68512/cart/resources/20231215/27323C04-2C2A-E90F-F6B4-32099374070A.jpg\",\"https://cdn.staticsaa.com/uploads/68512/cart/resources/20231215/FC6D8D2A-684A-C6E3-5937-57AA2EB3CB2A.jpg\",\"https://cdn.staticsaa.com/uploads/68512/cart/resources/20231215/40477974-FE46-DC8B-6962-A331D8BC097B.jpg\",\"https://cdn.staticsaa.com/uploads/68512/cart/resources/20231215/0DDBE6ED-EF75-0F11-FAB0-D718F8D76049.jpg\",\"https://cdn.staticsaa.com/uploads/68512/cart/resources/20231215/644AFFEE-F4A3-491D-35D5-8B40CB5AEBC8.jpg\",\"https://cdn.staticsaa.com/uploads/68512/cart/resources/20231215/429243DD-1F51-AEA5-74DB-1D079C76A7A1.jpg\",\"https://cdn.staticsaa.com/uploads/68512/cart/resources/20231215/11A2BB1F-D4A3-25F7-BF4D-6444ABB1C90E.jpg\",\"https://cdn.staticsaa.com/uploads/68512/cart/resources/20231215/7063462B-B744-B12F-0921-A39DBC9594FB.jpg\",\"https://cdn.staticsaa.com/uploads/68512/cart/resources/20231215/7DDB7BFE-1F10-BBB8-BD86-D5825C1235C8.jpg\",\"https://cdn.staticsaa.com/uploads/68512/cart/resources/20231215/41B37208-2CBE-977A-1ABD-A4A92B6603D6.jpg\"",
         null,
         null,
         "https://us-simmsfishing.shop/collections/outerwear/products/m-s-simms-challenger-insulated-jacket_c214b8a4?data_from=collection_detail",
         "<div> <p>Built to obliterate fierce-weather obstacles, the waterproof, hooded Challenger Insulated Jacket comes kitted with toasty PrimaLoft® Rise insulation for above-and-beyond warmth, in a lightweight, easy wearing package.</p> <ul> <li>Waterproof 2-layer Toray® fabric keeps you dry with fully taped seams. High-loft Primaloft Rise provides the most warmth and is lined with moisture-wicking polyester taffeta.</li> <li>Insulated hood, built with high speeds and driving rain in mind, features 3-point adjustability</li> <li>The freestanding, adjustable collar is lined with brushed tricot for warmth and comfort. The center-front zipper is protected with an exterior velcro storm flap.</li> <li>Vertical left chest pocket with tethered sunglasses chamois and welted right chest pocket, both with zippered closures</li> <li>Welted, zippered hand warmer pockets with interior waist drawcord adjustments and lined with brushed tricot for warmth.</li> <li>Modified sleeve construction for enhanced comfort with hook and loop tab cuff closure</li> </ul> <p><b>FABRIC TECH:</b></p> <p>Shell - 2-layer Toray 100% nylon 70D waterproof with DWR</p> <p>Insulation - PrimaLoft® Rise insulation, 133g body, 100g sleeves and collar, 80g hood</p> <p>Lining - 100% polyester taffeta</p> <p>ITEM #: PG-13865</p> </div></div> </li> <br>"
        ],
        [
         "42",
         "SK0000043-US",
         "Cardwell Trucker Hat",
         "OUTERWEAR",
         "35.0",
         "10.5",
         "color#Dark Olive~   Size#One Size",
         "mycustom",
         "\"https://cdn.staticsaa.com/uploads/68512/cart/resources/20231215/7EF8D1DD-7521-4D61-1550-456948507CE0.jpg\",\"https://cdn.staticsaa.com/uploads/68512/cart/resources/20231215/2A808A78-662E-6B8F-054B-754377A55AE5.jpg\",\"https://cdn.staticsaa.com/uploads/68512/cart/resources/20231215/52258CD0-91EE-1A15-5A5E-703DFD791796.jpg\",\"https://cdn.staticsaa.com/uploads/68512/cart/resources/20231215/441B2D46-7756-6FA1-05B1-D606CF15412F.jpg\",\"https://cdn.staticsaa.com/uploads/68512/cart/resources/20231215/781575CE-0F66-2AD2-5051-8925720F345E.jpg\",\"https://cdn.staticsaa.com/uploads/68512/cart/resources/20231215/1979D693-5643-DE14-F3F0-F1860E43D8AB.jpg\"",
         null,
         null,
         "https://us-simmsfishing.shop/collections/outerwear/products/cardwell-trucker-hat_863d70fc?data_from=collection_detail",
         "<div> <p>The Cardwell Trucker combines a waxed cotton front and breathable mesh back for the perfect blend of style and comfort on or off the water.</p> <ul> <li>Staywax® Sahara 6 waxed cotton front with polyester mesh rear</li> <li>Adjustable snapback closure</li> <li>Black underbrim for glare reduction</li> <li>One size fits most</li> <li>Mid Crown</li> </ul> <p><b>FABRIC TECH:</b></p> <p>Front Crown: 100% Waxed Cotton Canvas Rear Mesh: 100% Polyester</p> <p>ITEM #: PG-13810</p> </div></div> </li> <br>"
        ],
        [
         "43",
         "SK0000044-US",
         "SIMMS Challenger Insulated Glove",
         "OUTERWEAR",
         "90.0",
         "27.0",
         "color#Black~   Size#S|M|L|XL",
         "mycustom",
         "\"https://cdn.staticsaa.com/uploads/68512/cart/resources/20231215/3B4C72E5-83E7-DD54-9BC4-2614EA6E8D57.jpg\",\"https://cdn.staticsaa.com/uploads/68512/cart/resources/20231215/3A9D7316-D5B2-E6F4-AA4C-99844DF9DB1B.jpg\",\"https://cdn.staticsaa.com/uploads/68512/cart/resources/20231215/50ABD836-463C-D4DB-8B29-ED9F2DBCEACF.jpg\",\"https://cdn.staticsaa.com/uploads/68512/cart/resources/20231215/E9CEAF83-E848-50F0-89DB-70EFC8C4E7AD.jpg\",\"https://cdn.staticsaa.com/uploads/68512/cart/resources/20231215/169B6346-E620-8868-1D6F-224D55C5B091.jpg\",\"https://cdn.staticsaa.com/uploads/68512/cart/resources/20231215/9B962A17-DEF0-9F6E-2389-F0DEE47A64D4.jpg\",\"https://cdn.staticsaa.com/uploads/68512/cart/resources/20231215/20C13B40-38EC-A274-1432-4DBE9CA35DE3.jpg\",\"https://cdn.staticsaa.com/uploads/68512/cart/resources/20231215/68AB3334-9F5E-B0FF-32BC-FA871B14B393.jpg\",\"https://cdn.staticsaa.com/uploads/68512/cart/resources/20231215/28718ADA-A34C-500A-A1E4-F49D0C8B81A7.jpg\",\"https://cdn.staticsaa.com/uploads/68512/cart/resources/20231215/C15A7943-CE35-244C-8FBA-249658DEDD32.jpg\"",
         null,
         null,
         "https://us-simmsfishing.shop/collections/outerwear/products/simms-challenger-insulated-glove_28aa98be?data_from=collection_detail",
         "<div> <div> <p>A fully waterproof and insulated glove; the ultimate choice for coldweather fishing environments.</p> <br><ul> <li>Fully waterproof 2L polyester shell fabric</li> <li>Fully insulated with 100gsm Primaloft Rise; retains warmth when wet</li> <li>Reinforced, durable goat leather palm</li> <li>Touch-tech enabled thumb and index finger</li> <li>Adjustable wrist closure for a range of fit</li> <li>Oversized patterning designed to accomodate SIMMS Wool 1/2 Finger Mitt underneath</li> </ul> <br>FABRIC TECH: 100% Polyester waterproof/breathable shell fabric with DWR coating; Primaloft Insulation - 100 g/sm; Nylon Liner and Insert for waterproofness; Goat Leather Palm<br>WEIGHT: 4.7oz per pair<br>ITEM #: PG-13392</div> </div></div> </li> <br>"
        ],
        [
         "44",
         "SK0000045-US",
         "Bulkley Insulated Hand Muff",
         "OUTERWEAR",
         "100.0",
         "25.0",
         "color#Black~   Size#One Size",
         "mycustom",
         "\"https://cdn.staticsaa.com/uploads/68512/cart/resources/20231215/8A6D0C14-3721-022A-6215-32339EF2C7D8.jpg\",\"https://cdn.staticsaa.com/uploads/68512/cart/resources/20231215/A1A6CDFD-7F64-56CC-E078-796FFE93C693.jpg\",\"https://cdn.staticsaa.com/uploads/68512/cart/resources/20231215/894C941D-22B1-1F18-81EB-540D90D3DC68.jpg\",\"https://cdn.staticsaa.com/uploads/68512/cart/resources/20231215/0C74CE7C-6482-CC56-7507-14454DCAA425.jpg\",\"https://cdn.staticsaa.com/uploads/68512/cart/resources/20231215/177A2DE8-79C1-4AFD-AF37-E1DC5AFC6260.jpg\",\"https://cdn.staticsaa.com/uploads/68512/cart/resources/20231215/498EA84E-3A1B-8DFF-D650-2F1AB9F72B34.jpg\"",
         null,
         null,
         "https://us-simmsfishing.shop/collections/outerwear/products/bulkley-insulated-hand-muff_b71face2?data_from=collection_detail",
         "<div> <meta> <p>When gloves aren't enough to cut through the cold, the warmth stoking Bulkley Hand Muff keeps hands and fingers comfortable and functional for the next round of rigging or rowing.</p> <ul> <li>Water-resistant and breathable Toray® 2-layer shell fabric with fully insulated high-pile sherpa fleece lining</li> <li>Elastic binding surrounds hand openings to seal in heat when hands are stowed inside</li> <li>Zippered pocket on backside designed for adding heat packs to bolster warmth</li> <li>G-Hooks and vertical webbing straps designed for quick attachment to waders and bib suspenders</li> <li>Muff can be used with included 1\" adjustable webbing belt, or slid onto 1.5\" or 2\" Simms wading belts</li> </ul> <p><b>FABRIC TECH:</b></p> <p>Outer Shell: 2-layer waterproof/breathable Toray® nylon with DWR Insulation: 100% Polyester</p> <p>ITEM #: PG-13803</p> </div></div> </li> <br>"
        ],
        [
         "45",
         "SK0000046-US",
         "Everyday Watchcap",
         "OUTERWEAR",
         "35.0",
         "10.5",
         "color#Black|Blaze|Dark Olive~   Size#One Size",
         "mycustom",
         "\"https://cdn.staticsaa.com/uploads/68512/cart/resources/20231215/B51E1A4B-BE0F-3B5B-AEAA-D2601AEDACD3.jpg\",\"https://cdn.staticsaa.com/uploads/68512/cart/resources/20231215/04E41866-E476-0440-7FA0-D42762D1C337.jpg\",\"https://cdn.staticsaa.com/uploads/68512/cart/resources/20231215/096C2455-9D34-D441-74F3-86F143DA0BE5.jpg\",\"https://cdn.staticsaa.com/uploads/68512/cart/resources/20231215/9F9B1723-5E50-7218-5105-6446ED011FBD.jpg\",\"https://cdn.staticsaa.com/uploads/68512/cart/resources/20231215/FFF57C8F-1E99-991B-5787-549AD26CCB17.jpg\",\"https://cdn.staticsaa.com/uploads/68512/cart/resources/20231215/12C486FD-CF84-D2FE-0D1D-6673F5453342.jpg\",\"https://cdn.staticsaa.com/uploads/68512/cart/resources/20231215/47F91557-A2E9-FEEF-89A1-A2D27F5A7505.jpg\",\"https://cdn.staticsaa.com/uploads/68512/cart/resources/20231215/E44EE4C4-8E74-A3A7-1111-91545845E62D.jpg\",\"https://cdn.staticsaa.com/uploads/68512/cart/resources/20231215/BE4514CA-2D77-E0B1-701D-D18EFB157E32.jpg\"",
         null,
         null,
         "https://us-simmsfishing.shop/collections/outerwear/products/everyday-watchcap_6d5cf261?data_from=collection_detail",
         "<div> <p>From ocean origins to street-wise originality, make waves in the classic Everyday Watchcap featuring a soft-knit construction that seamlessly blends comfort and style.</p> <ul> <li>Double knit acrylic yarn</li> <li>One size fits most</li> </ul> <p><b>FABRIC TECH:</b></p> <p>100% Acrylic</p> <p>ITEM #: PG-13785</p> </div></div> </li> <br>"
        ],
        [
         "46",
         "SK0000047-US",
         "M‘s Simms Challenger Fishing Jacket",
         "OUTERWEAR",
         "230.0",
         "57.5",
         "color#Regiment Camo Cinder~   Size#S|M|L|XL|2XL|3XL|4XL",
         "mycustom",
         "\"https://cdn.staticsaa.com/uploads/68512/cart/resources/20231215/98F5DA07-1B77-D67E-A9E0-567FE1A73D6B.jpg\",\"https://cdn.staticsaa.com/uploads/68512/cart/resources/20231215/40FFBC8E-6EB1-D4FF-8C28-704FFB1964CF.jpg\",\"https://cdn.staticsaa.com/uploads/68512/cart/resources/20231215/9126A61C-B2C1-7ED1-D39D-034ADB11312A.jpg\",\"https://cdn.staticsaa.com/uploads/68512/cart/resources/20231215/029626CA-6AEE-A6DB-1712-A64E7366EF47.jpg\",\"https://cdn.staticsaa.com/uploads/68512/cart/resources/20231215/3251B782-38CD-EF88-A095-DC2ADE9C1F8C.jpg\",\"https://cdn.staticsaa.com/uploads/68512/cart/resources/20231215/11C6C544-F4EF-5C19-E0D8-2ADE9B5CD14E.jpg\"",
         null,
         null,
         "https://us-simmsfishing.shop/collections/outerwear/products/m-s-simms-challenger-fishing-jacket?data_from=collection_detail",
         "<div> <p>When Mother Nature brings the mayhem, duck inside the waterproof, breathable Simms Challenger Jacket for the kind of on-the-water performance that outlasts the elements.</p> <p>The Simms Challenger Men's Fishing Jacket is the ultimate waterproof breathable fishing jacket - and the ideal rain suit when paired with our rain bibs.</p> <ul> <li>Adjustable storm hood rolls up behind collar</li> <li>Zippered chest pocket with interior sunglasses chamois</li> <li>Reflective logos for increased visibility on and off the water</li> <li>Drawcord bottom hem with kill switch d-ring attachment</li> <li>Hook and loop closure cuffs</li> <li>Past Season's Style</li> </ul> <p><strong>FABRIC TECH</strong></p> <p>Shell: 100% Recycled Polyester 2-layer Toray® w/ DWR. Lining: 100% Polyester</p> <p>ITEM #: PG-13675</p> </div></div> </li> <br>"
        ],
        [
         "47",
         "SK0000048-US",
         "M‘s GORE-TEX Infinium Flex Glove",
         "OUTERWEAR",
         "90.0",
         "27.0",
         "color#Black~   Size#XS|S|M|L|XL|2XL",
         "mycustom",
         "\"https://cdn.staticsaa.com/uploads/68512/cart/resources/20231215/2AF8CB86-4827-A161-72EA-DC59BBEF7C0D.jpg\"",
         null,
         null,
         "https://us-simmsfishing.shop/collections/outerwear/products/m-s-gore-tex-infinium-flex-glove_c57d29b8?data_from=collection_detail",
         "<div> <div> <p>Full-finger fleece glove with single-seam construction for maximum dexterity and on-the-water comfort.</p> <br><ul> <li>GORE-TEX Infinium™ stretch fleece with single seam construction</li> <li>Diagonal thumb, index and middle-finger openings for knot tying</li> <li>TPU palm overlays for enhanced durability and grip</li> <li>Touch-tech compatible index finger</li> <li>Stretch gasket cuff for DryCuff™ outerwear integration</li> <li>Pairing snaps</li> </ul> <br>FABRIC TECH: Shell: GORE-TEX lnfinium™ windproof stretch fleece; Palm overlay: Textured TPU; Thumb &amp; Index finger overlay: AX single-connect suede <br>ITEM #: PG-13107</div> </div></div> </li> <br>"
        ],
        [
         "48",
         "SK0000049-US",
         "M‘s Waypoints Rain Pant",
         "OUTERWEAR",
         "150.0",
         "37.5",
         "color#Slate~   Size#S|M|L|XL|2XL|3XL",
         "mycustom",
         "\"https://cdn.staticsaa.com/uploads/68512/cart/resources/20231215/11D2BFDF-2E18-8063-7DE9-BBD8F70B11CA.jpg\",\"https://cdn.staticsaa.com/uploads/68512/cart/resources/20231215/C04C09A6-D240-3623-442D-8A6E4EA3C543.jpg\",\"https://cdn.staticsaa.com/uploads/68512/cart/resources/20231215/E2459271-1A19-3803-8223-FEC8077415B9.jpg\",\"https://cdn.staticsaa.com/uploads/68512/cart/resources/20231215/86194971-6D90-0728-993C-4C08191BD8C3.jpg\",\"https://cdn.staticsaa.com/uploads/68512/cart/resources/20231215/944D63F0-D0BB-7BDC-AAD6-FE3597C3476F.jpg\",\"https://cdn.staticsaa.com/uploads/68512/cart/resources/20231215/363700A2-B05B-F830-6DD8-4301F4D744F5.jpg\",\"https://cdn.staticsaa.com/uploads/68512/cart/resources/20231215/F57A4FAA-A1CF-6775-5A9A-D68E9A0DE29E.jpg\",\"https://cdn.staticsaa.com/uploads/68512/cart/resources/20231215/006C0A70-7FFF-C700-5B80-C2770B92E903.jpg\"",
         null,
         null,
         "https://us-simmsfishing.shop/collections/outerwear/products/m-s-waypoints-rain-pant?data_from=collection_detail",
         "<div> <div> <p>Lightweight, fully waterproof Waypoints™ Pants stuff inside a low-profile pocket, perfect for packs and boat bags and ready to keep you dry in a moment's notice.</p> <br><ul> <li>Lightweight and packable 2.5-layer waterproof breathable nylon with DWR rain protection and mechanical stretch movement</li> <li>Stretch waistband with zipper fly, featuring a D-ring for kill switch anchor</li> <li>Side access zippers pass through to interior pants or shorts for easy pocket access</li> <li>Pant rolls up into elastic loop for packable storage</li> <li>Gusseted crotch and articulated knee seams allows for greater range of motion</li> <li>Cinch down in a heavy downpour with the adjustable hook and loop hem</li> </ul> <br>FABRIC TECH: Body fabric: 2.5-layer TORAY® 50D 100% nylon w/ DWR<br>ITEM #: PG-13157</div> </div></div> </li> <br>"
        ],
        [
         "49",
         "SK0000050-US",
         "USA Catch Trucker Hat",
         "OUTERWEAR-MEN",
         "30.0",
         "9.0",
         "color#Sterling|Heather Grey|Admiral Blue~   Size#One Size",
         "mycustom",
         "\"https://cdn.staticsaa.com/uploads/68512/cart/resources/20231215/3912D6DA-763F-7FD0-07F9-80B1E28D155B.jpg\",\"https://cdn.staticsaa.com/uploads/68512/cart/resources/20231215/1D16088A-B17A-08D1-15C6-CDD5B4DDF46F.jpg\",\"https://cdn.staticsaa.com/uploads/68512/cart/resources/20231215/6F6B65FC-C31C-8EB7-B5AF-CAB6C3287575.jpg\",\"https://cdn.staticsaa.com/uploads/68512/cart/resources/20231215/324C6532-03A8-0EE4-5D67-638D0E325C91.jpg\",\"https://cdn.staticsaa.com/uploads/68512/cart/resources/20231215/E7CC954C-B29D-3DB4-9160-D92884BD8329.jpg\",\"https://cdn.staticsaa.com/uploads/68512/cart/resources/20231215/E642BE4C-C9D3-AD7C-9FC5-C6A43CB46D40.jpg\"",
         null,
         null,
         "https://us-simmsfishing.shop/collections/outerwear-men/products/usa-catch-trucker-hat_e1a20f9e?data_from=collection_detail",
         "<div> <div> <p>USA Catch Trucker</p> <br><ul><li>CROWN FIT: Low</li></ul> <br>FABRIC TECH: 100% Cotton twill; Back - 100% polyester mesh<br>ITEM #: PG-13366</div> </div></div> </li> <br>"
        ]
       ],
       "shape": {
        "columns": 12,
        "rows": 414
       }
      },
      "text/html": [
       "<div>\n",
       "<style scoped>\n",
       "    .dataframe tbody tr th:only-of-type {\n",
       "        vertical-align: middle;\n",
       "    }\n",
       "\n",
       "    .dataframe tbody tr th {\n",
       "        vertical-align: top;\n",
       "    }\n",
       "\n",
       "    .dataframe thead th {\n",
       "        text-align: right;\n",
       "    }\n",
       "</style>\n",
       "<table border=\"1\" class=\"dataframe\">\n",
       "  <thead>\n",
       "    <tr style=\"text-align: right;\">\n",
       "      <th></th>\n",
       "      <th>SKU</th>\n",
       "      <th>Name</th>\n",
       "      <th>Categories</th>\n",
       "      <th>Regular price</th>\n",
       "      <th>Sale price</th>\n",
       "      <th>Attribute 1 value(s)</th>\n",
       "      <th>Attribute 1 name</th>\n",
       "      <th>Images</th>\n",
       "      <th>ImagesUrl</th>\n",
       "      <th>Tags</th>\n",
       "      <th>PageUrl</th>\n",
       "      <th>Description</th>\n",
       "    </tr>\n",
       "  </thead>\n",
       "  <tbody>\n",
       "    <tr>\n",
       "      <th>0</th>\n",
       "      <td>SK0000001-US</td>\n",
       "      <td>Selway Life Vest</td>\n",
       "      <td>WADERS</td>\n",
       "      <td>250.0</td>\n",
       "      <td>62.5</td>\n",
       "      <td>color#Slate~   Size#XS/S|M/L|XL/2XL</td>\n",
       "      <td>mycustom</td>\n",
       "      <td>\"https://cdn.staticsaa.com/uploads/68512/cart/...</td>\n",
       "      <td>NaN</td>\n",
       "      <td>NaN</td>\n",
       "      <td>https://us-simmsfishing.shop/collections/wader...</td>\n",
       "      <td>&lt;div&gt; &lt;p&gt;The ultimate life vest for anglers, t...</td>\n",
       "    </tr>\n",
       "    <tr>\n",
       "      <th>1</th>\n",
       "      <td>SK0000002-US</td>\n",
       "      <td>M‘s G3 Guide Waders - Bootfoot - Vibram Sole</td>\n",
       "      <td>WADERS</td>\n",
       "      <td>600.0</td>\n",
       "      <td>120.0</td>\n",
       "      <td>color#Gunmetal~   Size#S 08|M 09|M 10|M 11|L 1...</td>\n",
       "      <td>mycustom</td>\n",
       "      <td>\"https://cdn.staticsaa.com/uploads/68512/cart/...</td>\n",
       "      <td>NaN</td>\n",
       "      <td>NaN</td>\n",
       "      <td>https://us-simmsfishing.shop/collections/wader...</td>\n",
       "      <td>&lt;div&gt; &lt;p&gt;Built for anglers who demand the utmo...</td>\n",
       "    </tr>\n",
       "    <tr>\n",
       "      <th>2</th>\n",
       "      <td>SK0000003-US</td>\n",
       "      <td>Wading Belt - 2\"</td>\n",
       "      <td>WADERS</td>\n",
       "      <td>40.0</td>\n",
       "      <td>12.0</td>\n",
       "      <td>color#Regiment Camo Carbon|Regiment Camo Olive...</td>\n",
       "      <td>mycustom</td>\n",
       "      <td>\"https://cdn.staticsaa.com/uploads/68512/cart/...</td>\n",
       "      <td>NaN</td>\n",
       "      <td>NaN</td>\n",
       "      <td>https://us-simmsfishing.shop/collections/wader...</td>\n",
       "      <td>&lt;div&gt; &lt;p&gt;No two anglers are built quite the sa...</td>\n",
       "    </tr>\n",
       "    <tr>\n",
       "      <th>3</th>\n",
       "      <td>SK0000004-US</td>\n",
       "      <td>M‘s G4 PRO® Wading Jacket</td>\n",
       "      <td>WADERS</td>\n",
       "      <td>500.0</td>\n",
       "      <td>100.0</td>\n",
       "      <td>Color#Slate~   Size#S|M|L|XL|2XL</td>\n",
       "      <td>mycustom</td>\n",
       "      <td>\"https://cdn.staticsaa.com/uploads/68512/cart/...</td>\n",
       "      <td>NaN</td>\n",
       "      <td>NaN</td>\n",
       "      <td>https://us-simmsfishing.shop/collections/wader...</td>\n",
       "      <td>&lt;p&gt;The highest-tech wading jacket on the water...</td>\n",
       "    </tr>\n",
       "    <tr>\n",
       "      <th>4</th>\n",
       "      <td>SK0000005-US</td>\n",
       "      <td>M‘s Freestone Z Bootfoot Waders - Rubber Sole</td>\n",
       "      <td>WADERS</td>\n",
       "      <td>580.0</td>\n",
       "      <td>116.0</td>\n",
       "      <td>color#Loden~   Size#S 08|M 09|M 10|M 11|L 10|L...</td>\n",
       "      <td>mycustom</td>\n",
       "      <td>\"https://cdn.staticsaa.com/uploads/68512/cart/...</td>\n",
       "      <td>NaN</td>\n",
       "      <td>NaN</td>\n",
       "      <td>https://us-simmsfishing.shop/collections/wader...</td>\n",
       "      <td>&lt;div&gt; &lt;p&gt;The ultimate cold-weather wader, the ...</td>\n",
       "    </tr>\n",
       "    <tr>\n",
       "      <th>...</th>\n",
       "      <td>...</td>\n",
       "      <td>...</td>\n",
       "      <td>...</td>\n",
       "      <td>...</td>\n",
       "      <td>...</td>\n",
       "      <td>...</td>\n",
       "      <td>...</td>\n",
       "      <td>...</td>\n",
       "      <td>...</td>\n",
       "      <td>...</td>\n",
       "      <td>...</td>\n",
       "      <td>...</td>\n",
       "    </tr>\n",
       "    <tr>\n",
       "      <th>409</th>\n",
       "      <td>SK0000410-US</td>\n",
       "      <td>M‘s Superlight Fishing Pants</td>\n",
       "      <td>CLOTHING-Feature</td>\n",
       "      <td>90.0</td>\n",
       "      <td>27.0</td>\n",
       "      <td>color#Sterling|Cork~   Size#30|32|34|36|38|40</td>\n",
       "      <td>mycustom</td>\n",
       "      <td>\"https://cdn.staticsaa.com/uploads/68512/cart/...</td>\n",
       "      <td>NaN</td>\n",
       "      <td>NaN</td>\n",
       "      <td>https://us-simmsfishing.shop/collections/cloth...</td>\n",
       "      <td>&lt;div&gt; &lt;div&gt; &lt;p&gt;Simms' Superlight Pants wick mo...</td>\n",
       "    </tr>\n",
       "    <tr>\n",
       "      <th>410</th>\n",
       "      <td>SK0000411-US</td>\n",
       "      <td>M‘s Simms Challenger Solar Half Zip</td>\n",
       "      <td>CLOTHING-Feature-Sun Protection</td>\n",
       "      <td>60.0</td>\n",
       "      <td>18.0</td>\n",
       "      <td>color#Regiment Camo Nightfall/Sky|R Camo Olive...</td>\n",
       "      <td>mycustom</td>\n",
       "      <td>\"https://cdn.staticsaa.com/uploads/68512/cart/...</td>\n",
       "      <td>NaN</td>\n",
       "      <td>NaN</td>\n",
       "      <td>https://us-simmsfishing.shop/collections/cloth...</td>\n",
       "      <td>&lt;div&gt; &lt;p&gt;Ready for anything and everything und...</td>\n",
       "    </tr>\n",
       "    <tr>\n",
       "      <th>411</th>\n",
       "      <td>SK0000412-US</td>\n",
       "      <td>M‘s Simms Challenger Solar Hoody</td>\n",
       "      <td>CLOTHING-Feature-Sun Protection</td>\n",
       "      <td>60.0</td>\n",
       "      <td>18.0</td>\n",
       "      <td>color#Regiment Camo Cinder/White|R Camo Olive ...</td>\n",
       "      <td>mycustom</td>\n",
       "      <td>\"https://cdn.staticsaa.com/uploads/68512/cart/...</td>\n",
       "      <td>NaN</td>\n",
       "      <td>NaN</td>\n",
       "      <td>https://us-simmsfishing.shop/collections/cloth...</td>\n",
       "      <td>&lt;div&gt; &lt;p&gt;The Simms Challenger Solar Hoody offe...</td>\n",
       "    </tr>\n",
       "    <tr>\n",
       "      <th>412</th>\n",
       "      <td>SK0000413-US</td>\n",
       "      <td>M‘s BugStopper® Hoody</td>\n",
       "      <td>CLOTHING-Feature-On Sale</td>\n",
       "      <td>85.0</td>\n",
       "      <td>25.5</td>\n",
       "      <td>color#Nightfall Heather~   Size#S|M|L|XL|2XL|3XL</td>\n",
       "      <td>mycustom</td>\n",
       "      <td>\"https://cdn.staticsaa.com/uploads/68512/cart/...</td>\n",
       "      <td>NaN</td>\n",
       "      <td>NaN</td>\n",
       "      <td>https://us-simmsfishing.shop/collections/cloth...</td>\n",
       "      <td>&lt;div&gt; &lt;div&gt; &lt;p&gt;Mother Nature has her ways of t...</td>\n",
       "    </tr>\n",
       "    <tr>\n",
       "      <th>413</th>\n",
       "      <td>SK0000414-US</td>\n",
       "      <td>M‘s Confluence Stockingfoot Waders</td>\n",
       "      <td>CLOTHING-Feature-New Men Gear</td>\n",
       "      <td>550.0</td>\n",
       "      <td>110.0</td>\n",
       "      <td>color#Graphite~   Size#S 7-8|M 9-11|M King 9-1...</td>\n",
       "      <td>mycustom</td>\n",
       "      <td>\"https://cdn.staticsaa.com/uploads/68512/cart/...</td>\n",
       "      <td>NaN</td>\n",
       "      <td>NaN</td>\n",
       "      <td>https://us-simmsfishing.shop/collections/cloth...</td>\n",
       "      <td>&lt;div&gt; &lt;p&gt;Designed for anglers who work all the...</td>\n",
       "    </tr>\n",
       "  </tbody>\n",
       "</table>\n",
       "<p>414 rows × 12 columns</p>\n",
       "</div>"
      ],
      "text/plain": [
       "              SKU                                           Name  \\\n",
       "0    SK0000001-US                               Selway Life Vest   \n",
       "1    SK0000002-US   M‘s G3 Guide Waders - Bootfoot - Vibram Sole   \n",
       "2    SK0000003-US                               Wading Belt - 2\"   \n",
       "3    SK0000004-US                      M‘s G4 PRO® Wading Jacket   \n",
       "4    SK0000005-US  M‘s Freestone Z Bootfoot Waders - Rubber Sole   \n",
       "..            ...                                            ...   \n",
       "409  SK0000410-US                   M‘s Superlight Fishing Pants   \n",
       "410  SK0000411-US            M‘s Simms Challenger Solar Half Zip   \n",
       "411  SK0000412-US               M‘s Simms Challenger Solar Hoody   \n",
       "412  SK0000413-US                          M‘s BugStopper® Hoody   \n",
       "413  SK0000414-US             M‘s Confluence Stockingfoot Waders   \n",
       "\n",
       "                          Categories  Regular price  Sale price  \\\n",
       "0                             WADERS          250.0        62.5   \n",
       "1                             WADERS          600.0       120.0   \n",
       "2                             WADERS           40.0        12.0   \n",
       "3                             WADERS          500.0       100.0   \n",
       "4                             WADERS          580.0       116.0   \n",
       "..                               ...            ...         ...   \n",
       "409                 CLOTHING-Feature           90.0        27.0   \n",
       "410  CLOTHING-Feature-Sun Protection           60.0        18.0   \n",
       "411  CLOTHING-Feature-Sun Protection           60.0        18.0   \n",
       "412         CLOTHING-Feature-On Sale           85.0        25.5   \n",
       "413    CLOTHING-Feature-New Men Gear          550.0       110.0   \n",
       "\n",
       "                                  Attribute 1 value(s) Attribute 1 name  \\\n",
       "0                  color#Slate~   Size#XS/S|M/L|XL/2XL         mycustom   \n",
       "1    color#Gunmetal~   Size#S 08|M 09|M 10|M 11|L 1...         mycustom   \n",
       "2    color#Regiment Camo Carbon|Regiment Camo Olive...         mycustom   \n",
       "3                     Color#Slate~   Size#S|M|L|XL|2XL         mycustom   \n",
       "4    color#Loden~   Size#S 08|M 09|M 10|M 11|L 10|L...         mycustom   \n",
       "..                                                 ...              ...   \n",
       "409      color#Sterling|Cork~   Size#30|32|34|36|38|40         mycustom   \n",
       "410  color#Regiment Camo Nightfall/Sky|R Camo Olive...         mycustom   \n",
       "411  color#Regiment Camo Cinder/White|R Camo Olive ...         mycustom   \n",
       "412   color#Nightfall Heather~   Size#S|M|L|XL|2XL|3XL         mycustom   \n",
       "413  color#Graphite~   Size#S 7-8|M 9-11|M King 9-1...         mycustom   \n",
       "\n",
       "                                                Images  ImagesUrl  Tags  \\\n",
       "0    \"https://cdn.staticsaa.com/uploads/68512/cart/...        NaN   NaN   \n",
       "1    \"https://cdn.staticsaa.com/uploads/68512/cart/...        NaN   NaN   \n",
       "2    \"https://cdn.staticsaa.com/uploads/68512/cart/...        NaN   NaN   \n",
       "3    \"https://cdn.staticsaa.com/uploads/68512/cart/...        NaN   NaN   \n",
       "4    \"https://cdn.staticsaa.com/uploads/68512/cart/...        NaN   NaN   \n",
       "..                                                 ...        ...   ...   \n",
       "409  \"https://cdn.staticsaa.com/uploads/68512/cart/...        NaN   NaN   \n",
       "410  \"https://cdn.staticsaa.com/uploads/68512/cart/...        NaN   NaN   \n",
       "411  \"https://cdn.staticsaa.com/uploads/68512/cart/...        NaN   NaN   \n",
       "412  \"https://cdn.staticsaa.com/uploads/68512/cart/...        NaN   NaN   \n",
       "413  \"https://cdn.staticsaa.com/uploads/68512/cart/...        NaN   NaN   \n",
       "\n",
       "                                               PageUrl  \\\n",
       "0    https://us-simmsfishing.shop/collections/wader...   \n",
       "1    https://us-simmsfishing.shop/collections/wader...   \n",
       "2    https://us-simmsfishing.shop/collections/wader...   \n",
       "3    https://us-simmsfishing.shop/collections/wader...   \n",
       "4    https://us-simmsfishing.shop/collections/wader...   \n",
       "..                                                 ...   \n",
       "409  https://us-simmsfishing.shop/collections/cloth...   \n",
       "410  https://us-simmsfishing.shop/collections/cloth...   \n",
       "411  https://us-simmsfishing.shop/collections/cloth...   \n",
       "412  https://us-simmsfishing.shop/collections/cloth...   \n",
       "413  https://us-simmsfishing.shop/collections/cloth...   \n",
       "\n",
       "                                           Description  \n",
       "0    <div> <p>The ultimate life vest for anglers, t...  \n",
       "1    <div> <p>Built for anglers who demand the utmo...  \n",
       "2    <div> <p>No two anglers are built quite the sa...  \n",
       "3    <p>The highest-tech wading jacket on the water...  \n",
       "4    <div> <p>The ultimate cold-weather wader, the ...  \n",
       "..                                                 ...  \n",
       "409  <div> <div> <p>Simms' Superlight Pants wick mo...  \n",
       "410  <div> <p>Ready for anything and everything und...  \n",
       "411  <div> <p>The Simms Challenger Solar Hoody offe...  \n",
       "412  <div> <div> <p>Mother Nature has her ways of t...  \n",
       "413  <div> <p>Designed for anglers who work all the...  \n",
       "\n",
       "[414 rows x 12 columns]"
      ]
     },
     "execution_count": 21,
     "metadata": {},
     "output_type": "execute_result"
    }
   ],
   "source": [
    "df"
   ]
  },
  {
   "cell_type": "code",
   "execution_count": 31,
   "id": "769bfc49",
   "metadata": {},
   "outputs": [
    {
     "data": {
      "application/vnd.microsoft.datawrangler.viewer.v0+json": {
       "columns": [
        {
         "name": "index",
         "rawType": "int64",
         "type": "integer"
        },
        {
         "name": "Categories",
         "rawType": "object",
         "type": "string"
        },
        {
         "name": "Description",
         "rawType": "object",
         "type": "string"
        }
       ],
       "conversionMethod": "pd.DataFrame",
       "ref": "adac9d92-f617-45aa-bfd4-21a23cda5c19",
       "rows": [
        [
         "1",
         "WADERS",
         "<div> <p>Built for anglers who demand the utmost performance day-in and day-out, the G3 Guide Bootfoot wader marries Simms' time-tested G3 Guide platform with a custom vulcanized and insulated boot for a trifecta of comfort, warmth, and durability that is unmatched.</p> <p><strong>UPPERS</strong></p> <ul> <li><span>Updated material lamination package with even more durable, breathable, and comfortable Gore-Tex Pro Shell 3-layer upper and 4-layer lower.</span></li> <li><span>Adjustable spacer air-mesh suspender system with a fabric suspender divider.</span></li> <li><span>Top access zippered stretch pocket plus zippered, reach-through micro-fleece lined hand-warming chest pocket.</span></li> <li><span>Additional organization opportunities include a removable Tippet-Tender Pocket and zippered, stretch-woven internal pocket on wearer's left.</span></li> <li><span>Built-in low-profile back belt loops with high and low options; 2 inch stretch nylon belt included.</span></li> <li><span>Patented front and back leg seams deliver articulated fit, improved mobility, and increased durability.</span></li> </ul> <p><strong>BOOTFOOT</strong></p> <ul> <li><span>Triple-layer vulcanized rubber upper on boots for maximum durability &amp; wading performance in extreme weather.</span></li> <li><span>Boots fully-lined &amp; insulated with 7mm neoprene &amp; grid fleece for all-day warmth, comfort and moisture management.</span></li> <li><span>Anatomically shaped last and molded arch support for comfortable underfoot ride.</span></li> <li><span>Vibram® Idrogrip rubber outsole provides maximum underwater traction and is fully compatible with Simms cleats and non-felt studs.</span></li> <li>Made in USA of imported materials.</li> <li><span><span>*Best wader warranty in fishing: 60-Day replacement for leaks, no questions asked. 365 Days repairs on us. See the tab above for details. </span></span></li> </ul> <p> <strong>Don’t see your size available? Made-to-order options available<span> <span>HERE</span></span></strong></p> <p><span>FABRIC TECH: Upper: 3-layer waterproof, breathable Gore-Tex Shell; Lower: 4-Layer waterproof, breathable Gore-Tex Pro Shell</span></p> </div></div> </li> <br>"
        ],
        [
         "2",
         "WADERS",
         "<div> <p>No two anglers are built quite the same. Simms accessory wading belts let you customize comfort for improved fit and performance.</p> <ul> <li>Constructed with 50mm/2\" wide elastic webbing and a low profile side release buckle</li> <li>Adjustable from 30\" to 52\"</li> </ul> <p><b>FABRIC TECH:</b></p> <p>100% nylon</p> <p>ITEM #: PG-13735</p> </div></div> </li> <br>"
        ]
       ],
       "shape": {
        "columns": 2,
        "rows": 2
       }
      },
      "text/html": [
       "<div>\n",
       "<style scoped>\n",
       "    .dataframe tbody tr th:only-of-type {\n",
       "        vertical-align: middle;\n",
       "    }\n",
       "\n",
       "    .dataframe tbody tr th {\n",
       "        vertical-align: top;\n",
       "    }\n",
       "\n",
       "    .dataframe thead th {\n",
       "        text-align: right;\n",
       "    }\n",
       "</style>\n",
       "<table border=\"1\" class=\"dataframe\">\n",
       "  <thead>\n",
       "    <tr style=\"text-align: right;\">\n",
       "      <th></th>\n",
       "      <th>Categories</th>\n",
       "      <th>Description</th>\n",
       "    </tr>\n",
       "  </thead>\n",
       "  <tbody>\n",
       "    <tr>\n",
       "      <th>1</th>\n",
       "      <td>WADERS</td>\n",
       "      <td>&lt;div&gt; &lt;p&gt;Built for anglers who demand the utmo...</td>\n",
       "    </tr>\n",
       "    <tr>\n",
       "      <th>2</th>\n",
       "      <td>WADERS</td>\n",
       "      <td>&lt;div&gt; &lt;p&gt;No two anglers are built quite the sa...</td>\n",
       "    </tr>\n",
       "  </tbody>\n",
       "</table>\n",
       "</div>"
      ],
      "text/plain": [
       "  Categories                                        Description\n",
       "1     WADERS  <div> <p>Built for anglers who demand the utmo...\n",
       "2     WADERS  <div> <p>No two anglers are built quite the sa..."
      ]
     },
     "execution_count": 31,
     "metadata": {},
     "output_type": "execute_result"
    }
   ],
   "source": [
    "df.loc[[1,2],[\"Categories\", \"Description\"]]"
   ]
  },
  {
   "cell_type": "code",
   "execution_count": null,
   "id": "abf4a9b0",
   "metadata": {},
   "outputs": [
    {
     "data": {
      "text/plain": [
       "0       True\n",
       "1       True\n",
       "2       True\n",
       "3       True\n",
       "4       True\n",
       "       ...  \n",
       "409    False\n",
       "410    False\n",
       "411    False\n",
       "412    False\n",
       "413    False\n",
       "Name: Categories, Length: 414, dtype: bool"
      ]
     },
     "execution_count": 34,
     "metadata": {},
     "output_type": "execute_result"
    }
   ],
   "source": [
    "df['Categories']=='WADERS'"
   ]
  },
  {
   "cell_type": "code",
   "execution_count": 37,
   "id": "a1235616",
   "metadata": {},
   "outputs": [
    {
     "data": {
      "text/plain": [
       "0                               WADERS\n",
       "1                               WADERS\n",
       "2                               WADERS\n",
       "3                               WADERS\n",
       "4                               WADERS\n",
       "                    ...               \n",
       "409                   CLOTHING-Feature\n",
       "410    CLOTHING-Feature-Sun Protection\n",
       "411    CLOTHING-Feature-Sun Protection\n",
       "412           CLOTHING-Feature-On Sale\n",
       "413      CLOTHING-Feature-New Men Gear\n",
       "Name: Categories, Length: 414, dtype: object"
      ]
     },
     "execution_count": 37,
     "metadata": {},
     "output_type": "execute_result"
    }
   ],
   "source": [
    "df['Categories']"
   ]
  },
  {
   "cell_type": "code",
   "execution_count": 36,
   "id": "b946fd9a",
   "metadata": {},
   "outputs": [
    {
     "data": {
      "text/plain": [
       "0                               WADERS\n",
       "1                               WADERS\n",
       "2                               WADERS\n",
       "3                               WADERS\n",
       "4                               WADERS\n",
       "                    ...               \n",
       "409                   CLOTHING-Feature\n",
       "410    CLOTHING-Feature-Sun Protection\n",
       "411    CLOTHING-Feature-Sun Protection\n",
       "412           CLOTHING-Feature-On Sale\n",
       "413      CLOTHING-Feature-New Men Gear\n",
       "Name: Categories, Length: 414, dtype: object"
      ]
     },
     "execution_count": 36,
     "metadata": {},
     "output_type": "execute_result"
    }
   ],
   "source": [
    "df.loc[:,'Categories']"
   ]
  },
  {
   "cell_type": "code",
   "execution_count": 41,
   "id": "d5126b38",
   "metadata": {},
   "outputs": [],
   "source": [
    "dft=pd.read_excel(\"products_import_template.xlsx\")"
   ]
  },
  {
   "cell_type": "code",
   "execution_count": 42,
   "id": "dafc868c",
   "metadata": {},
   "outputs": [
    {
     "name": "stdout",
     "output_type": "stream",
     "text": [
      "<class 'pandas.core.frame.DataFrame'>\n",
      "RangeIndex: 6 entries, 0 to 5\n",
      "Data columns (total 34 columns):\n",
      " #   Column          Non-Null Count  Dtype \n",
      "---  ------          --------------  ----- \n",
      " 0   商品ID            1 non-null      object\n",
      " 1   创建时间            1 non-null      object\n",
      " 2   商品标题*           6 non-null      object\n",
      " 3   商品属性*           6 non-null      object\n",
      " 4   商品类型            3 non-null      object\n",
      " 5   商品副标题           1 non-null      object\n",
      " 6   商品描述            1 non-null      object\n",
      " 7   简短描述            1 non-null      object\n",
      " 8   内部商品名           1 non-null      object\n",
      " 9   SEO标题           3 non-null      object\n",
      " 10  SEO描述           3 non-null      object\n",
      " 11  SEO URL Handle  3 non-null      object\n",
      " 12  SEO关键词          1 non-null      object\n",
      " 13  商品上架            3 non-null      object\n",
      " 14  商品收税            3 non-null      object\n",
      " 15  商品spu           3 non-null      object\n",
      " 16  虚拟销量值           3 non-null      object\n",
      " 17  跟踪库存            3 non-null      object\n",
      " 18  库存规则*           3 non-null      object\n",
      " 19  专辑名称            1 non-null      object\n",
      " 20  标签              3 non-null      object\n",
      " 21  供应商名称           3 non-null      object\n",
      " 22  款式1             5 non-null      object\n",
      " 23  款式2             1 non-null      object\n",
      " 24  款式3             1 non-null      object\n",
      " 25  商品售价*           5 non-null      object\n",
      " 26  商品原价            5 non-null      object\n",
      " 27  商品SKU           5 non-null      object\n",
      " 28  商品重量(kg)        5 non-null      object\n",
      " 29  商品条形码           1 non-null      object\n",
      " 30  商品库存            5 non-null      object\n",
      " 31  变体备注1           1 non-null      object\n",
      " 32  变体备注2           1 non-null      object\n",
      " 33  商品图片*           3 non-null      object\n",
      "dtypes: object(34)\n",
      "memory usage: 1.7+ KB\n"
     ]
    }
   ],
   "source": [
    "dft.info()"
   ]
  },
  {
   "cell_type": "code",
   "execution_count": 45,
   "id": "aadf4778",
   "metadata": {},
   "outputs": [
    {
     "data": {
      "text/plain": [
       "['商品标题*', '商品属性*', '库存规则*', '商品售价*', '商品图片*']"
      ]
     },
     "execution_count": 45,
     "metadata": {},
     "output_type": "execute_result"
    }
   ],
   "source": [
    "star_col=[col for col in dft.columns if '*' in col]\n",
    "star_col"
   ]
  },
  {
   "cell_type": "markdown",
   "id": "78b1de68",
   "metadata": {},
   "source": [
    "## 关键字段说明"
   ]
  },
  {
   "cell_type": "code",
   "execution_count": null,
   "id": "fc20dda7",
   "metadata": {},
   "outputs": [
    {
     "data": {
      "text/plain": [
       "商品标题*              最多250字符(同一商品的子款式标题与商品标题需一致，且中间请勿插入其他商品)\n",
       "商品属性*    \"1.多款式商品：同一个商品的首行标题填入「M」（商品主体)；同一个商品的非首行标题填入「P...\n",
       "库存规则*            「1」库存为0时不允许购买\\n「2」库存为0时允许购买\\n「3」库存为0时自动下架\n",
       "商品售价*                                       最多输入9位正整数，2位小数\n",
       "商品图片*    1.商品属性为M(商品主体)与S(单一款式商品)的行都必须至少填入一个图片URL，支持填多个...\n",
       "Name: 0, dtype: object"
      ]
     },
     "execution_count": 58,
     "metadata": {},
     "output_type": "execute_result"
    }
   ],
   "source": [
    "core=dft.loc[0,star_col]\n",
    "core"
   ]
  },
  {
   "cell_type": "code",
   "execution_count": 70,
   "id": "f665ee83",
   "metadata": {},
   "outputs": [],
   "source": [
    "core_title_df=dft.loc[[0],star_col]\n",
    "ctdf=core_title_df.T"
   ]
  },
  {
   "cell_type": "code",
   "execution_count": 71,
   "id": "728e028a",
   "metadata": {},
   "outputs": [
    {
     "data": {
      "application/vnd.microsoft.datawrangler.viewer.v0+json": {
       "columns": [
        {
         "name": "index",
         "rawType": "int64",
         "type": "integer"
        },
        {
         "name": "商品标题*",
         "rawType": "object",
         "type": "string"
        },
        {
         "name": "商品属性*",
         "rawType": "object",
         "type": "string"
        },
        {
         "name": "库存规则*",
         "rawType": "object",
         "type": "string"
        },
        {
         "name": "商品售价*",
         "rawType": "object",
         "type": "string"
        },
        {
         "name": "商品图片*",
         "rawType": "object",
         "type": "string"
        }
       ],
       "conversionMethod": "pd.DataFrame",
       "ref": "db5c6f18-09c3-4e84-9b49-6d345e618ad3",
       "rows": [
        [
         "0",
         "最多250字符(同一商品的子款式标题与商品标题需一致，且中间请勿插入其他商品)",
         "\"1.多款式商品：同一个商品的首行标题填入「M」（商品主体)；同一个商品的非首行标题填入「P」(子款式)；\n2.单一款式商品（Single）：填入「S」\"",
         "「1」库存为0时不允许购买\n「2」库存为0时允许购买\n「3」库存为0时自动下架",
         "最多输入9位正整数，2位小数",
         "1.商品属性为M(商品主体)与S(单一款式商品)的行都必须至少填入一个图片URL，支持填多个URL并用「英文逗号」隔开，默认填入的首个URL为商品主图URL\n2.商品属性为P(子款式)的行仅支持一个URL，填入多个时默认导入第一个，若不填入，则默认不需要图片\n3.同一商品的部分子款式上传图片，则其余款式也需要上传，否则默认填入商品主图"
        ]
       ],
       "shape": {
        "columns": 5,
        "rows": 1
       }
      },
      "text/html": [
       "<div>\n",
       "<style scoped>\n",
       "    .dataframe tbody tr th:only-of-type {\n",
       "        vertical-align: middle;\n",
       "    }\n",
       "\n",
       "    .dataframe tbody tr th {\n",
       "        vertical-align: top;\n",
       "    }\n",
       "\n",
       "    .dataframe thead th {\n",
       "        text-align: right;\n",
       "    }\n",
       "</style>\n",
       "<table border=\"1\" class=\"dataframe\">\n",
       "  <thead>\n",
       "    <tr style=\"text-align: right;\">\n",
       "      <th></th>\n",
       "      <th>商品标题*</th>\n",
       "      <th>商品属性*</th>\n",
       "      <th>库存规则*</th>\n",
       "      <th>商品售价*</th>\n",
       "      <th>商品图片*</th>\n",
       "    </tr>\n",
       "  </thead>\n",
       "  <tbody>\n",
       "    <tr>\n",
       "      <th>0</th>\n",
       "      <td>最多250字符(同一商品的子款式标题与商品标题需一致，且中间请勿插入其他商品)</td>\n",
       "      <td>\"1.多款式商品：同一个商品的首行标题填入「M」（商品主体)；同一个商品的非首行标题填入「P...</td>\n",
       "      <td>「1」库存为0时不允许购买\\n「2」库存为0时允许购买\\n「3」库存为0时自动下架</td>\n",
       "      <td>最多输入9位正整数，2位小数</td>\n",
       "      <td>1.商品属性为M(商品主体)与S(单一款式商品)的行都必须至少填入一个图片URL，支持填多个...</td>\n",
       "    </tr>\n",
       "  </tbody>\n",
       "</table>\n",
       "</div>"
      ],
      "text/plain": [
       "                                     商品标题*  \\\n",
       "0  最多250字符(同一商品的子款式标题与商品标题需一致，且中间请勿插入其他商品)   \n",
       "\n",
       "                                               商品属性*  \\\n",
       "0  \"1.多款式商品：同一个商品的首行标题填入「M」（商品主体)；同一个商品的非首行标题填入「P...   \n",
       "\n",
       "                                       库存规则*           商品售价*  \\\n",
       "0  「1」库存为0时不允许购买\\n「2」库存为0时允许购买\\n「3」库存为0时自动下架  最多输入9位正整数，2位小数   \n",
       "\n",
       "                                               商品图片*  \n",
       "0  1.商品属性为M(商品主体)与S(单一款式商品)的行都必须至少填入一个图片URL，支持填多个...  "
      ]
     },
     "execution_count": 71,
     "metadata": {},
     "output_type": "execute_result"
    }
   ],
   "source": [
    "core_title_df"
   ]
  },
  {
   "cell_type": "code",
   "execution_count": 72,
   "id": "2896ff1d",
   "metadata": {},
   "outputs": [
    {
     "data": {
      "application/vnd.microsoft.datawrangler.viewer.v0+json": {
       "columns": [
        {
         "name": "index",
         "rawType": "object",
         "type": "string"
        },
        {
         "name": "0",
         "rawType": "object",
         "type": "string"
        }
       ],
       "conversionMethod": "pd.DataFrame",
       "ref": "19596aaa-875d-4389-8f1b-5e5b44f259d8",
       "rows": [
        [
         "商品标题*",
         "最多250字符(同一商品的子款式标题与商品标题需一致，且中间请勿插入其他商品)"
        ],
        [
         "商品属性*",
         "\"1.多款式商品：同一个商品的首行标题填入「M」（商品主体)；同一个商品的非首行标题填入「P」(子款式)；\n2.单一款式商品（Single）：填入「S」\""
        ],
        [
         "库存规则*",
         "「1」库存为0时不允许购买\n「2」库存为0时允许购买\n「3」库存为0时自动下架"
        ],
        [
         "商品售价*",
         "最多输入9位正整数，2位小数"
        ],
        [
         "商品图片*",
         "1.商品属性为M(商品主体)与S(单一款式商品)的行都必须至少填入一个图片URL，支持填多个URL并用「英文逗号」隔开，默认填入的首个URL为商品主图URL\n2.商品属性为P(子款式)的行仅支持一个URL，填入多个时默认导入第一个，若不填入，则默认不需要图片\n3.同一商品的部分子款式上传图片，则其余款式也需要上传，否则默认填入商品主图"
        ]
       ],
       "shape": {
        "columns": 1,
        "rows": 5
       }
      },
      "text/html": [
       "<div>\n",
       "<style scoped>\n",
       "    .dataframe tbody tr th:only-of-type {\n",
       "        vertical-align: middle;\n",
       "    }\n",
       "\n",
       "    .dataframe tbody tr th {\n",
       "        vertical-align: top;\n",
       "    }\n",
       "\n",
       "    .dataframe thead th {\n",
       "        text-align: right;\n",
       "    }\n",
       "</style>\n",
       "<table border=\"1\" class=\"dataframe\">\n",
       "  <thead>\n",
       "    <tr style=\"text-align: right;\">\n",
       "      <th></th>\n",
       "      <th>0</th>\n",
       "    </tr>\n",
       "  </thead>\n",
       "  <tbody>\n",
       "    <tr>\n",
       "      <th>商品标题*</th>\n",
       "      <td>最多250字符(同一商品的子款式标题与商品标题需一致，且中间请勿插入其他商品)</td>\n",
       "    </tr>\n",
       "    <tr>\n",
       "      <th>商品属性*</th>\n",
       "      <td>\"1.多款式商品：同一个商品的首行标题填入「M」（商品主体)；同一个商品的非首行标题填入「P...</td>\n",
       "    </tr>\n",
       "    <tr>\n",
       "      <th>库存规则*</th>\n",
       "      <td>「1」库存为0时不允许购买\\n「2」库存为0时允许购买\\n「3」库存为0时自动下架</td>\n",
       "    </tr>\n",
       "    <tr>\n",
       "      <th>商品售价*</th>\n",
       "      <td>最多输入9位正整数，2位小数</td>\n",
       "    </tr>\n",
       "    <tr>\n",
       "      <th>商品图片*</th>\n",
       "      <td>1.商品属性为M(商品主体)与S(单一款式商品)的行都必须至少填入一个图片URL，支持填多个...</td>\n",
       "    </tr>\n",
       "  </tbody>\n",
       "</table>\n",
       "</div>"
      ],
      "text/plain": [
       "                                                       0\n",
       "商品标题*            最多250字符(同一商品的子款式标题与商品标题需一致，且中间请勿插入其他商品)\n",
       "商品属性*  \"1.多款式商品：同一个商品的首行标题填入「M」（商品主体)；同一个商品的非首行标题填入「P...\n",
       "库存规则*          「1」库存为0时不允许购买\\n「2」库存为0时允许购买\\n「3」库存为0时自动下架\n",
       "商品售价*                                     最多输入9位正整数，2位小数\n",
       "商品图片*  1.商品属性为M(商品主体)与S(单一款式商品)的行都必须至少填入一个图片URL，支持填多个..."
      ]
     },
     "execution_count": 72,
     "metadata": {},
     "output_type": "execute_result"
    }
   ],
   "source": [
    "ctdf"
   ]
  },
  {
   "cell_type": "code",
   "execution_count": 73,
   "id": "72099402",
   "metadata": {},
   "outputs": [
    {
     "data": {
      "text/plain": [
       "{0: {'商品标题*': '最多250字符(同一商品的子款式标题与商品标题需一致，且中间请勿插入其他商品)',\n",
       "  '商品属性*': '\"1.多款式商品：同一个商品的首行标题填入「M」（商品主体)；同一个商品的非首行标题填入「P」(子款式)；\\n2.单一款式商品（Single）：填入「S」\"',\n",
       "  '库存规则*': '「1」库存为0时不允许购买\\n「2」库存为0时允许购买\\n「3」库存为0时自动下架',\n",
       "  '商品售价*': '最多输入9位正整数，2位小数',\n",
       "  '商品图片*': '1.商品属性为M(商品主体)与S(单一款式商品)的行都必须至少填入一个图片URL，支持填多个URL并用「英文逗号」隔开，默认填入的首个URL为商品主图URL\\n2.商品属性为P(子款式)的行仅支持一个URL，填入多个时默认导入第一个，若不填入，则默认不需要图片\\n3.同一商品的部分子款式上传图片，则其余款式也需要上传，否则默认填入商品主图'}}"
      ]
     },
     "execution_count": 73,
     "metadata": {},
     "output_type": "execute_result"
    }
   ],
   "source": [
    "ctdf.to_dict()"
   ]
  },
  {
   "cell_type": "code",
   "execution_count": 74,
   "id": "d02ab1dc",
   "metadata": {},
   "outputs": [],
   "source": [
    "ctdf.to_csv(\"./shopyy_tempalte_core_header.csv\",index=True)"
   ]
  },
  {
   "cell_type": "code",
   "execution_count": 62,
   "id": "e93724bd",
   "metadata": {},
   "outputs": [
    {
     "data": {
      "text/plain": [
       "0    最多250字符(同一商品的子款式标题与商品标题需一致，且中间请勿插入其他商品)\n",
       "1                              Example Pants\n",
       "2                            Example T-Shirt\n",
       "3                            Example T-Shirt\n",
       "4                            Example T-Shirt\n",
       "5                            Example T-Shirt\n",
       "Name: 商品标题*, dtype: object"
      ]
     },
     "execution_count": 62,
     "metadata": {},
     "output_type": "execute_result"
    }
   ],
   "source": [
    "title=dft.loc[:,'商品标题*']\n",
    "title"
   ]
  },
  {
   "cell_type": "code",
   "execution_count": 63,
   "id": "84dda592",
   "metadata": {},
   "outputs": [
    {
     "data": {
      "text/plain": [
       "pandas.core.series.Series"
      ]
     },
     "execution_count": 63,
     "metadata": {},
     "output_type": "execute_result"
    }
   ],
   "source": [
    "type(title)"
   ]
  },
  {
   "cell_type": "code",
   "execution_count": 64,
   "id": "171dddac",
   "metadata": {},
   "outputs": [
    {
     "data": {
      "application/vnd.microsoft.datawrangler.viewer.v0+json": {
       "columns": [
        {
         "name": "index",
         "rawType": "int64",
         "type": "integer"
        },
        {
         "name": "商品标题*",
         "rawType": "object",
         "type": "string"
        }
       ],
       "conversionMethod": "pd.DataFrame",
       "ref": "882ae94f-5e03-46c7-84ad-99a3e8ff1c9b",
       "rows": [
        [
         "0",
         "最多250字符(同一商品的子款式标题与商品标题需一致，且中间请勿插入其他商品)"
        ],
        [
         "1",
         "Example Pants"
        ],
        [
         "2",
         "Example T-Shirt"
        ],
        [
         "3",
         "Example T-Shirt"
        ],
        [
         "4",
         "Example T-Shirt"
        ],
        [
         "5",
         "Example T-Shirt"
        ]
       ],
       "shape": {
        "columns": 1,
        "rows": 6
       }
      },
      "text/html": [
       "<div>\n",
       "<style scoped>\n",
       "    .dataframe tbody tr th:only-of-type {\n",
       "        vertical-align: middle;\n",
       "    }\n",
       "\n",
       "    .dataframe tbody tr th {\n",
       "        vertical-align: top;\n",
       "    }\n",
       "\n",
       "    .dataframe thead th {\n",
       "        text-align: right;\n",
       "    }\n",
       "</style>\n",
       "<table border=\"1\" class=\"dataframe\">\n",
       "  <thead>\n",
       "    <tr style=\"text-align: right;\">\n",
       "      <th></th>\n",
       "      <th>商品标题*</th>\n",
       "    </tr>\n",
       "  </thead>\n",
       "  <tbody>\n",
       "    <tr>\n",
       "      <th>0</th>\n",
       "      <td>最多250字符(同一商品的子款式标题与商品标题需一致，且中间请勿插入其他商品)</td>\n",
       "    </tr>\n",
       "    <tr>\n",
       "      <th>1</th>\n",
       "      <td>Example Pants</td>\n",
       "    </tr>\n",
       "    <tr>\n",
       "      <th>2</th>\n",
       "      <td>Example T-Shirt</td>\n",
       "    </tr>\n",
       "    <tr>\n",
       "      <th>3</th>\n",
       "      <td>Example T-Shirt</td>\n",
       "    </tr>\n",
       "    <tr>\n",
       "      <th>4</th>\n",
       "      <td>Example T-Shirt</td>\n",
       "    </tr>\n",
       "    <tr>\n",
       "      <th>5</th>\n",
       "      <td>Example T-Shirt</td>\n",
       "    </tr>\n",
       "  </tbody>\n",
       "</table>\n",
       "</div>"
      ],
      "text/plain": [
       "                                     商品标题*\n",
       "0  最多250字符(同一商品的子款式标题与商品标题需一致，且中间请勿插入其他商品)\n",
       "1                            Example Pants\n",
       "2                          Example T-Shirt\n",
       "3                          Example T-Shirt\n",
       "4                          Example T-Shirt\n",
       "5                          Example T-Shirt"
      ]
     },
     "execution_count": 64,
     "metadata": {},
     "output_type": "execute_result"
    }
   ],
   "source": [
    "title=dft.loc[:,['商品标题*']]\n",
    "title"
   ]
  },
  {
   "cell_type": "code",
   "execution_count": 65,
   "id": "c9fd8e02",
   "metadata": {},
   "outputs": [
    {
     "data": {
      "text/plain": [
       "pandas.core.frame.DataFrame"
      ]
     },
     "execution_count": 65,
     "metadata": {},
     "output_type": "execute_result"
    }
   ],
   "source": [
    "type(title)"
   ]
  },
  {
   "cell_type": "code",
   "execution_count": 7,
   "id": "d5798d25",
   "metadata": {},
   "outputs": [
    {
     "name": "stdout",
     "output_type": "stream",
     "text": [
      "商品ID: ['（此行导入时不可删除 ）商品 ID 是系统生成的唯一标识符，新增商品无需填写']\n",
      "创建时间: ['创建时间的时区为当前店铺设置的时区']\n",
      "商品标题*: ['最多250字符(同一商品的子款式标题与商品标题需一致，且中间请勿插入其他商品)']\n",
      "商品属性*: ['\"1.多款式商品：同一个商品的首行标题填入「M」（商品主体)；同一个商品的非首行标题填入「P」(子款式)；\\n2.单一款式商品（Single）：填入「S」\"']\n",
      "商品类型: ['最多60字符']\n",
      "商品副标题: ['最多250字符']\n",
      "商品描述: ['上传不带样式，若需要样式，则输入html代码']\n",
      "简短描述: ['最多2000字符']\n",
      "内部商品名: ['最多250字符']\n",
      "SEO标题: ['最多511字符']\n",
      "SEO描述: ['最多20字符']\n",
      "SEO URL Handle: ['最多支持输入255字符（SEO URL handle只对SEO URL的「URL参数」部分进行更改，即“products/”后的内容，如：products/「URL参数」）']\n",
      "SEO关键词: ['多个关键词请用「英文逗号」隔开']\n",
      "商品上架: ['「Y」:上架状态\\n「N」:下架状态\\n默认为「N」']\n",
      "商品收税: ['「Y」:需要\\n「N」:不需要 \\n默认为「N」']\n",
      "商品spu: ['最多60字符']\n",
      "虚拟销量值: ['最多输入六位数的自然数']\n",
      "跟踪库存: ['「Y」:跟踪\\n「N」:不跟踪\\n默认为「N」']\n",
      "库存规则*: ['「1」库存为0时不允许购买\\n「2」库存为0时允许购买\\n「3」库存为0时自动下架']\n",
      "专辑名称: ['请填入已创建的手动专辑名称；多个专辑请用「英文逗号」隔开']\n",
      "标签: ['最多输入250个标签，每个不得超过255字符，多个标签请用「英文逗号」隔开']\n",
      "供应商名称: ['最多100字符']\n",
      "款式1: ['最多63字符']\n",
      "款式2: ['最多63字符']\n",
      "款式3: ['最多63字符']\n",
      "商品售价*: ['最多输入9位正整数，2位小数']\n",
      "商品原价: ['最多输入9位正整数，2位小数']\n",
      "商品SKU: ['最多511字符']\n",
      "商品重量(kg): ['最多输入9位正整数，4位小数']\n",
      "商品条形码: ['最多63字符']\n",
      "商品库存: ['最多输入7位整数']\n",
      "变体备注1: ['最多512字符']\n",
      "变体备注2: ['最多512字符']\n",
      "商品图片*: ['1.商品属性为M(商品主体)与S(单一款式商品)的行都必须至少填入一个图片URL，支持填多个URL并用「英文逗号」隔开，默认填入的首个URL为商品主图URL\\n2.商品属性为P(子款式)的行仅支持一个URL，填入多个时默认导入第一个，若不填入，则默认不需要图片\\n3.同一商品的部分子款式上传图片，则其余款式也需要上传，否则默认填入商品主图']\n"
     ]
    }
   ],
   "source": [
    "\n",
    "\n",
    "# 查看前两行数据\n",
    "note_row = dft.head(1)\n",
    "\n",
    "# 竖着打印\n",
    "for column in note_row.columns:\n",
    "    print(f\"{column}: {note_row[column].tolist()}\")\n"
   ]
  },
  {
   "cell_type": "code",
   "execution_count": 8,
   "id": "5974e0f0",
   "metadata": {},
   "outputs": [
    {
     "data": {
      "text/plain": [
       "商品ID                         （此行导入时不可删除 ）商品 ID 是系统生成的唯一标识符，新增商品无需填写\n",
       "创建时间                                              创建时间的时区为当前店铺设置的时区\n",
       "商品标题*                       最多250字符(同一商品的子款式标题与商品标题需一致，且中间请勿插入其他商品)\n",
       "商品属性*             \"1.多款式商品：同一个商品的首行标题填入「M」（商品主体)；同一个商品的非首行标题填入「P...\n",
       "商品类型                                                         最多60字符\n",
       "商品副标题                                                       最多250字符\n",
       "商品描述                                         上传不带样式，若需要样式，则输入html代码\n",
       "简短描述                                                       最多2000字符\n",
       "内部商品名                                                       最多250字符\n",
       "SEO标题                                                       最多511字符\n",
       "SEO描述                                                        最多20字符\n",
       "SEO URL Handle    最多支持输入255字符（SEO URL handle只对SEO URL的「URL参数」部分进...\n",
       "SEO关键词                                              多个关键词请用「英文逗号」隔开\n",
       "商品上架                                     「Y」:上架状态\\n「N」:下架状态\\n默认为「N」\n",
       "商品收税                                       「Y」:需要\\n「N」:不需要 \\n默认为「N」\n",
       "商品spu                                                        最多60字符\n",
       "虚拟销量值                                                   最多输入六位数的自然数\n",
       "跟踪库存                                        「Y」:跟踪\\n「N」:不跟踪\\n默认为「N」\n",
       "库存规则*                     「1」库存为0时不允许购买\\n「2」库存为0时允许购买\\n「3」库存为0时自动下架\n",
       "专辑名称                                   请填入已创建的手动专辑名称；多个专辑请用「英文逗号」隔开\n",
       "标签                            最多输入250个标签，每个不得超过255字符，多个标签请用「英文逗号」隔开\n",
       "供应商名称                                                       最多100字符\n",
       "款式1                                                          最多63字符\n",
       "款式2                                                          最多63字符\n",
       "款式3                                                          最多63字符\n",
       "商品售价*                                                最多输入9位正整数，2位小数\n",
       "商品原价                                                 最多输入9位正整数，2位小数\n",
       "商品SKU                                                       最多511字符\n",
       "商品重量(kg)                                             最多输入9位正整数，4位小数\n",
       "商品条形码                                                        最多63字符\n",
       "商品库存                                                       最多输入7位整数\n",
       "变体备注1                                                       最多512字符\n",
       "变体备注2                                                       最多512字符\n",
       "商品图片*             1.商品属性为M(商品主体)与S(单一款式商品)的行都必须至少填入一个图片URL，支持填多个...\n",
       "Name: 0, dtype: object"
      ]
     },
     "execution_count": 8,
     "metadata": {},
     "output_type": "execute_result"
    }
   ],
   "source": [
    "#查看模板字段注释说明\n",
    "x=dft.loc[0]\n",
    "x"
   ]
  },
  {
   "cell_type": "code",
   "execution_count": 9,
   "id": "0b3e9462",
   "metadata": {},
   "outputs": [
    {
     "data": {
      "text/plain": [
       "商品标题*              最多250字符(同一商品的子款式标题与商品标题需一致，且中间请勿插入其他商品)\n",
       "商品属性*    \"1.多款式商品：同一个商品的首行标题填入「M」（商品主体)；同一个商品的非首行标题填入「P...\n",
       "库存规则*            「1」库存为0时不允许购买\\n「2」库存为0时允许购买\\n「3」库存为0时自动下架\n",
       "商品售价*                                       最多输入9位正整数，2位小数\n",
       "商品图片*    1.商品属性为M(商品主体)与S(单一款式商品)的行都必须至少填入一个图片URL，支持填多个...\n",
       "Name: 0, dtype: object"
      ]
     },
     "execution_count": 9,
     "metadata": {},
     "output_type": "execute_result"
    }
   ],
   "source": [
    "dft.loc[0,star_col]"
   ]
  },
  {
   "cell_type": "code",
   "execution_count": 10,
   "id": "0f21d2b2",
   "metadata": {},
   "outputs": [
    {
     "data": {
      "application/vnd.microsoft.datawrangler.viewer.v0+json": {
       "columns": [
        {
         "name": "index",
         "rawType": "int64",
         "type": "integer"
        },
        {
         "name": "SKU",
         "rawType": "object",
         "type": "string"
        },
        {
         "name": "Name",
         "rawType": "object",
         "type": "string"
        },
        {
         "name": "Categories",
         "rawType": "object",
         "type": "string"
        },
        {
         "name": "Regular price",
         "rawType": "float64",
         "type": "float"
        },
        {
         "name": "Sale price",
         "rawType": "float64",
         "type": "float"
        },
        {
         "name": "Attribute 1 value(s)",
         "rawType": "object",
         "type": "string"
        },
        {
         "name": "Attribute 1 name",
         "rawType": "object",
         "type": "string"
        },
        {
         "name": "Images",
         "rawType": "object",
         "type": "string"
        },
        {
         "name": "ImagesUrl",
         "rawType": "float64",
         "type": "float"
        },
        {
         "name": "Tags",
         "rawType": "float64",
         "type": "float"
        },
        {
         "name": "PageUrl",
         "rawType": "object",
         "type": "string"
        },
        {
         "name": "Description",
         "rawType": "object",
         "type": "string"
        }
       ],
       "conversionMethod": "pd.DataFrame",
       "ref": "a0f58e26-40b1-4434-95a1-27c762149b8b",
       "rows": [
        [
         "1",
         "SK0000002-US",
         "M‘s G3 Guide Waders - Bootfoot - Vibram Sole",
         "WADERS",
         "600.0",
         "120.0",
         "color#Gunmetal~   Size#S 08|M 09|M 10|M 11|L 10|L 11|L 12|XL 11|XL 12|XL 13|XXL 12|XXL 13",
         "mycustom",
         "\"https://cdn.staticsaa.com/uploads/68512/cart/resources/20231215/4832DAC5-2A04-BC23-3714-BF45F2F0C0E0.jpg\",\"https://cdn.staticsaa.com/uploads/68512/cart/resources/20231215/8DFC555B-8F96-9847-B00A-09D726A1BEDD.jpg\",\"https://cdn.staticsaa.com/uploads/68512/cart/resources/20231215/5CEF60A6-9A02-3FAC-7E77-9C3892740B1C.jpg\",\"https://cdn.staticsaa.com/uploads/68512/cart/resources/20231215/E61E34B0-F0F6-88AA-C55D-6AF660725F04.jpg\",\"https://cdn.staticsaa.com/uploads/68512/cart/resources/20231215/1F77E2D2-B073-6FEC-14D4-1CBA0CECE80B.jpg\",\"https://cdn.staticsaa.com/uploads/68512/cart/resources/20231215/EEE2695B-700F-DFD6-2225-CDF48333E345.jpg\",\"https://cdn.staticsaa.com/uploads/68512/cart/resources/20231215/5F8309BA-A347-0FEF-AF50-24FD6559E222.jpg\",\"https://cdn.staticsaa.com/uploads/68512/cart/resources/20231215/0007D30E-F3C6-3EC4-8037-61F79A6DF247.jpg\",\"https://cdn.staticsaa.com/uploads/68512/cart/resources/20231215/D8884CD8-0EE5-84D5-0F92-8BC8C90526E2.jpg\",\"https://cdn.staticsaa.com/uploads/68512/cart/resources/20231215/910D0D00-83FC-3E5A-C5E1-19C256B4CD69.jpg\",\"https://cdn.staticsaa.com/uploads/68512/cart/resources/20231215/D02BC4EC-9A49-E075-A2BC-D6669E4E6AC6.jpg\",\"https://cdn.staticsaa.com/uploads/68512/cart/resources/20231215/66A31772-4693-39CB-107D-69F576EC95F3.jpg\"",
         null,
         null,
         "https://us-simmsfishing.shop/collections/waders/products/m-s-g3-guide-waders-bootfoot-vibram-sole?data_from=collection_detail",
         "<div> <p>Built for anglers who demand the utmost performance day-in and day-out, the G3 Guide Bootfoot wader marries Simms' time-tested G3 Guide platform with a custom vulcanized and insulated boot for a trifecta of comfort, warmth, and durability that is unmatched.</p> <p><strong>UPPERS</strong></p> <ul> <li><span>Updated material lamination package with even more durable, breathable, and comfortable Gore-Tex Pro Shell 3-layer upper and 4-layer lower.</span></li> <li><span>Adjustable spacer air-mesh suspender system with a fabric suspender divider.</span></li> <li><span>Top access zippered stretch pocket plus zippered, reach-through micro-fleece lined hand-warming chest pocket.</span></li> <li><span>Additional organization opportunities include a removable Tippet-Tender Pocket and zippered, stretch-woven internal pocket on wearer's left.</span></li> <li><span>Built-in low-profile back belt loops with high and low options; 2 inch stretch nylon belt included.</span></li> <li><span>Patented front and back leg seams deliver articulated fit, improved mobility, and increased durability.</span></li> </ul> <p><strong>BOOTFOOT</strong></p> <ul> <li><span>Triple-layer vulcanized rubber upper on boots for maximum durability &amp; wading performance in extreme weather.</span></li> <li><span>Boots fully-lined &amp; insulated with 7mm neoprene &amp; grid fleece for all-day warmth, comfort and moisture management.</span></li> <li><span>Anatomically shaped last and molded arch support for comfortable underfoot ride.</span></li> <li><span>Vibram® Idrogrip rubber outsole provides maximum underwater traction and is fully compatible with Simms cleats and non-felt studs.</span></li> <li>Made in USA of imported materials.</li> <li><span><span>*Best wader warranty in fishing: 60-Day replacement for leaks, no questions asked. 365 Days repairs on us. See the tab above for details. </span></span></li> </ul> <p> <strong>Don’t see your size available? Made-to-order options available<span> <span>HERE</span></span></strong></p> <p><span>FABRIC TECH: Upper: 3-layer waterproof, breathable Gore-Tex Shell; Lower: 4-Layer waterproof, breathable Gore-Tex Pro Shell</span></p> </div></div> </li> <br>"
        ],
        [
         "2",
         "SK0000003-US",
         "Wading Belt - 2\"",
         "WADERS",
         "40.0",
         "12.0",
         "color#Regiment Camo Carbon|Regiment Camo Olive Drab|Simms Orange~   Size#One Size",
         "mycustom",
         "\"https://cdn.staticsaa.com/uploads/68512/cart/resources/20231215/79948F70-6E4D-B5B7-5B07-1B52B30264A4.jpg\",\"https://cdn.staticsaa.com/uploads/68512/cart/resources/20231215/E977BF81-99E8-FE86-3C55-91DBF408446D.jpg\",\"https://cdn.staticsaa.com/uploads/68512/cart/resources/20231215/7FC50B7D-D701-E344-7661-42FC867EFF8A.jpg\",\"https://cdn.staticsaa.com/uploads/68512/cart/resources/20231215/EF40158B-3D3F-A1D9-66A8-4B8AA29068EB.jpg\"",
         null,
         null,
         "https://us-simmsfishing.shop/collections/waders/products/wading-belt-2_2a9caaf6?data_from=collection_detail",
         "<div> <p>No two anglers are built quite the same. Simms accessory wading belts let you customize comfort for improved fit and performance.</p> <ul> <li>Constructed with 50mm/2\" wide elastic webbing and a low profile side release buckle</li> <li>Adjustable from 30\" to 52\"</li> </ul> <p><b>FABRIC TECH:</b></p> <p>100% nylon</p> <p>ITEM #: PG-13735</p> </div></div> </li> <br>"
        ],
        [
         "3",
         "SK0000004-US",
         "M‘s G4 PRO® Wading Jacket",
         "WADERS",
         "500.0",
         "100.0",
         "Color#Slate~   Size#S|M|L|XL|2XL",
         "mycustom",
         "\"https://cdn.staticsaa.com/uploads/68512/cart/resources/20240422/236ECA25-1299-F9AC-15C3-38253CC09354.webp\",\"https://cdn.staticsaa.com/uploads/68512/cart/resources/20240422/1DE5E9B0-3056-F1A1-E817-0EC569720F9F.webp\",\"https://cdn.staticsaa.com/uploads/68512/cart/resources/20240422/7C2B6940-4CCB-05BE-29EF-0EA0266C5D71.webp\",\"https://cdn.staticsaa.com/uploads/68512/cart/resources/20240422/6469601D-ADA8-AD1B-D3DA-1BE53AD775C9.webp\",\"https://cdn.staticsaa.com/uploads/68512/cart/resources/20240422/AF3BD7F8-E045-E5EC-A281-2DEBEEE8DF0D.webp\"",
         null,
         null,
         "https://us-simmsfishing.shop/collections/waders/products/m-s-g4-pro-wading-jacket_667227b4?data_from=collection_detail",
         "<p>The highest-tech wading jacket on the water, our updated G4 Pro&reg; brings a GORE-TEX&reg; Pro 3-layer build to the battle and provides a full suite of fishing features for all your on-foot and boat-focused pursuits.</p> <ul> <li>GORE-TEX&nbsp;<span>&reg;</span>&nbsp;Pro&nbsp;waterproof breathable 3-layer fabric for rugged waterproof performance</li> <li>3-point adjustable storm hood with a high-visibility center panel</li> <li><span>Unique storage array includes dual zippered chest storage pockets with interior stretch mesh dividers and a stowable fly patch tool in the front seam of the jacket</span></li> <li>Zippered side-entry handwarmer pockets have integrated pass-through zipper for wader access without removing your jacket</li> <li>Internal stretch woven zippered pocket for accessory storage</li> <li>Adjustable, low profile cuff and hem</li> </ul> <p><span>FABRIC TECH:</span></p> <p>Shell: Nylon 3-layer GORE-TEX<span>&reg;</span>&nbsp;Pro</p> <p>ITEM #: PG-13934<br></p></div> </li> <br>"
        ],
        [
         "4",
         "SK0000005-US",
         "M‘s Freestone Z Bootfoot Waders - Rubber Sole",
         "WADERS",
         "580.0",
         "116.0",
         "color#Loden~   Size#S 08|M 09|M 10|M 11|L 10|L 11|L 12|XL 11|XL 12|XL 13|XXL 12|XXL 13",
         "mycustom",
         "\"https://cdn.staticsaa.com/uploads/68512/cart/resources/20231215/3836EAFD-75D5-E5F1-493F-4760F39C3F01.jpg\",\"https://cdn.staticsaa.com/uploads/68512/cart/resources/20231215/BAAC18D5-68A0-FD2C-4A12-E828E5CB2393.jpg\",\"https://cdn.staticsaa.com/uploads/68512/cart/resources/20231215/CCE31792-0F17-32CF-06C2-21ED2046190F.jpg\",\"https://cdn.staticsaa.com/uploads/68512/cart/resources/20231215/0F86C26A-773F-9BA6-D2B9-8CC5B351FB55.jpg\",\"https://cdn.staticsaa.com/uploads/68512/cart/resources/20231215/3DEB824C-20C1-AC39-CA06-E5B2AB75D04E.jpg\",\"https://cdn.staticsaa.com/uploads/68512/cart/resources/20231215/77368020-F1BF-D5DE-AB42-550E132A0AD2.jpg\",\"https://cdn.staticsaa.com/uploads/68512/cart/resources/20231215/BB8554AB-ECCD-D833-7125-D6FB0600F445.jpg\",\"https://cdn.staticsaa.com/uploads/68512/cart/resources/20231215/C9A0E4B5-A0C4-F888-40D5-817A6DA21DD2.jpg\",\"https://cdn.staticsaa.com/uploads/68512/cart/resources/20231215/DA166717-DE1A-4A56-A9E3-42F46F5FEB99.jpg\",\"https://cdn.staticsaa.com/uploads/68512/cart/resources/20231215/09AAAFEC-1FAC-83B8-9616-121C326AB969.jpg\",\"https://cdn.staticsaa.com/uploads/68512/cart/resources/20231215/B622ADC7-D0DA-2BBC-3B64-1D1BC93619E9.jpg\",\"https://cdn.staticsaa.com/uploads/68512/cart/resources/20231215/ECAE11EA-5D3E-2D10-758F-A55326659F62.jpg\"",
         null,
         null,
         "https://us-simmsfishing.shop/collections/waders/products/m-s-freestone-z-bootfoot-waders-rubber-sole_d847a7f7?data_from=collection_detail",
         "<div> <p>The ultimate cold-weather wader, the Freestone Bootfoot is built on our rugged, breathable, mobility-enhancing Freestone chassis and features a built-in rubber-soled boot that goes on easy and charges hard.</p> <ul> <li>Durable &amp; breathable Toray® QuadraLam™ 4-layer upper &amp; lower</li> <li>TIZIP® waterproof center front zipper</li> <li>Stretch elastic suspenders with Simms custom opposing male and female buckles</li> <li>Upper chest pocket array features dual side-access stretch-woven zippered storage pockets, micro-fleece lined handwarmer pockets and integrated loop fly patch</li> <li>Patented front and back leg seams deliver articulated fit, improved mobility, and increased durability</li> <li>Dual rear belt loops; 38mm stretch elastic wading belt included</li> </ul> <p><b>FABRIC TECH:</b></p> <p>4-layer Toray® QuadraLam Upper &amp; Lower</p> <p>ITEM #: PG-13916</p> </div></div> </li> <br>"
        ]
       ],
       "shape": {
        "columns": 12,
        "rows": 4
       }
      },
      "text/html": [
       "<div>\n",
       "<style scoped>\n",
       "    .dataframe tbody tr th:only-of-type {\n",
       "        vertical-align: middle;\n",
       "    }\n",
       "\n",
       "    .dataframe tbody tr th {\n",
       "        vertical-align: top;\n",
       "    }\n",
       "\n",
       "    .dataframe thead th {\n",
       "        text-align: right;\n",
       "    }\n",
       "</style>\n",
       "<table border=\"1\" class=\"dataframe\">\n",
       "  <thead>\n",
       "    <tr style=\"text-align: right;\">\n",
       "      <th></th>\n",
       "      <th>SKU</th>\n",
       "      <th>Name</th>\n",
       "      <th>Categories</th>\n",
       "      <th>Regular price</th>\n",
       "      <th>Sale price</th>\n",
       "      <th>Attribute 1 value(s)</th>\n",
       "      <th>Attribute 1 name</th>\n",
       "      <th>Images</th>\n",
       "      <th>ImagesUrl</th>\n",
       "      <th>Tags</th>\n",
       "      <th>PageUrl</th>\n",
       "      <th>Description</th>\n",
       "    </tr>\n",
       "  </thead>\n",
       "  <tbody>\n",
       "    <tr>\n",
       "      <th>1</th>\n",
       "      <td>SK0000002-US</td>\n",
       "      <td>M‘s G3 Guide Waders - Bootfoot - Vibram Sole</td>\n",
       "      <td>WADERS</td>\n",
       "      <td>600.0</td>\n",
       "      <td>120.0</td>\n",
       "      <td>color#Gunmetal~   Size#S 08|M 09|M 10|M 11|L 1...</td>\n",
       "      <td>mycustom</td>\n",
       "      <td>\"https://cdn.staticsaa.com/uploads/68512/cart/...</td>\n",
       "      <td>NaN</td>\n",
       "      <td>NaN</td>\n",
       "      <td>https://us-simmsfishing.shop/collections/wader...</td>\n",
       "      <td>&lt;div&gt; &lt;p&gt;Built for anglers who demand the utmo...</td>\n",
       "    </tr>\n",
       "    <tr>\n",
       "      <th>2</th>\n",
       "      <td>SK0000003-US</td>\n",
       "      <td>Wading Belt - 2\"</td>\n",
       "      <td>WADERS</td>\n",
       "      <td>40.0</td>\n",
       "      <td>12.0</td>\n",
       "      <td>color#Regiment Camo Carbon|Regiment Camo Olive...</td>\n",
       "      <td>mycustom</td>\n",
       "      <td>\"https://cdn.staticsaa.com/uploads/68512/cart/...</td>\n",
       "      <td>NaN</td>\n",
       "      <td>NaN</td>\n",
       "      <td>https://us-simmsfishing.shop/collections/wader...</td>\n",
       "      <td>&lt;div&gt; &lt;p&gt;No two anglers are built quite the sa...</td>\n",
       "    </tr>\n",
       "    <tr>\n",
       "      <th>3</th>\n",
       "      <td>SK0000004-US</td>\n",
       "      <td>M‘s G4 PRO® Wading Jacket</td>\n",
       "      <td>WADERS</td>\n",
       "      <td>500.0</td>\n",
       "      <td>100.0</td>\n",
       "      <td>Color#Slate~   Size#S|M|L|XL|2XL</td>\n",
       "      <td>mycustom</td>\n",
       "      <td>\"https://cdn.staticsaa.com/uploads/68512/cart/...</td>\n",
       "      <td>NaN</td>\n",
       "      <td>NaN</td>\n",
       "      <td>https://us-simmsfishing.shop/collections/wader...</td>\n",
       "      <td>&lt;p&gt;The highest-tech wading jacket on the water...</td>\n",
       "    </tr>\n",
       "    <tr>\n",
       "      <th>4</th>\n",
       "      <td>SK0000005-US</td>\n",
       "      <td>M‘s Freestone Z Bootfoot Waders - Rubber Sole</td>\n",
       "      <td>WADERS</td>\n",
       "      <td>580.0</td>\n",
       "      <td>116.0</td>\n",
       "      <td>color#Loden~   Size#S 08|M 09|M 10|M 11|L 10|L...</td>\n",
       "      <td>mycustom</td>\n",
       "      <td>\"https://cdn.staticsaa.com/uploads/68512/cart/...</td>\n",
       "      <td>NaN</td>\n",
       "      <td>NaN</td>\n",
       "      <td>https://us-simmsfishing.shop/collections/wader...</td>\n",
       "      <td>&lt;div&gt; &lt;p&gt;The ultimate cold-weather wader, the ...</td>\n",
       "    </tr>\n",
       "  </tbody>\n",
       "</table>\n",
       "</div>"
      ],
      "text/plain": [
       "            SKU                                           Name Categories  \\\n",
       "1  SK0000002-US   M‘s G3 Guide Waders - Bootfoot - Vibram Sole     WADERS   \n",
       "2  SK0000003-US                               Wading Belt - 2\"     WADERS   \n",
       "3  SK0000004-US                      M‘s G4 PRO® Wading Jacket     WADERS   \n",
       "4  SK0000005-US  M‘s Freestone Z Bootfoot Waders - Rubber Sole     WADERS   \n",
       "\n",
       "   Regular price  Sale price  \\\n",
       "1          600.0       120.0   \n",
       "2           40.0        12.0   \n",
       "3          500.0       100.0   \n",
       "4          580.0       116.0   \n",
       "\n",
       "                                Attribute 1 value(s) Attribute 1 name  \\\n",
       "1  color#Gunmetal~   Size#S 08|M 09|M 10|M 11|L 1...         mycustom   \n",
       "2  color#Regiment Camo Carbon|Regiment Camo Olive...         mycustom   \n",
       "3                   Color#Slate~   Size#S|M|L|XL|2XL         mycustom   \n",
       "4  color#Loden~   Size#S 08|M 09|M 10|M 11|L 10|L...         mycustom   \n",
       "\n",
       "                                              Images  ImagesUrl  Tags  \\\n",
       "1  \"https://cdn.staticsaa.com/uploads/68512/cart/...        NaN   NaN   \n",
       "2  \"https://cdn.staticsaa.com/uploads/68512/cart/...        NaN   NaN   \n",
       "3  \"https://cdn.staticsaa.com/uploads/68512/cart/...        NaN   NaN   \n",
       "4  \"https://cdn.staticsaa.com/uploads/68512/cart/...        NaN   NaN   \n",
       "\n",
       "                                             PageUrl  \\\n",
       "1  https://us-simmsfishing.shop/collections/wader...   \n",
       "2  https://us-simmsfishing.shop/collections/wader...   \n",
       "3  https://us-simmsfishing.shop/collections/wader...   \n",
       "4  https://us-simmsfishing.shop/collections/wader...   \n",
       "\n",
       "                                         Description  \n",
       "1  <div> <p>Built for anglers who demand the utmo...  \n",
       "2  <div> <p>No two anglers are built quite the sa...  \n",
       "3  <p>The highest-tech wading jacket on the water...  \n",
       "4  <div> <p>The ultimate cold-weather wader, the ...  "
      ]
     },
     "execution_count": 10,
     "metadata": {},
     "output_type": "execute_result"
    }
   ],
   "source": [
    "df[1:5]"
   ]
  },
  {
   "cell_type": "code",
   "execution_count": 11,
   "id": "f73bbebe",
   "metadata": {},
   "outputs": [
    {
     "data": {
      "application/vnd.microsoft.datawrangler.viewer.v0+json": {
       "columns": [
        {
         "name": "index",
         "rawType": "int64",
         "type": "integer"
        },
        {
         "name": "Name",
         "rawType": "object",
         "type": "string"
        },
        {
         "name": "SKU",
         "rawType": "object",
         "type": "string"
        }
       ],
       "conversionMethod": "pd.DataFrame",
       "ref": "9595b627-abc5-4e3b-aa71-df12f5fa3ecc",
       "rows": [
        [
         "0",
         "Selway Life Vest",
         "SK0000001-US"
        ],
        [
         "1",
         "M‘s G3 Guide Waders - Bootfoot - Vibram Sole",
         "SK0000002-US"
        ],
        [
         "2",
         "Wading Belt - 2\"",
         "SK0000003-US"
        ],
        [
         "3",
         "M‘s G4 PRO® Wading Jacket",
         "SK0000004-US"
        ],
        [
         "4",
         "M‘s Freestone Z Bootfoot Waders - Rubber Sole",
         "SK0000005-US"
        ],
        [
         "5",
         "M‘s G4Z Waders - Stockingfoot",
         "SK0000006-US"
        ],
        [
         "6",
         "M‘s G3 Guide Wading Jacket",
         "SK0000007-US"
        ],
        [
         "7",
         "Pro Nipper",
         "SK0000008-US"
        ],
        [
         "8",
         "Wading Staff",
         "SK0000009-US"
        ],
        [
         "9",
         "M‘s G4 PRO® Wading Jacket",
         "SK0000010-US"
        ],
        [
         "10",
         "M‘s G3 Guide Waders - Bootfoot - Felt Sole",
         "SK0000011-US"
        ],
        [
         "11",
         "Taco Wader Bag",
         "SK0000012-US"
        ],
        [
         "12",
         "Men‘s ProDry Fishing Jacket",
         "SK0000013-US"
        ],
        [
         "13",
         "Flyweight Backpack",
         "SK0000014-US"
        ],
        [
         "14",
         "Flyweight Vest Pack",
         "SK0000015-US"
        ],
        [
         "15",
         "Bugstopper SunShield Cap",
         "SK0000016-US"
        ],
        [
         "16",
         "M‘s Species T-Shirt",
         "SK0000017-US"
        ],
        [
         "17",
         "M‘s Trout Regiment Camo Fill T-Shirt",
         "SK0000018-US"
        ],
        [
         "18",
         "M‘s Superlight Shorts",
         "SK0000019-US"
        ],
        [
         "19",
         "Simms Pursuit Shoe",
         "SK0000020-US"
        ],
        [
         "20",
         "Dry Creek Tech Pouch",
         "SK0000021-US"
        ],
        [
         "21",
         "M‘s Solar Sombrero",
         "SK0000022-US"
        ],
        [
         "22",
         "Sharkfin Buckle",
         "SK0000023-US"
        ],
        [
         "23",
         "Super-Fly Patch",
         "SK0000024-US"
        ],
        [
         "24",
         "W‘s Wading Accessory Kit",
         "SK0000025-US"
        ],
        [
         "25",
         "M‘s Gravel Guards",
         "SK0000026-US"
        ],
        [
         "26",
         "BackMagic Wading Belt",
         "SK0000027-US"
        ],
        [
         "27",
         "Backsaver Wading Belt",
         "SK0000028-US"
        ],
        [
         "28",
         "Wading Drink Jacket",
         "SK0000029-US"
        ],
        [
         "29",
         "Tippet Tender Pocket",
         "SK0000030-US"
        ],
        [
         "30",
         "Neoprene Wading Belt",
         "SK0000031-US"
        ],
        [
         "31",
         "SIMMS Tippet Caddy",
         "SK0000032-US"
        ],
        [
         "32",
         "Guide Lanyard",
         "SK0000033-US"
        ],
        [
         "33",
         "M‘s Freestone® Wading Jacket",
         "SK0000034-US"
        ],
        [
         "34",
         "M‘s Guide Classic Wading Jacket",
         "SK0000035-US"
        ],
        [
         "35",
         "M‘s Bulkley Insulated Wading Jacket",
         "SK0000036-US"
        ],
        [
         "36",
         "W‘s G3 Guide Fishing Jacket",
         "SK0000037-US"
        ],
        [
         "37",
         "W‘s Freestone® Fishing Jacket",
         "SK0000038-US"
        ],
        [
         "38",
         "M‘s Merino Thermal OTC Socks",
         "SK0000039-US"
        ],
        [
         "39",
         "W‘s ExStream Pull-Over Insulated Hoody",
         "SK0000040-US"
        ],
        [
         "40",
         "GORE-TEX Infinium Neck Gaiter",
         "SK0000041-US"
        ],
        [
         "41",
         "M‘s Simms Challenger Insulated Jacket",
         "SK0000042-US"
        ],
        [
         "42",
         "Cardwell Trucker Hat",
         "SK0000043-US"
        ],
        [
         "43",
         "SIMMS Challenger Insulated Glove",
         "SK0000044-US"
        ],
        [
         "44",
         "Bulkley Insulated Hand Muff",
         "SK0000045-US"
        ],
        [
         "45",
         "Everyday Watchcap",
         "SK0000046-US"
        ],
        [
         "46",
         "M‘s Simms Challenger Fishing Jacket",
         "SK0000047-US"
        ],
        [
         "47",
         "M‘s GORE-TEX Infinium Flex Glove",
         "SK0000048-US"
        ],
        [
         "48",
         "M‘s Waypoints Rain Pant",
         "SK0000049-US"
        ],
        [
         "49",
         "USA Catch Trucker Hat",
         "SK0000050-US"
        ]
       ],
       "shape": {
        "columns": 2,
        "rows": 414
       }
      },
      "text/html": [
       "<div>\n",
       "<style scoped>\n",
       "    .dataframe tbody tr th:only-of-type {\n",
       "        vertical-align: middle;\n",
       "    }\n",
       "\n",
       "    .dataframe tbody tr th {\n",
       "        vertical-align: top;\n",
       "    }\n",
       "\n",
       "    .dataframe thead th {\n",
       "        text-align: right;\n",
       "    }\n",
       "</style>\n",
       "<table border=\"1\" class=\"dataframe\">\n",
       "  <thead>\n",
       "    <tr style=\"text-align: right;\">\n",
       "      <th></th>\n",
       "      <th>Name</th>\n",
       "      <th>SKU</th>\n",
       "    </tr>\n",
       "  </thead>\n",
       "  <tbody>\n",
       "    <tr>\n",
       "      <th>0</th>\n",
       "      <td>Selway Life Vest</td>\n",
       "      <td>SK0000001-US</td>\n",
       "    </tr>\n",
       "    <tr>\n",
       "      <th>1</th>\n",
       "      <td>M‘s G3 Guide Waders - Bootfoot - Vibram Sole</td>\n",
       "      <td>SK0000002-US</td>\n",
       "    </tr>\n",
       "    <tr>\n",
       "      <th>2</th>\n",
       "      <td>Wading Belt - 2\"</td>\n",
       "      <td>SK0000003-US</td>\n",
       "    </tr>\n",
       "    <tr>\n",
       "      <th>3</th>\n",
       "      <td>M‘s G4 PRO® Wading Jacket</td>\n",
       "      <td>SK0000004-US</td>\n",
       "    </tr>\n",
       "    <tr>\n",
       "      <th>4</th>\n",
       "      <td>M‘s Freestone Z Bootfoot Waders - Rubber Sole</td>\n",
       "      <td>SK0000005-US</td>\n",
       "    </tr>\n",
       "    <tr>\n",
       "      <th>...</th>\n",
       "      <td>...</td>\n",
       "      <td>...</td>\n",
       "    </tr>\n",
       "    <tr>\n",
       "      <th>409</th>\n",
       "      <td>M‘s Superlight Fishing Pants</td>\n",
       "      <td>SK0000410-US</td>\n",
       "    </tr>\n",
       "    <tr>\n",
       "      <th>410</th>\n",
       "      <td>M‘s Simms Challenger Solar Half Zip</td>\n",
       "      <td>SK0000411-US</td>\n",
       "    </tr>\n",
       "    <tr>\n",
       "      <th>411</th>\n",
       "      <td>M‘s Simms Challenger Solar Hoody</td>\n",
       "      <td>SK0000412-US</td>\n",
       "    </tr>\n",
       "    <tr>\n",
       "      <th>412</th>\n",
       "      <td>M‘s BugStopper® Hoody</td>\n",
       "      <td>SK0000413-US</td>\n",
       "    </tr>\n",
       "    <tr>\n",
       "      <th>413</th>\n",
       "      <td>M‘s Confluence Stockingfoot Waders</td>\n",
       "      <td>SK0000414-US</td>\n",
       "    </tr>\n",
       "  </tbody>\n",
       "</table>\n",
       "<p>414 rows × 2 columns</p>\n",
       "</div>"
      ],
      "text/plain": [
       "                                              Name           SKU\n",
       "0                                 Selway Life Vest  SK0000001-US\n",
       "1     M‘s G3 Guide Waders - Bootfoot - Vibram Sole  SK0000002-US\n",
       "2                                 Wading Belt - 2\"  SK0000003-US\n",
       "3                        M‘s G4 PRO® Wading Jacket  SK0000004-US\n",
       "4    M‘s Freestone Z Bootfoot Waders - Rubber Sole  SK0000005-US\n",
       "..                                             ...           ...\n",
       "409                   M‘s Superlight Fishing Pants  SK0000410-US\n",
       "410            M‘s Simms Challenger Solar Half Zip  SK0000411-US\n",
       "411               M‘s Simms Challenger Solar Hoody  SK0000412-US\n",
       "412                          M‘s BugStopper® Hoody  SK0000413-US\n",
       "413             M‘s Confluence Stockingfoot Waders  SK0000414-US\n",
       "\n",
       "[414 rows x 2 columns]"
      ]
     },
     "execution_count": 11,
     "metadata": {},
     "output_type": "execute_result"
    }
   ],
   "source": [
    "df[['Name',\"SKU\"]]"
   ]
  },
  {
   "cell_type": "code",
   "execution_count": 12,
   "id": "a8a3c7ea",
   "metadata": {},
   "outputs": [],
   "source": [
    "import pandas as pd\n",
    "\n",
    "# 创建示例DataFrame\n",
    "data = {\n",
    "    '姓名': ['张三', '李四', '王五', '赵六', '钱七'],\n",
    "    '年龄': [25, 30, 35, 28, 32],\n",
    "    '城市': ['北京', '上海', '广州', '深圳', '北京'],\n",
    "    '薪资': [15000, 20000, 25000, 18000, 22000]\n",
    "}\n",
    "df = pd.DataFrame(data)\n"
   ]
  },
  {
   "cell_type": "code",
   "execution_count": null,
   "id": "6144147e",
   "metadata": {},
   "outputs": [],
   "source": []
  }
 ],
 "metadata": {
  "kernelspec": {
   "display_name": "base",
   "language": "python",
   "name": "python3"
  },
  "language_info": {
   "codemirror_mode": {
    "name": "ipython",
    "version": 3
   },
   "file_extension": ".py",
   "mimetype": "text/x-python",
   "name": "python",
   "nbconvert_exporter": "python",
   "pygments_lexer": "ipython3",
   "version": "3.12.7"
  }
 },
 "nbformat": 4,
 "nbformat_minor": 5
}
